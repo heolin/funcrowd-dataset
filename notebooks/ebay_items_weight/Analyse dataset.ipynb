{
 "cells": [
  {
   "cell_type": "code",
   "execution_count": 1,
   "metadata": {},
   "outputs": [],
   "source": [
    "import sys\n",
    "sys.path.insert(0, '../..')\n",
    "\n",
    "# general\n",
    "import ast\n",
    "import pandas as pd\n",
    "import seaborn as sns\n",
    "import matplotlib.pyplot as plt\n",
    "import warnings\n",
    "\n",
    "sns.set()\n",
    "warnings.filterwarnings(\"ignore\")\n",
    "\n",
    "# local\n",
    "from sklearn_crfsuite import metrics\n",
    "from core.stats import Statistics\n",
    "from core.utils import load_dataset, format_number\n",
    "from core.plots import plot_histogram, plot_learning_curve\n",
    "from core.learning import LearningAnalyser\n",
    "from core.reports import (\n",
    "    compute_user_error,\n",
    "    generate_comparison_report,\n",
    "    generate_test_groups_comparison_report,\n",
    "    generate_learning_report\n",
    ")\n",
    "from core.dataset import DatasetAnalyser, DatasetGroup\n",
    "\n",
    "from sklearn.metrics import (\n",
    "    accuracy_score, precision_score, recall_score, f1_score\n",
    ")\n",
    "\n",
    "from core.latex import create_latex_tables_generator\n",
    "\n",
    "import numpy as np\n",
    "np.random.seed(3453562)"
   ]
  },
  {
   "cell_type": "markdown",
   "metadata": {},
   "source": [
    "# 1. General statistics\n",
    "## 1.1. Read data"
   ]
  },
  {
   "cell_type": "code",
   "execution_count": 2,
   "metadata": {},
   "outputs": [],
   "source": [
    "df = load_dataset('../../data/ebay_items_weight/ebay_items_weight-dataset.csv')"
   ]
  },
  {
   "cell_type": "markdown",
   "metadata": {},
   "source": [
    "## 1.2. Statistics"
   ]
  },
  {
   "cell_type": "code",
   "execution_count": 3,
   "metadata": {},
   "outputs": [],
   "source": [
    "stats = Statistics(df)"
   ]
  },
  {
   "cell_type": "markdown",
   "metadata": {},
   "source": [
    "### 1.2.1. General"
   ]
  },
  {
   "cell_type": "code",
   "execution_count": 4,
   "metadata": {},
   "outputs": [
    {
     "data": {
      "text/html": [
       "<div>\n",
       "<style scoped>\n",
       "    .dataframe tbody tr th:only-of-type {\n",
       "        vertical-align: middle;\n",
       "    }\n",
       "\n",
       "    .dataframe tbody tr th {\n",
       "        vertical-align: top;\n",
       "    }\n",
       "\n",
       "    .dataframe thead th {\n",
       "        text-align: right;\n",
       "    }\n",
       "</style>\n",
       "<table border=\"1\" class=\"dataframe\">\n",
       "  <thead>\n",
       "    <tr style=\"text-align: right;\">\n",
       "      <th></th>\n",
       "      <th>value</th>\n",
       "    </tr>\n",
       "    <tr>\n",
       "      <th>metric</th>\n",
       "      <th></th>\n",
       "    </tr>\n",
       "  </thead>\n",
       "  <tbody>\n",
       "    <tr>\n",
       "      <th>total_annotations</th>\n",
       "      <td>9387</td>\n",
       "    </tr>\n",
       "    <tr>\n",
       "      <th>unique_items</th>\n",
       "      <td>1017</td>\n",
       "    </tr>\n",
       "    <tr>\n",
       "      <th>unique_users</th>\n",
       "      <td>178</td>\n",
       "    </tr>\n",
       "    <tr>\n",
       "      <th>total_annotation_time</th>\n",
       "      <td>07h 45m 51s</td>\n",
       "    </tr>\n",
       "  </tbody>\n",
       "</table>\n",
       "</div>"
      ],
      "text/plain": [
       "                             value\n",
       "metric                            \n",
       "total_annotations             9387\n",
       "unique_items                  1017\n",
       "unique_users                   178\n",
       "total_annotation_time  07h 45m 51s"
      ]
     },
     "execution_count": 4,
     "metadata": {},
     "output_type": "execute_result"
    }
   ],
   "source": [
    "stats.general"
   ]
  },
  {
   "cell_type": "markdown",
   "metadata": {},
   "source": [
    "### 1.2.2. Annotations per item"
   ]
  },
  {
   "cell_type": "code",
   "execution_count": 5,
   "metadata": {
    "scrolled": true
   },
   "outputs": [
    {
     "data": {
      "text/html": [
       "<div>\n",
       "<style scoped>\n",
       "    .dataframe tbody tr th:only-of-type {\n",
       "        vertical-align: middle;\n",
       "    }\n",
       "\n",
       "    .dataframe tbody tr th {\n",
       "        vertical-align: top;\n",
       "    }\n",
       "\n",
       "    .dataframe thead th {\n",
       "        text-align: right;\n",
       "    }\n",
       "</style>\n",
       "<table border=\"1\" class=\"dataframe\">\n",
       "  <thead>\n",
       "    <tr style=\"text-align: right;\">\n",
       "      <th></th>\n",
       "      <th>data__item_id</th>\n",
       "    </tr>\n",
       "  </thead>\n",
       "  <tbody>\n",
       "    <tr>\n",
       "      <th>count</th>\n",
       "      <td>1017.000000</td>\n",
       "    </tr>\n",
       "    <tr>\n",
       "      <th>mean</th>\n",
       "      <td>9.230088</td>\n",
       "    </tr>\n",
       "    <tr>\n",
       "      <th>std</th>\n",
       "      <td>11.707061</td>\n",
       "    </tr>\n",
       "    <tr>\n",
       "      <th>min</th>\n",
       "      <td>2.000000</td>\n",
       "    </tr>\n",
       "    <tr>\n",
       "      <th>25%</th>\n",
       "      <td>5.000000</td>\n",
       "    </tr>\n",
       "    <tr>\n",
       "      <th>50%</th>\n",
       "      <td>7.000000</td>\n",
       "    </tr>\n",
       "    <tr>\n",
       "      <th>75%</th>\n",
       "      <td>10.000000</td>\n",
       "    </tr>\n",
       "    <tr>\n",
       "      <th>max</th>\n",
       "      <td>181.000000</td>\n",
       "    </tr>\n",
       "  </tbody>\n",
       "</table>\n",
       "</div>"
      ],
      "text/plain": [
       "       data__item_id\n",
       "count    1017.000000\n",
       "mean        9.230088\n",
       "std        11.707061\n",
       "min         2.000000\n",
       "25%         5.000000\n",
       "50%         7.000000\n",
       "75%        10.000000\n",
       "max       181.000000"
      ]
     },
     "execution_count": 5,
     "metadata": {},
     "output_type": "execute_result"
    }
   ],
   "source": [
    "stats.annotations_per_item"
   ]
  },
  {
   "cell_type": "markdown",
   "metadata": {},
   "source": [
    "### 1.2.3. Annotations per user"
   ]
  },
  {
   "cell_type": "code",
   "execution_count": 6,
   "metadata": {},
   "outputs": [
    {
     "data": {
      "text/html": [
       "<div>\n",
       "<style scoped>\n",
       "    .dataframe tbody tr th:only-of-type {\n",
       "        vertical-align: middle;\n",
       "    }\n",
       "\n",
       "    .dataframe tbody tr th {\n",
       "        vertical-align: top;\n",
       "    }\n",
       "\n",
       "    .dataframe thead th {\n",
       "        text-align: right;\n",
       "    }\n",
       "</style>\n",
       "<table border=\"1\" class=\"dataframe\">\n",
       "  <thead>\n",
       "    <tr style=\"text-align: right;\">\n",
       "      <th></th>\n",
       "      <th>user__id</th>\n",
       "    </tr>\n",
       "  </thead>\n",
       "  <tbody>\n",
       "    <tr>\n",
       "      <th>count</th>\n",
       "      <td>178.000000</td>\n",
       "    </tr>\n",
       "    <tr>\n",
       "      <th>mean</th>\n",
       "      <td>52.735955</td>\n",
       "    </tr>\n",
       "    <tr>\n",
       "      <th>std</th>\n",
       "      <td>50.187816</td>\n",
       "    </tr>\n",
       "    <tr>\n",
       "      <th>min</th>\n",
       "      <td>11.000000</td>\n",
       "    </tr>\n",
       "    <tr>\n",
       "      <th>25%</th>\n",
       "      <td>50.000000</td>\n",
       "    </tr>\n",
       "    <tr>\n",
       "      <th>50%</th>\n",
       "      <td>50.000000</td>\n",
       "    </tr>\n",
       "    <tr>\n",
       "      <th>75%</th>\n",
       "      <td>50.000000</td>\n",
       "    </tr>\n",
       "    <tr>\n",
       "      <th>max</th>\n",
       "      <td>650.000000</td>\n",
       "    </tr>\n",
       "  </tbody>\n",
       "</table>\n",
       "</div>"
      ],
      "text/plain": [
       "         user__id\n",
       "count  178.000000\n",
       "mean    52.735955\n",
       "std     50.187816\n",
       "min     11.000000\n",
       "25%     50.000000\n",
       "50%     50.000000\n",
       "75%     50.000000\n",
       "max    650.000000"
      ]
     },
     "execution_count": 6,
     "metadata": {},
     "output_type": "execute_result"
    }
   ],
   "source": [
    "stats.annotations_per_user"
   ]
  },
  {
   "cell_type": "markdown",
   "metadata": {},
   "source": [
    "### 1.2.4. Average annotation time over time"
   ]
  },
  {
   "cell_type": "code",
   "execution_count": 7,
   "metadata": {},
   "outputs": [
    {
     "data": {
      "text/html": [
       "<div>\n",
       "<style scoped>\n",
       "    .dataframe tbody tr th:only-of-type {\n",
       "        vertical-align: middle;\n",
       "    }\n",
       "\n",
       "    .dataframe tbody tr th {\n",
       "        vertical-align: top;\n",
       "    }\n",
       "\n",
       "    .dataframe thead th {\n",
       "        text-align: right;\n",
       "    }\n",
       "</style>\n",
       "<table border=\"1\" class=\"dataframe\">\n",
       "  <thead>\n",
       "    <tr style=\"text-align: right;\">\n",
       "      <th></th>\n",
       "      <th>value</th>\n",
       "    </tr>\n",
       "    <tr>\n",
       "      <th>index</th>\n",
       "      <th></th>\n",
       "    </tr>\n",
       "  </thead>\n",
       "  <tbody>\n",
       "    <tr>\n",
       "      <th>10</th>\n",
       "      <td>13.832898</td>\n",
       "    </tr>\n",
       "    <tr>\n",
       "      <th>20</th>\n",
       "      <td>11.905489</td>\n",
       "    </tr>\n",
       "    <tr>\n",
       "      <th>30</th>\n",
       "      <td>12.890960</td>\n",
       "    </tr>\n",
       "    <tr>\n",
       "      <th>40</th>\n",
       "      <td>11.556645</td>\n",
       "    </tr>\n",
       "    <tr>\n",
       "      <th>60</th>\n",
       "      <td>10.419404</td>\n",
       "    </tr>\n",
       "    <tr>\n",
       "      <th>70</th>\n",
       "      <td>8.714276</td>\n",
       "    </tr>\n",
       "    <tr>\n",
       "      <th>80</th>\n",
       "      <td>13.380433</td>\n",
       "    </tr>\n",
       "    <tr>\n",
       "      <th>90</th>\n",
       "      <td>8.751830</td>\n",
       "    </tr>\n",
       "  </tbody>\n",
       "</table>\n",
       "</div>"
      ],
      "text/plain": [
       "           value\n",
       "index           \n",
       "10     13.832898\n",
       "20     11.905489\n",
       "30     12.890960\n",
       "40     11.556645\n",
       "60     10.419404\n",
       "70      8.714276\n",
       "80     13.380433\n",
       "90      8.751830"
      ]
     },
     "execution_count": 7,
     "metadata": {},
     "output_type": "execute_result"
    },
    {
     "data": {
      "image/png": "[encoded data removed]",
      "text/plain": [
       "<Figure size 1000x500 with 1 Axes>"
      ]
     },
     "metadata": {},
     "output_type": "display_data"
    }
   ],
   "source": [
    "plt.figure(figsize=(10, 5))\n",
    "plt.title(\"Average time of annotation over time\", fontsize=16)\n",
    "df_times = stats.average_time_per_annotation\n",
    "df_times['value'].plot()\n",
    "df_times[df_times.index % 10 == 0]"
   ]
  },
  {
   "cell_type": "markdown",
   "metadata": {},
   "source": [
    "# 2. Confidence intervals\n",
    "## 2.1. Compute user's annotation quality metrics\n",
    "- In this section we aggregate the raw result to compute the quality metrics value per user\n",
    "- To measure the quality of user's annotation we use: accuracy, recall, f1 and precision metrics\n",
    "- Mean error is computed for each user in each test_group separately.<br/>\n",
    "This way we can check how each user did in each test conditions"
   ]
  },
  {
   "cell_type": "code",
   "execution_count": 8,
   "metadata": {},
   "outputs": [],
   "source": [
    "METRICS_COLUMNS = [\"me\", \"mae\", \"mse\", \"annotation_time\", \"count\"]"
   ]
  },
  {
   "cell_type": "code",
   "execution_count": 9,
   "metadata": {},
   "outputs": [],
   "source": [
    "def metrics_function(y_true: pd.Series, y_pred: pd.Series):\n",
    "    return {\n",
    "        \"mae\": (y_true - y_pred).abs().mean(),\n",
    "        \"mse\": (y_true - y_pred).pow(2).mean(),\n",
    "        \"me\": (y_true - y_pred).mean()\n",
    "    }\n",
    "  \n",
    "    \n",
    "df_user_error = compute_user_error(df, metrics_function)"
   ]
  },
  {
   "cell_type": "markdown",
   "metadata": {},
   "source": [
    "## 2.2. Compute confidence intervals for test groups\n",
    "In this section we compute the confidence intervals for the percentage quality change between the control group and each of the test groups."
   ]
  },
  {
   "cell_type": "code",
   "execution_count": 10,
   "metadata": {},
   "outputs": [],
   "source": [
    "dataset = DatasetAnalyser(df_user_error, METRICS_COLUMNS)"
   ]
  },
  {
   "cell_type": "markdown",
   "metadata": {},
   "source": [
    "### 2.2.1. Compering: test groups vs control group"
   ]
  },
  {
   "cell_type": "code",
   "execution_count": 11,
   "metadata": {},
   "outputs": [],
   "source": [
    "df_ci_h1, df_percentage_ci_h1, df_p_value_h1, df_cohen_d_h1 = generate_comparison_report(dataset)"
   ]
  },
  {
   "cell_type": "markdown",
   "metadata": {},
   "source": [
    "#### Confidence intervals"
   ]
  },
  {
   "cell_type": "code",
   "execution_count": 12,
   "metadata": {},
   "outputs": [
    {
     "data": {
      "text/html": [
       "<div>\n",
       "<style scoped>\n",
       "    .dataframe tbody tr th:only-of-type {\n",
       "        vertical-align: middle;\n",
       "    }\n",
       "\n",
       "    .dataframe tbody tr th {\n",
       "        vertical-align: top;\n",
       "    }\n",
       "\n",
       "    .dataframe thead th {\n",
       "        text-align: right;\n",
       "    }\n",
       "</style>\n",
       "<table border=\"1\" class=\"dataframe\">\n",
       "  <thead>\n",
       "    <tr style=\"text-align: right;\">\n",
       "      <th></th>\n",
       "      <th></th>\n",
       "      <th>me</th>\n",
       "      <th>mae</th>\n",
       "      <th>mse</th>\n",
       "      <th>annotation_time</th>\n",
       "      <th>count</th>\n",
       "    </tr>\n",
       "    <tr>\n",
       "      <th>group_name</th>\n",
       "      <th>quantile</th>\n",
       "      <th></th>\n",
       "      <th></th>\n",
       "      <th></th>\n",
       "      <th></th>\n",
       "      <th></th>\n",
       "    </tr>\n",
       "  </thead>\n",
       "  <tbody>\n",
       "    <tr>\n",
       "      <th rowspan=\"3\" valign=\"top\">high quality feedback</th>\n",
       "      <th>0.05</th>\n",
       "      <td>-590.562761</td>\n",
       "      <td>-197.273063</td>\n",
       "      <td>-1.627416e+06</td>\n",
       "      <td>-4.421713</td>\n",
       "      <td>-2.677317</td>\n",
       "    </tr>\n",
       "    <tr>\n",
       "      <th>0.5</th>\n",
       "      <td>-466.049544</td>\n",
       "      <td>-123.583201</td>\n",
       "      <td>-9.710294e+05</td>\n",
       "      <td>-1.969176</td>\n",
       "      <td>3.679581</td>\n",
       "    </tr>\n",
       "    <tr>\n",
       "      <th>0.95</th>\n",
       "      <td>-333.115109</td>\n",
       "      <td>-45.594974</td>\n",
       "      <td>-3.211465e+05</td>\n",
       "      <td>0.605754</td>\n",
       "      <td>10.369873</td>\n",
       "    </tr>\n",
       "    <tr>\n",
       "      <th rowspan=\"3\" valign=\"top\">low quality feedback</th>\n",
       "      <th>0.05</th>\n",
       "      <td>-544.971504</td>\n",
       "      <td>-125.806185</td>\n",
       "      <td>-9.518621e+05</td>\n",
       "      <td>0.453339</td>\n",
       "      <td>-10.803922</td>\n",
       "    </tr>\n",
       "    <tr>\n",
       "      <th>0.5</th>\n",
       "      <td>-322.069247</td>\n",
       "      <td>3.703465</td>\n",
       "      <td>-1.847880e+04</td>\n",
       "      <td>4.267262</td>\n",
       "      <td>-4.049281</td>\n",
       "    </tr>\n",
       "    <tr>\n",
       "      <th>0.95</th>\n",
       "      <td>-95.143790</td>\n",
       "      <td>129.163331</td>\n",
       "      <td>8.572355e+05</td>\n",
       "      <td>8.205376</td>\n",
       "      <td>2.918301</td>\n",
       "    </tr>\n",
       "    <tr>\n",
       "      <th rowspan=\"3\" valign=\"top\">medium quality feedback</th>\n",
       "      <th>0.05</th>\n",
       "      <td>-57.266084</td>\n",
       "      <td>-244.538153</td>\n",
       "      <td>-1.604777e+06</td>\n",
       "      <td>-2.340280</td>\n",
       "      <td>-0.375758</td>\n",
       "    </tr>\n",
       "    <tr>\n",
       "      <th>0.5</th>\n",
       "      <td>101.277914</td>\n",
       "      <td>-87.784009</td>\n",
       "      <td>-5.487887e+05</td>\n",
       "      <td>1.342257</td>\n",
       "      <td>25.228545</td>\n",
       "    </tr>\n",
       "    <tr>\n",
       "      <th>0.95</th>\n",
       "      <td>270.025367</td>\n",
       "      <td>57.079435</td>\n",
       "      <td>4.014584e+05</td>\n",
       "      <td>5.080040</td>\n",
       "      <td>65.272727</td>\n",
       "    </tr>\n",
       "  </tbody>\n",
       "</table>\n",
       "</div>"
      ],
      "text/plain": [
       "                                          me         mae           mse  \\\n",
       "group_name              quantile                                         \n",
       "high quality feedback   0.05     -590.562761 -197.273063 -1.627416e+06   \n",
       "                        0.5      -466.049544 -123.583201 -9.710294e+05   \n",
       "                        0.95     -333.115109  -45.594974 -3.211465e+05   \n",
       "low quality feedback    0.05     -544.971504 -125.806185 -9.518621e+05   \n",
       "                        0.5      -322.069247    3.703465 -1.847880e+04   \n",
       "                        0.95      -95.143790  129.163331  8.572355e+05   \n",
       "medium quality feedback 0.05      -57.266084 -244.538153 -1.604777e+06   \n",
       "                        0.5       101.277914  -87.784009 -5.487887e+05   \n",
       "                        0.95      270.025367   57.079435  4.014584e+05   \n",
       "\n",
       "                                  annotation_time      count  \n",
       "group_name              quantile                              \n",
       "high quality feedback   0.05            -4.421713  -2.677317  \n",
       "                        0.5             -1.969176   3.679581  \n",
       "                        0.95             0.605754  10.369873  \n",
       "low quality feedback    0.05             0.453339 -10.803922  \n",
       "                        0.5              4.267262  -4.049281  \n",
       "                        0.95             8.205376   2.918301  \n",
       "medium quality feedback 0.05            -2.340280  -0.375758  \n",
       "                        0.5              1.342257  25.228545  \n",
       "                        0.95             5.080040  65.272727  "
      ]
     },
     "execution_count": 12,
     "metadata": {},
     "output_type": "execute_result"
    }
   ],
   "source": [
    "df_ci_h1"
   ]
  },
  {
   "cell_type": "markdown",
   "metadata": {},
   "source": [
    "#### Percentage confidence intervals"
   ]
  },
  {
   "cell_type": "code",
   "execution_count": 13,
   "metadata": {},
   "outputs": [
    {
     "data": {
      "text/html": [
       "<div>\n",
       "<style scoped>\n",
       "    .dataframe tbody tr th:only-of-type {\n",
       "        vertical-align: middle;\n",
       "    }\n",
       "\n",
       "    .dataframe tbody tr th {\n",
       "        vertical-align: top;\n",
       "    }\n",
       "\n",
       "    .dataframe thead th {\n",
       "        text-align: right;\n",
       "    }\n",
       "</style>\n",
       "<table border=\"1\" class=\"dataframe\">\n",
       "  <thead>\n",
       "    <tr style=\"text-align: right;\">\n",
       "      <th></th>\n",
       "      <th></th>\n",
       "      <th>me</th>\n",
       "      <th>mae</th>\n",
       "      <th>mse</th>\n",
       "      <th>annotation_time</th>\n",
       "      <th>count</th>\n",
       "    </tr>\n",
       "    <tr>\n",
       "      <th>group_name</th>\n",
       "      <th>quantile</th>\n",
       "      <th></th>\n",
       "      <th></th>\n",
       "      <th></th>\n",
       "      <th></th>\n",
       "      <th></th>\n",
       "    </tr>\n",
       "  </thead>\n",
       "  <tbody>\n",
       "    <tr>\n",
       "      <th rowspan=\"3\" valign=\"top\">high quality feedback</th>\n",
       "      <th>0.05</th>\n",
       "      <td>-0.787591</td>\n",
       "      <td>-0.194026</td>\n",
       "      <td>-0.425974</td>\n",
       "      <td>-0.327123</td>\n",
       "      <td>-0.055502</td>\n",
       "    </tr>\n",
       "    <tr>\n",
       "      <th>0.5</th>\n",
       "      <td>-0.621537</td>\n",
       "      <td>-0.121549</td>\n",
       "      <td>-0.254166</td>\n",
       "      <td>-0.145682</td>\n",
       "      <td>0.076280</td>\n",
       "    </tr>\n",
       "    <tr>\n",
       "      <th>0.95</th>\n",
       "      <td>-0.444252</td>\n",
       "      <td>-0.044844</td>\n",
       "      <td>-0.084060</td>\n",
       "      <td>0.044814</td>\n",
       "      <td>0.214973</td>\n",
       "    </tr>\n",
       "    <tr>\n",
       "      <th rowspan=\"3\" valign=\"top\">low quality feedback</th>\n",
       "      <th>0.05</th>\n",
       "      <td>-2.840403</td>\n",
       "      <td>-0.112994</td>\n",
       "      <td>-0.239988</td>\n",
       "      <td>0.034428</td>\n",
       "      <td>-0.238838</td>\n",
       "    </tr>\n",
       "    <tr>\n",
       "      <th>0.5</th>\n",
       "      <td>-1.678632</td>\n",
       "      <td>0.003326</td>\n",
       "      <td>-0.004659</td>\n",
       "      <td>0.324065</td>\n",
       "      <td>-0.089516</td>\n",
       "    </tr>\n",
       "    <tr>\n",
       "      <th>0.95</th>\n",
       "      <td>-0.495891</td>\n",
       "      <td>0.116010</td>\n",
       "      <td>0.216130</td>\n",
       "      <td>0.623135</td>\n",
       "      <td>0.064514</td>\n",
       "    </tr>\n",
       "    <tr>\n",
       "      <th rowspan=\"3\" valign=\"top\">medium quality feedback</th>\n",
       "      <th>0.05</th>\n",
       "      <td>1.209988</td>\n",
       "      <td>-0.243747</td>\n",
       "      <td>-0.453749</td>\n",
       "      <td>-0.175995</td>\n",
       "      <td>-0.008350</td>\n",
       "    </tr>\n",
       "    <tr>\n",
       "      <th>0.5</th>\n",
       "      <td>-2.139923</td>\n",
       "      <td>-0.087500</td>\n",
       "      <td>-0.155169</td>\n",
       "      <td>0.100941</td>\n",
       "      <td>0.560634</td>\n",
       "    </tr>\n",
       "    <tr>\n",
       "      <th>0.95</th>\n",
       "      <td>-5.705425</td>\n",
       "      <td>0.056895</td>\n",
       "      <td>0.113512</td>\n",
       "      <td>0.382031</td>\n",
       "      <td>1.450505</td>\n",
       "    </tr>\n",
       "  </tbody>\n",
       "</table>\n",
       "</div>"
      ],
      "text/plain": [
       "                                        me       mae       mse  \\\n",
       "group_name              quantile                                 \n",
       "high quality feedback   0.05     -0.787591 -0.194026 -0.425974   \n",
       "                        0.5      -0.621537 -0.121549 -0.254166   \n",
       "                        0.95     -0.444252 -0.044844 -0.084060   \n",
       "low quality feedback    0.05     -2.840403 -0.112994 -0.239988   \n",
       "                        0.5      -1.678632  0.003326 -0.004659   \n",
       "                        0.95     -0.495891  0.116010  0.216130   \n",
       "medium quality feedback 0.05      1.209988 -0.243747 -0.453749   \n",
       "                        0.5      -2.139923 -0.087500 -0.155169   \n",
       "                        0.95     -5.705425  0.056895  0.113512   \n",
       "\n",
       "                                  annotation_time     count  \n",
       "group_name              quantile                             \n",
       "high quality feedback   0.05            -0.327123 -0.055502  \n",
       "                        0.5             -0.145682  0.076280  \n",
       "                        0.95             0.044814  0.214973  \n",
       "low quality feedback    0.05             0.034428 -0.238838  \n",
       "                        0.5              0.324065 -0.089516  \n",
       "                        0.95             0.623135  0.064514  \n",
       "medium quality feedback 0.05            -0.175995 -0.008350  \n",
       "                        0.5              0.100941  0.560634  \n",
       "                        0.95             0.382031  1.450505  "
      ]
     },
     "execution_count": 13,
     "metadata": {},
     "output_type": "execute_result"
    }
   ],
   "source": [
    "df_percentage_ci_h1"
   ]
  },
  {
   "cell_type": "markdown",
   "metadata": {},
   "source": [
    "#### p-value"
   ]
  },
  {
   "cell_type": "code",
   "execution_count": 14,
   "metadata": {},
   "outputs": [
    {
     "data": {
      "text/html": [
       "<div>\n",
       "<style scoped>\n",
       "    .dataframe tbody tr th:only-of-type {\n",
       "        vertical-align: middle;\n",
       "    }\n",
       "\n",
       "    .dataframe tbody tr th {\n",
       "        vertical-align: top;\n",
       "    }\n",
       "\n",
       "    .dataframe thead th {\n",
       "        text-align: right;\n",
       "    }\n",
       "</style>\n",
       "<table border=\"1\" class=\"dataframe\">\n",
       "  <thead>\n",
       "    <tr style=\"text-align: right;\">\n",
       "      <th></th>\n",
       "      <th>me</th>\n",
       "      <th>mae</th>\n",
       "      <th>mse</th>\n",
       "      <th>annotation_time</th>\n",
       "      <th>count</th>\n",
       "      <th>group_name</th>\n",
       "    </tr>\n",
       "  </thead>\n",
       "  <tbody>\n",
       "    <tr>\n",
       "      <th>0</th>\n",
       "      <td>0.0000</td>\n",
       "      <td>0.0045</td>\n",
       "      <td>0.0050</td>\n",
       "      <td>0.1017</td>\n",
       "      <td>0.8264</td>\n",
       "      <td>high quality feedback</td>\n",
       "    </tr>\n",
       "    <tr>\n",
       "      <th>0</th>\n",
       "      <td>0.0115</td>\n",
       "      <td>0.5254</td>\n",
       "      <td>0.4970</td>\n",
       "      <td>0.9676</td>\n",
       "      <td>0.1649</td>\n",
       "      <td>low quality feedback</td>\n",
       "    </tr>\n",
       "    <tr>\n",
       "      <th>0</th>\n",
       "      <td>0.8524</td>\n",
       "      <td>0.1850</td>\n",
       "      <td>0.1869</td>\n",
       "      <td>0.7240</td>\n",
       "      <td>0.9397</td>\n",
       "      <td>medium quality feedback</td>\n",
       "    </tr>\n",
       "  </tbody>\n",
       "</table>\n",
       "</div>"
      ],
      "text/plain": [
       "       me     mae     mse  annotation_time   count               group_name\n",
       "0  0.0000  0.0045  0.0050           0.1017  0.8264    high quality feedback\n",
       "0  0.0115  0.5254  0.4970           0.9676  0.1649     low quality feedback\n",
       "0  0.8524  0.1850  0.1869           0.7240  0.9397  medium quality feedback"
      ]
     },
     "execution_count": 14,
     "metadata": {},
     "output_type": "execute_result"
    }
   ],
   "source": [
    "df_p_value_h1"
   ]
  },
  {
   "cell_type": "markdown",
   "metadata": {},
   "source": [
    "#### Cohen's D"
   ]
  },
  {
   "cell_type": "code",
   "execution_count": 15,
   "metadata": {},
   "outputs": [
    {
     "data": {
      "text/html": [
       "<div>\n",
       "<style scoped>\n",
       "    .dataframe tbody tr th:only-of-type {\n",
       "        vertical-align: middle;\n",
       "    }\n",
       "\n",
       "    .dataframe tbody tr th {\n",
       "        vertical-align: top;\n",
       "    }\n",
       "\n",
       "    .dataframe thead th {\n",
       "        text-align: right;\n",
       "    }\n",
       "</style>\n",
       "<table border=\"1\" class=\"dataframe\">\n",
       "  <thead>\n",
       "    <tr style=\"text-align: right;\">\n",
       "      <th></th>\n",
       "      <th>me</th>\n",
       "      <th>mae</th>\n",
       "      <th>mse</th>\n",
       "      <th>annotation_time</th>\n",
       "      <th>count</th>\n",
       "      <th>group_name</th>\n",
       "    </tr>\n",
       "  </thead>\n",
       "  <tbody>\n",
       "    <tr>\n",
       "      <th>0</th>\n",
       "      <td>-1.092842</td>\n",
       "      <td>-0.476265</td>\n",
       "      <td>-0.444544</td>\n",
       "      <td>-0.264038</td>\n",
       "      <td>0.186825</td>\n",
       "      <td>high quality feedback</td>\n",
       "    </tr>\n",
       "    <tr>\n",
       "      <th>0</th>\n",
       "      <td>-0.754419</td>\n",
       "      <td>0.014461</td>\n",
       "      <td>-0.009986</td>\n",
       "      <td>0.544506</td>\n",
       "      <td>-0.283981</td>\n",
       "      <td>low quality feedback</td>\n",
       "    </tr>\n",
       "    <tr>\n",
       "      <th>0</th>\n",
       "      <td>0.351252</td>\n",
       "      <td>-0.357770</td>\n",
       "      <td>-0.346063</td>\n",
       "      <td>0.185382</td>\n",
       "      <td>0.300753</td>\n",
       "      <td>medium quality feedback</td>\n",
       "    </tr>\n",
       "  </tbody>\n",
       "</table>\n",
       "</div>"
      ],
      "text/plain": [
       "         me       mae       mse  annotation_time     count  \\\n",
       "0 -1.092842 -0.476265 -0.444544        -0.264038  0.186825   \n",
       "0 -0.754419  0.014461 -0.009986         0.544506 -0.283981   \n",
       "0  0.351252 -0.357770 -0.346063         0.185382  0.300753   \n",
       "\n",
       "                group_name  \n",
       "0    high quality feedback  \n",
       "0     low quality feedback  \n",
       "0  medium quality feedback  "
      ]
     },
     "execution_count": 15,
     "metadata": {},
     "output_type": "execute_result"
    }
   ],
   "source": [
    "df_cohen_d_h1"
   ]
  },
  {
   "cell_type": "markdown",
   "metadata": {},
   "source": [
    "#### Ploting histograms for the difference: test groups vs control group"
   ]
  },
  {
   "cell_type": "code",
   "execution_count": 16,
   "metadata": {},
   "outputs": [
    {
     "data": {
      "image/png": "[encoded data removed]",
      "text/plain": [
       "<Figure size 1200x800 with 3 Axes>"
      ]
     },
     "metadata": {},
     "output_type": "display_data"
    }
   ],
   "source": [
    "metric_index = 1\n",
    "plot_histogram(dataset, metric_index)"
   ]
  },
  {
   "cell_type": "markdown",
   "metadata": {},
   "source": [
    "### 2.2.2. Comparing: test groups with each other"
   ]
  },
  {
   "cell_type": "code",
   "execution_count": 17,
   "metadata": {},
   "outputs": [],
   "source": [
    "df_ci_h2, df_p_value_h2, df_cohen_d_h2 = generate_test_groups_comparison_report(dataset)"
   ]
  },
  {
   "cell_type": "markdown",
   "metadata": {},
   "source": [
    "#### Confidence interval"
   ]
  },
  {
   "cell_type": "code",
   "execution_count": 18,
   "metadata": {},
   "outputs": [
    {
     "data": {
      "text/html": [
       "<div>\n",
       "<style scoped>\n",
       "    .dataframe tbody tr th:only-of-type {\n",
       "        vertical-align: middle;\n",
       "    }\n",
       "\n",
       "    .dataframe tbody tr th {\n",
       "        vertical-align: top;\n",
       "    }\n",
       "\n",
       "    .dataframe thead th {\n",
       "        text-align: right;\n",
       "    }\n",
       "</style>\n",
       "<table border=\"1\" class=\"dataframe\">\n",
       "  <thead>\n",
       "    <tr style=\"text-align: right;\">\n",
       "      <th></th>\n",
       "      <th></th>\n",
       "      <th>me</th>\n",
       "      <th>mae</th>\n",
       "      <th>mse</th>\n",
       "      <th>annotation_time</th>\n",
       "      <th>count</th>\n",
       "    </tr>\n",
       "    <tr>\n",
       "      <th>group_name</th>\n",
       "      <th>quantile</th>\n",
       "      <th></th>\n",
       "      <th></th>\n",
       "      <th></th>\n",
       "      <th></th>\n",
       "      <th></th>\n",
       "    </tr>\n",
       "  </thead>\n",
       "  <tbody>\n",
       "    <tr>\n",
       "      <th rowspan=\"3\" valign=\"top\">high_low</th>\n",
       "      <th>0.05</th>\n",
       "      <td>-0.132689</td>\n",
       "      <td>-0.271290</td>\n",
       "      <td>-0.551339</td>\n",
       "      <td>-0.814565</td>\n",
       "      <td>-0.028389</td>\n",
       "    </tr>\n",
       "    <tr>\n",
       "      <th>0.5</th>\n",
       "      <td>1.057095</td>\n",
       "      <td>-0.124875</td>\n",
       "      <td>-0.249507</td>\n",
       "      <td>-0.469747</td>\n",
       "      <td>0.165796</td>\n",
       "    </tr>\n",
       "    <tr>\n",
       "      <th>0.95</th>\n",
       "      <td>2.200039</td>\n",
       "      <td>0.007479</td>\n",
       "      <td>0.032550</td>\n",
       "      <td>-0.129619</td>\n",
       "      <td>0.369784</td>\n",
       "    </tr>\n",
       "    <tr>\n",
       "      <th rowspan=\"3\" valign=\"top\">high_medium</th>\n",
       "      <th>0.05</th>\n",
       "      <td>-1.847603</td>\n",
       "      <td>-0.207096</td>\n",
       "      <td>-0.442052</td>\n",
       "      <td>-0.612185</td>\n",
       "      <td>-1.401397</td>\n",
       "    </tr>\n",
       "    <tr>\n",
       "      <th>0.5</th>\n",
       "      <td>1.518386</td>\n",
       "      <td>-0.034049</td>\n",
       "      <td>-0.098996</td>\n",
       "      <td>-0.246623</td>\n",
       "      <td>-0.484355</td>\n",
       "    </tr>\n",
       "    <tr>\n",
       "      <th>0.95</th>\n",
       "      <td>5.090741</td>\n",
       "      <td>0.139980</td>\n",
       "      <td>0.259264</td>\n",
       "      <td>0.090498</td>\n",
       "      <td>0.114290</td>\n",
       "    </tr>\n",
       "    <tr>\n",
       "      <th rowspan=\"3\" valign=\"top\">medium_low</th>\n",
       "      <th>0.05</th>\n",
       "      <td>-4.298578</td>\n",
       "      <td>-0.273309</td>\n",
       "      <td>-0.516554</td>\n",
       "      <td>-0.636555</td>\n",
       "      <td>0.050437</td>\n",
       "    </tr>\n",
       "    <tr>\n",
       "      <th>0.5</th>\n",
       "      <td>-0.461291</td>\n",
       "      <td>-0.090826</td>\n",
       "      <td>-0.150510</td>\n",
       "      <td>-0.223124</td>\n",
       "      <td>0.650150</td>\n",
       "    </tr>\n",
       "    <tr>\n",
       "      <th>0.95</th>\n",
       "      <td>3.137276</td>\n",
       "      <td>0.090400</td>\n",
       "      <td>0.200894</td>\n",
       "      <td>0.189582</td>\n",
       "      <td>1.507717</td>\n",
       "    </tr>\n",
       "  </tbody>\n",
       "</table>\n",
       "</div>"
      ],
      "text/plain": [
       "                            me       mae       mse  annotation_time     count\n",
       "group_name  quantile                                                         \n",
       "high_low    0.05     -0.132689 -0.271290 -0.551339        -0.814565 -0.028389\n",
       "            0.5       1.057095 -0.124875 -0.249507        -0.469747  0.165796\n",
       "            0.95      2.200039  0.007479  0.032550        -0.129619  0.369784\n",
       "high_medium 0.05     -1.847603 -0.207096 -0.442052        -0.612185 -1.401397\n",
       "            0.5       1.518386 -0.034049 -0.098996        -0.246623 -0.484355\n",
       "            0.95      5.090741  0.139980  0.259264         0.090498  0.114290\n",
       "medium_low  0.05     -4.298578 -0.273309 -0.516554        -0.636555  0.050437\n",
       "            0.5      -0.461291 -0.090826 -0.150510        -0.223124  0.650150\n",
       "            0.95      3.137276  0.090400  0.200894         0.189582  1.507717"
      ]
     },
     "execution_count": 18,
     "metadata": {},
     "output_type": "execute_result"
    }
   ],
   "source": [
    "df_ci_h2"
   ]
  },
  {
   "cell_type": "markdown",
   "metadata": {},
   "source": [
    "#### p-value"
   ]
  },
  {
   "cell_type": "code",
   "execution_count": 19,
   "metadata": {},
   "outputs": [
    {
     "data": {
      "text/html": [
       "<div>\n",
       "<style scoped>\n",
       "    .dataframe tbody tr th:only-of-type {\n",
       "        vertical-align: middle;\n",
       "    }\n",
       "\n",
       "    .dataframe tbody tr th {\n",
       "        vertical-align: top;\n",
       "    }\n",
       "\n",
       "    .dataframe thead th {\n",
       "        text-align: right;\n",
       "    }\n",
       "</style>\n",
       "<table border=\"1\" class=\"dataframe\">\n",
       "  <thead>\n",
       "    <tr style=\"text-align: right;\">\n",
       "      <th></th>\n",
       "      <th>me</th>\n",
       "      <th>mae</th>\n",
       "      <th>mse</th>\n",
       "      <th>annotation_time</th>\n",
       "      <th>count</th>\n",
       "      <th>group_name</th>\n",
       "    </tr>\n",
       "  </thead>\n",
       "  <tbody>\n",
       "    <tr>\n",
       "      <th>0</th>\n",
       "      <td>0.9269</td>\n",
       "      <td>0.0614</td>\n",
       "      <td>0.0744</td>\n",
       "      <td>0.0151</td>\n",
       "      <td>0.9191</td>\n",
       "      <td>high_low</td>\n",
       "    </tr>\n",
       "    <tr>\n",
       "      <th>0</th>\n",
       "      <td>0.7660</td>\n",
       "      <td>0.3820</td>\n",
       "      <td>0.3204</td>\n",
       "      <td>0.1224</td>\n",
       "      <td>0.1581</td>\n",
       "      <td>high_medium</td>\n",
       "    </tr>\n",
       "    <tr>\n",
       "      <th>0</th>\n",
       "      <td>0.4305</td>\n",
       "      <td>0.2084</td>\n",
       "      <td>0.2447</td>\n",
       "      <td>0.1876</td>\n",
       "      <td>0.9737</td>\n",
       "      <td>medium_low</td>\n",
       "    </tr>\n",
       "  </tbody>\n",
       "</table>\n",
       "</div>"
      ],
      "text/plain": [
       "       me     mae     mse  annotation_time   count   group_name\n",
       "0  0.9269  0.0614  0.0744           0.0151  0.9191     high_low\n",
       "0  0.7660  0.3820  0.3204           0.1224  0.1581  high_medium\n",
       "0  0.4305  0.2084  0.2447           0.1876  0.9737   medium_low"
      ]
     },
     "execution_count": 19,
     "metadata": {},
     "output_type": "execute_result"
    }
   ],
   "source": [
    "df_p_value_h2"
   ]
  },
  {
   "cell_type": "markdown",
   "metadata": {},
   "source": [
    "#### Cohen's D"
   ]
  },
  {
   "cell_type": "code",
   "execution_count": 20,
   "metadata": {},
   "outputs": [
    {
     "data": {
      "text/html": [
       "<div>\n",
       "<style scoped>\n",
       "    .dataframe tbody tr th:only-of-type {\n",
       "        vertical-align: middle;\n",
       "    }\n",
       "\n",
       "    .dataframe tbody tr th {\n",
       "        vertical-align: top;\n",
       "    }\n",
       "\n",
       "    .dataframe thead th {\n",
       "        text-align: right;\n",
       "    }\n",
       "</style>\n",
       "<table border=\"1\" class=\"dataframe\">\n",
       "  <thead>\n",
       "    <tr style=\"text-align: right;\">\n",
       "      <th></th>\n",
       "      <th>me</th>\n",
       "      <th>mae</th>\n",
       "      <th>mse</th>\n",
       "      <th>annotation_time</th>\n",
       "      <th>count</th>\n",
       "      <th>group_name</th>\n",
       "    </tr>\n",
       "  </thead>\n",
       "  <tbody>\n",
       "    <tr>\n",
       "      <th>0</th>\n",
       "      <td>2.080108</td>\n",
       "      <td>-2.118333</td>\n",
       "      <td>-2.021488</td>\n",
       "      <td>-3.155441</td>\n",
       "      <td>1.914417</td>\n",
       "      <td>high_low</td>\n",
       "    </tr>\n",
       "    <tr>\n",
       "      <th>0</th>\n",
       "      <td>1.021242</td>\n",
       "      <td>-0.468722</td>\n",
       "      <td>-0.701899</td>\n",
       "      <td>-1.702427</td>\n",
       "      <td>-1.384177</td>\n",
       "      <td>high_medium</td>\n",
       "    </tr>\n",
       "    <tr>\n",
       "      <th>0</th>\n",
       "      <td>-0.294236</td>\n",
       "      <td>-1.112952</td>\n",
       "      <td>-0.965953</td>\n",
       "      <td>-1.281597</td>\n",
       "      <td>1.851392</td>\n",
       "      <td>medium_low</td>\n",
       "    </tr>\n",
       "  </tbody>\n",
       "</table>\n",
       "</div>"
      ],
      "text/plain": [
       "         me       mae       mse  annotation_time     count   group_name\n",
       "0  2.080108 -2.118333 -2.021488        -3.155441  1.914417     high_low\n",
       "0  1.021242 -0.468722 -0.701899        -1.702427 -1.384177  high_medium\n",
       "0 -0.294236 -1.112952 -0.965953        -1.281597  1.851392   medium_low"
      ]
     },
     "execution_count": 20,
     "metadata": {},
     "output_type": "execute_result"
    }
   ],
   "source": [
    "df_cohen_d_h2"
   ]
  },
  {
   "cell_type": "markdown",
   "metadata": {},
   "source": [
    "# 3. Analyse learning curve"
   ]
  },
  {
   "cell_type": "code",
   "execution_count": 21,
   "metadata": {},
   "outputs": [],
   "source": [
    "df['annotation_eval'] = (df['reference__output'] - df['annotation__output']).astype(int).abs()\n",
    "df_high = df.query(\"test_group == 'high quality feedback'\")"
   ]
  },
  {
   "cell_type": "code",
   "execution_count": 22,
   "metadata": {},
   "outputs": [],
   "source": [
    "learning = LearningAnalyser(df_high)"
   ]
  },
  {
   "cell_type": "markdown",
   "metadata": {},
   "source": [
    "#### Learning curve stats"
   ]
  },
  {
   "cell_type": "code",
   "execution_count": 23,
   "metadata": {},
   "outputs": [
    {
     "data": {
      "text/html": [
       "<div>\n",
       "<style scoped>\n",
       "    .dataframe tbody tr th:only-of-type {\n",
       "        vertical-align: middle;\n",
       "    }\n",
       "\n",
       "    .dataframe tbody tr th {\n",
       "        vertical-align: top;\n",
       "    }\n",
       "\n",
       "    .dataframe thead th {\n",
       "        text-align: right;\n",
       "    }\n",
       "</style>\n",
       "<table border=\"1\" class=\"dataframe\">\n",
       "  <thead>\n",
       "    <tr style=\"text-align: right;\">\n",
       "      <th></th>\n",
       "      <th>Metryka</th>\n",
       "      <th>Wartość</th>\n",
       "    </tr>\n",
       "  </thead>\n",
       "  <tbody>\n",
       "    <tr>\n",
       "      <th>0</th>\n",
       "      <td>$\\alpha$</td>\n",
       "      <td>0.342</td>\n",
       "    </tr>\n",
       "    <tr>\n",
       "      <th>1</th>\n",
       "      <td>$\\beta$</td>\n",
       "      <td>-116.441</td>\n",
       "    </tr>\n",
       "    <tr>\n",
       "      <th>2</th>\n",
       "      <td>$\\alpha_r$</td>\n",
       "      <td>+1.72%</td>\n",
       "    </tr>\n",
       "    <tr>\n",
       "      <th>3</th>\n",
       "      <td>$\\beta_r$</td>\n",
       "      <td>-13.01%</td>\n",
       "    </tr>\n",
       "  </tbody>\n",
       "</table>\n",
       "</div>"
      ],
      "text/plain": [
       "      Metryka  Wartość\n",
       "0    $\\alpha$    0.342\n",
       "1     $\\beta$ -116.441\n",
       "2  $\\alpha_r$   +1.72%\n",
       "3   $\\beta_r$  -13.01%"
      ]
     },
     "execution_count": 23,
     "metadata": {},
     "output_type": "execute_result"
    }
   ],
   "source": [
    "learning_report = generate_learning_report(learning)\n",
    "learning_report"
   ]
  },
  {
   "cell_type": "markdown",
   "metadata": {},
   "source": [
    "#### Learning curve plot"
   ]
  },
  {
   "cell_type": "code",
   "execution_count": 24,
   "metadata": {},
   "outputs": [],
   "source": [
    "# styling fix\n",
    "learning_report['Wartość'] = learning_report['Wartość'].astype(str).str.replace(\".\", \",\")"
   ]
  },
  {
   "cell_type": "code",
   "execution_count": 25,
   "metadata": {},
   "outputs": [
    {
     "data": {
      "image/png": "[encoded data removed]",
      "text/plain": [
       "<Figure size 1500x500 with 2 Axes>"
      ]
     },
     "metadata": {},
     "output_type": "display_data"
    }
   ],
   "source": [
    "plot_learning_curve(learning, learning_report)"
   ]
  },
  {
   "cell_type": "code",
   "execution_count": null,
   "metadata": {},
   "outputs": [],
   "source": []
  },
  {
   "cell_type": "markdown",
   "metadata": {},
   "source": [
    "## Generate latex tables"
   ]
  },
  {
   "cell_type": "code",
   "execution_count": 26,
   "metadata": {},
   "outputs": [],
   "source": [
    "latex_generator = create_latex_tables_generator(\n",
    "    df_percentage_ci_h1=df_percentage_ci_h1,\n",
    "    df_p_value_h1=df_p_value_h1,\n",
    "    df_cohen_d_h1=df_cohen_d_h1,\n",
    "    df_ci_h2=df_ci_h2,\n",
    "    df_p_value_h2=df_p_value_h2,\n",
    "    df_cohen_d_h2=df_cohen_d_h2\n",
    ")"
   ]
  },
  {
   "cell_type": "code",
   "execution_count": 27,
   "metadata": {
    "scrolled": false
   },
   "outputs": [
    {
     "name": "stdout",
     "output_type": "stream",
     "text": [
      "\n",
      "\\begin{table}[H]\n",
      "\\centering\n",
      "\\caption{}\n",
      "\\label{tab:my-table}\n",
      "\\begin{tabular}{cccccc}\n",
      "\\rowcolor[HTML]{EFEFEF} \n",
      "\\multicolumn{1}{c|}{\\cellcolor[HTML]{EFEFEF}\\textbf{Warunek}} &\n",
      "  \\multicolumn{1}{c|}{\\cellcolor[HTML]{EFEFEF}\\boldmath$P_{05}$} &\n",
      "  \\multicolumn{1}{c|}{\\cellcolor[HTML]{EFEFEF}\\boldmath$\\mu$} &\n",
      "  \\multicolumn{1}{c|}{\\cellcolor[HTML]{EFEFEF}\\boldmath$P_{95}$} &\n",
      "  \\multicolumn{1}{c|}{\\cellcolor[HTML]{EFEFEF}\\boldmath$p$} &\n",
      "  \\boldmath$d$ \\\\ \\hline\n",
      "\\rowcolor[HTML]{EFEFEF} \n",
      "\\multicolumn{6}{c}{\\cellcolor[HTML]{EFEFEF}Hipoteza $H_1$ -- zmiana w metryce XXXX}                                                                                                        \\\\ \\hline\n",
      "        \\multicolumn{1}{c|}{$W_1$} & \\multicolumn{1}{c|}{-19.40\\%} & \\multicolumn{1}{c|}{-12.15\\%} & \\multicolumn{1}{c|}{-4.48\\%} & \\multicolumn{1}{c|}{0.0045} & -0.48 \\\\ \\hline\\multicolumn{1}{c|}{$W_2$} & \\multicolumn{1}{c|}{-24.37\\%} & \\multicolumn{1}{c|}{-8.75\\%} & \\multicolumn{1}{c|}{+5.69\\%} & \\multicolumn{1}{c|}{0.185} & -0.36 \\\\ \\hline\\multicolumn{1}{c|}{$W_3$} & \\multicolumn{1}{c|}{-11.30\\%} & \\multicolumn{1}{c|}{+0.33\\%} & \\multicolumn{1}{c|}{+11.60\\%} & \\multicolumn{1}{c|}{0.5254} & 0.01 \\\\ \\hline\n",
      "\\rowcolor[HTML]{EFEFEF} \n",
      "\\multicolumn{6}{c}{\\cellcolor[HTML]{EFEFEF}Hipoteza $H_2$ -- zmiana w metryce XXXX}                                                                                                        \\\\ \\hline\n",
      "        \\multicolumn{1}{c|}{$W_1 - W_3$} & \\multicolumn{1}{c|}{-27.13\\%} & \\multicolumn{1}{c|}{-12.49\\%} & \\multicolumn{1}{c|}{+0.75\\%} & \\multicolumn{1}{c|}{0.0614} & -2.12 \\\\ \\hline\\multicolumn{1}{c|}{$W_1 - W_2$ } & \\multicolumn{1}{c|}{-20.71\\%} & \\multicolumn{1}{c|}{-3.40\\%} & \\multicolumn{1}{c|}{+14.00\\%} & \\multicolumn{1}{c|}{0.382} & -0.47 \\\\ \\hline\\multicolumn{1}{c|}{$W_2 - W_3$} & \\multicolumn{1}{c|}{-27.33\\%} & \\multicolumn{1}{c|}{-9.08\\%} & \\multicolumn{1}{c|}{+9.04\\%} & \\multicolumn{1}{c|}{0.2084} & -1.11 \\\\ \\hline\n",
      "\\rowcolor[HTML]{EFEFEF} \n",
      "\\multicolumn{6}{c}{\\cellcolor[HTML]{EFEFEF}Pytanie $P_2$ -- zmiana w szybkości pracy anotatorów}                                                                                                        \\\\ \\hline\n",
      "        \\multicolumn{1}{c|}{$W_1$} & \\multicolumn{1}{c|}{-32.71\\%} & \\multicolumn{1}{c|}{-14.57\\%} & \\multicolumn{1}{c|}{+4.48\\%} & \\multicolumn{1}{c|}{0.1017} & -0.26 \\\\ \\hline\\multicolumn{1}{c|}{$W_2$} & \\multicolumn{1}{c|}{-17.60\\%} & \\multicolumn{1}{c|}{+10.09\\%} & \\multicolumn{1}{c|}{+38.20\\%} & \\multicolumn{1}{c|}{0.724} & 0.19 \\\\ \\hline\\multicolumn{1}{c|}{$W_3$} & \\multicolumn{1}{c|}{+3.44\\%} & \\multicolumn{1}{c|}{+32.41\\%} & \\multicolumn{1}{c|}{+62.31\\%} & \\multicolumn{1}{c|}{0.9676} & 0.54 \\\\ \\hline\n",
      "\\rowcolor[HTML]{EFEFEF} \n",
      "\\multicolumn{6}{c}{\\cellcolor[HTML]{EFEFEF}Pytanie $P_3$ -- zmiana w liczbie wykonanych anotacji}                                                                                                        \\\\ \\hline\n",
      "        \\multicolumn{1}{c|}{$W_1$} & \\multicolumn{1}{c|}{-5.55\\%} & \\multicolumn{1}{c|}{+7.63\\%} & \\multicolumn{1}{c|}{+21.50\\%} & \\multicolumn{1}{c|}{0.8264} & 0.19 \\\\ \\hline\\multicolumn{1}{c|}{$W_2$} & \\multicolumn{1}{c|}{-0.84\\%} & \\multicolumn{1}{c|}{+56.06\\%} & \\multicolumn{1}{c|}{+145.05\\%} & \\multicolumn{1}{c|}{0.9397} & 0.3 \\\\ \\hline\\multicolumn{1}{c|}{$W_3$} & \\multicolumn{1}{c|}{-23.88\\%} & \\multicolumn{1}{c|}{-8.95\\%} & \\multicolumn{1}{c|}{+6.45\\%} & \\multicolumn{1}{c|}{0.1649} & -0.28 \\\\ \\hline\n",
      "\\end{tabular}\n",
      "\\end{table}\n",
      "        \n"
     ]
    }
   ],
   "source": [
    "print(latex_generator.get_results_table(\"mae\"))"
   ]
  }
 ],
 "metadata": {
  "kernelspec": {
   "display_name": "Python 3 (ipykernel)",
   "language": "python",
   "name": "python3"
  },
  "language_info": {
   "codemirror_mode": {
    "name": "ipython",
    "version": 3
   },
   "file_extension": ".py",
   "mimetype": "text/x-python",
   "name": "python",
   "nbconvert_exporter": "python",
   "pygments_lexer": "ipython3",
   "version": "3.10.4"
  }
 },
 "nbformat": 4,
 "nbformat_minor": 4
}
