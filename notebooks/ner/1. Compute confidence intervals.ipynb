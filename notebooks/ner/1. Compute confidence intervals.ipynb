{
 "cells": [
  {
   "cell_type": "code",
   "execution_count": 1,
   "metadata": {},
   "outputs": [],
   "source": [
    "# general\n",
    "import time\n",
    "import matplotlib.pyplot as plt\n",
    "import pandas as pd\n",
    "import numpy as np\n",
    "import seaborn as sns\n",
    "from pytimeparse.timeparse import timeparse\n",
    "import ast\n",
    "\n",
    "# sklearn_crfsuite\n",
    "from sklearn_crfsuite import metrics\n",
    "\n",
    "# bootstrapped\n",
    "import bootstrapped.bootstrap as bs\n",
    "import bootstrapped.compare_functions as bs_compare\n",
    "import bootstrapped.stats_functions as bs_stats\n",
    "\n",
    "sns.set()"
   ]
  },
  {
   "cell_type": "code",
   "execution_count": 2,
   "metadata": {},
   "outputs": [],
   "source": [
    "def plot_accuracy_distribution(control_group, test_group, test_group_name, bins=30):\n",
    "    plt.figure(figsize=(10, 6))\n",
    "    bins = np.linspace(\n",
    "        df_user_error['f1'].min(),\n",
    "        df_user_error['f1'].max(),\n",
    "        bins\n",
    "    )\n",
    "\n",
    "    plt.hist(control_group, bins=bins, label=\"No feedback (control group)\", alpha=0.5)\n",
    "    plt.hist(test_group, bins=bins, label=f\"{test_group_name} (test group)\", color='orange', alpha=0.5)\n",
    "    plt.title('Comperation of f1 distribution')\n",
    "    plt.legend()\n",
    "    \n",
    "\n",
    "def get_confidence_intervals(test_group, control_group):\n",
    "    ab = bs.bootstrap_ab(np.array(test_group), np.array(control_group), bs_stats.mean, bs_compare.percent_change)\n",
    "    return ab.value, ab.lower_bound, ab.upper_bound"
   ]
  },
  {
   "cell_type": "code",
   "execution_count": 3,
   "metadata": {},
   "outputs": [],
   "source": [
    "METRICS = [\"f1\", \"precision\", \"recall\"]\n",
    "LABELS = [\"Geopolitical\", \"Geographical\", \"Organization\", \"Time\", \"Person\"]\n",
    "TEST_GROUP_NAMES = ['low quality feedback', 'medium quality feedback', 'high quality feedback']"
   ]
  },
  {
   "cell_type": "markdown",
   "metadata": {},
   "source": [
    "# 1. General statistics\n",
    "## 1.1. Read data"
   ]
  },
  {
   "cell_type": "code",
   "execution_count": 4,
   "metadata": {},
   "outputs": [],
   "source": [
    "df = pd.read_csv('../../data/ner/ner-dataset.csv')\n",
    "df['annotation__time'] = df['annotation__time'].apply(timeparse)"
   ]
  },
  {
   "cell_type": "markdown",
   "metadata": {},
   "source": [
    "### 1.1.1. Parse the attribute tags in IOB form"
   ]
  },
  {
   "cell_type": "code",
   "execution_count": 5,
   "metadata": {},
   "outputs": [],
   "source": [
    "df['annotation__output'] = df['annotation__output'].apply(ast.literal_eval)\n",
    "df['reference__output'] = df['reference__output'].apply(ast.literal_eval)"
   ]
  },
  {
   "cell_type": "markdown",
   "metadata": {},
   "source": [
    "### 1.1.2. Simplify the beggining and inside tags"
   ]
  },
  {
   "cell_type": "code",
   "execution_count": 6,
   "metadata": {},
   "outputs": [],
   "source": [
    "df['annotation__output'] = df['annotation__output'].apply(lambda tags:[t.split('-')[0] for t in tags])\n",
    "df['reference__output'] = df['reference__output'].apply(lambda tags:[t.split('-')[0] for t in tags])"
   ]
  },
  {
   "cell_type": "markdown",
   "metadata": {},
   "source": [
    "## 1.2. Statistics\n",
    "### 1.2.1. General"
   ]
  },
  {
   "cell_type": "code",
   "execution_count": 8,
   "metadata": {},
   "outputs": [
    {
     "data": {
      "text/html": [
       "<div>\n",
       "<style scoped>\n",
       "    .dataframe tbody tr th:only-of-type {\n",
       "        vertical-align: middle;\n",
       "    }\n",
       "\n",
       "    .dataframe tbody tr th {\n",
       "        vertical-align: top;\n",
       "    }\n",
       "\n",
       "    .dataframe thead th {\n",
       "        text-align: right;\n",
       "    }\n",
       "</style>\n",
       "<table border=\"1\" class=\"dataframe\">\n",
       "  <thead>\n",
       "    <tr style=\"text-align: right;\">\n",
       "      <th></th>\n",
       "      <th>value</th>\n",
       "    </tr>\n",
       "    <tr>\n",
       "      <th>metric</th>\n",
       "      <th></th>\n",
       "    </tr>\n",
       "  </thead>\n",
       "  <tbody>\n",
       "    <tr>\n",
       "      <th>total_annotations</th>\n",
       "      <td>8043</td>\n",
       "    </tr>\n",
       "    <tr>\n",
       "      <th>unique_items</th>\n",
       "      <td>1999</td>\n",
       "    </tr>\n",
       "    <tr>\n",
       "      <th>unique_users</th>\n",
       "      <td>140</td>\n",
       "    </tr>\n",
       "    <tr>\n",
       "      <th>total_annotation_time</th>\n",
       "      <td>10h 04m 45s</td>\n",
       "    </tr>\n",
       "  </tbody>\n",
       "</table>\n",
       "</div>"
      ],
      "text/plain": [
       "                             value\n",
       "metric                            \n",
       "total_annotations             8043\n",
       "unique_items                  1999\n",
       "unique_users                   140\n",
       "total_annotation_time  10h 04m 45s"
      ]
     },
     "execution_count": 8,
     "metadata": {},
     "output_type": "execute_result"
    }
   ],
   "source": [
    "pd.DataFrame([\n",
    "    {\n",
    "        \"metric\": \"total_annotations\",\n",
    "        \"value\": len(df)\n",
    "    },\n",
    "    {\n",
    "        \"metric\": \"unique_items\",\n",
    "        \"value\": len(set(df['data__item_id'].values))\n",
    "    },\n",
    "    {\n",
    "        \"metric\": \"unique_users\",\n",
    "        \"value\": len(set(df['user__id'].values))\n",
    "    },\n",
    "    {\n",
    "        \"metric\": \"total_annotation_time\",\n",
    "        \"value\": time.strftime('%Hh %Mm %Ss', time.gmtime(df['annotation__time'].sum()))\n",
    "    },\n",
    "]).set_index(\"metric\")\n",
    "    "
   ]
  },
  {
   "cell_type": "markdown",
   "metadata": {},
   "source": [
    "### 1.2.2. Annotations per item"
   ]
  },
  {
   "cell_type": "code",
   "execution_count": 10,
   "metadata": {},
   "outputs": [
    {
     "data": {
      "text/html": [
       "<div>\n",
       "<style scoped>\n",
       "    .dataframe tbody tr th:only-of-type {\n",
       "        vertical-align: middle;\n",
       "    }\n",
       "\n",
       "    .dataframe tbody tr th {\n",
       "        vertical-align: top;\n",
       "    }\n",
       "\n",
       "    .dataframe thead th {\n",
       "        text-align: right;\n",
       "    }\n",
       "</style>\n",
       "<table border=\"1\" class=\"dataframe\">\n",
       "  <thead>\n",
       "    <tr style=\"text-align: right;\">\n",
       "      <th></th>\n",
       "      <th>item_id</th>\n",
       "    </tr>\n",
       "  </thead>\n",
       "  <tbody>\n",
       "    <tr>\n",
       "      <th>count</th>\n",
       "      <td>2900.000000</td>\n",
       "    </tr>\n",
       "    <tr>\n",
       "      <th>mean</th>\n",
       "      <td>2.773448</td>\n",
       "    </tr>\n",
       "    <tr>\n",
       "      <th>std</th>\n",
       "      <td>0.872752</td>\n",
       "    </tr>\n",
       "    <tr>\n",
       "      <th>min</th>\n",
       "      <td>1.000000</td>\n",
       "    </tr>\n",
       "    <tr>\n",
       "      <th>25%</th>\n",
       "      <td>2.000000</td>\n",
       "    </tr>\n",
       "    <tr>\n",
       "      <th>50%</th>\n",
       "      <td>3.000000</td>\n",
       "    </tr>\n",
       "    <tr>\n",
       "      <th>75%</th>\n",
       "      <td>3.000000</td>\n",
       "    </tr>\n",
       "    <tr>\n",
       "      <th>max</th>\n",
       "      <td>6.000000</td>\n",
       "    </tr>\n",
       "  </tbody>\n",
       "</table>\n",
       "</div>"
      ],
      "text/plain": [
       "           item_id\n",
       "count  2900.000000\n",
       "mean      2.773448\n",
       "std       0.872752\n",
       "min       1.000000\n",
       "25%       2.000000\n",
       "50%       3.000000\n",
       "75%       3.000000\n",
       "max       6.000000"
      ]
     },
     "execution_count": 10,
     "metadata": {},
     "output_type": "execute_result"
    }
   ],
   "source": [
    "pd.DataFrame(df['item_id'].value_counts().describe())"
   ]
  },
  {
   "cell_type": "markdown",
   "metadata": {},
   "source": [
    "### 1.2.3. Annotations per user"
   ]
  },
  {
   "cell_type": "code",
   "execution_count": 11,
   "metadata": {},
   "outputs": [
    {
     "data": {
      "text/html": [
       "<div>\n",
       "<style scoped>\n",
       "    .dataframe tbody tr th:only-of-type {\n",
       "        vertical-align: middle;\n",
       "    }\n",
       "\n",
       "    .dataframe tbody tr th {\n",
       "        vertical-align: top;\n",
       "    }\n",
       "\n",
       "    .dataframe thead th {\n",
       "        text-align: right;\n",
       "    }\n",
       "</style>\n",
       "<table border=\"1\" class=\"dataframe\">\n",
       "  <thead>\n",
       "    <tr style=\"text-align: right;\">\n",
       "      <th></th>\n",
       "      <th>user__id</th>\n",
       "    </tr>\n",
       "  </thead>\n",
       "  <tbody>\n",
       "    <tr>\n",
       "      <th>count</th>\n",
       "      <td>140.000000</td>\n",
       "    </tr>\n",
       "    <tr>\n",
       "      <th>mean</th>\n",
       "      <td>57.450000</td>\n",
       "    </tr>\n",
       "    <tr>\n",
       "      <th>std</th>\n",
       "      <td>45.305728</td>\n",
       "    </tr>\n",
       "    <tr>\n",
       "      <th>min</th>\n",
       "      <td>11.000000</td>\n",
       "    </tr>\n",
       "    <tr>\n",
       "      <th>25%</th>\n",
       "      <td>50.000000</td>\n",
       "    </tr>\n",
       "    <tr>\n",
       "      <th>50%</th>\n",
       "      <td>50.000000</td>\n",
       "    </tr>\n",
       "    <tr>\n",
       "      <th>75%</th>\n",
       "      <td>50.000000</td>\n",
       "    </tr>\n",
       "    <tr>\n",
       "      <th>max</th>\n",
       "      <td>350.000000</td>\n",
       "    </tr>\n",
       "  </tbody>\n",
       "</table>\n",
       "</div>"
      ],
      "text/plain": [
       "         user__id\n",
       "count  140.000000\n",
       "mean    57.450000\n",
       "std     45.305728\n",
       "min     11.000000\n",
       "25%     50.000000\n",
       "50%     50.000000\n",
       "75%     50.000000\n",
       "max    350.000000"
      ]
     },
     "execution_count": 11,
     "metadata": {},
     "output_type": "execute_result"
    }
   ],
   "source": [
    "pd.DataFrame(df['user__id'].value_counts().describe())"
   ]
  },
  {
   "cell_type": "markdown",
   "metadata": {},
   "source": [
    "## 1.2. Compute user's annotation quality metrics\n",
    "- In this section we aggregate the raw result to compute the quality metrics value per user\n",
    "- To measure the quality of user's annotation we use: recall, f1 and precision metrics\n",
    "- Mean error is computed for each user in each test_group separately.<br/>\n",
    "This way we can check how each user did in each test conditions"
   ]
  },
  {
   "cell_type": "code",
   "execution_count": null,
   "metadata": {},
   "outputs": [],
   "source": [
    "data = []\n",
    "for (test_group, user_feedback, user_id), group in df.groupby(['test_group', 'user__feedback', 'user__id']):\n",
    "    y_true = group['reference__output']\n",
    "    y_pred = group['annotation__output']\n",
    "\n",
    "    data.append({\n",
    "        'test_group': test_group,\n",
    "        'user__feedback': user_feedback,\n",
    "        'user__id': user_id,\n",
    "        'count': len(group),\n",
    "        'precision': metrics.flat_precision_score(y_true, y_pred, average='weighted', labels=LABELS),\n",
    "        'recall': metrics.flat_recall_score(y_true, y_pred, average='weighted', labels=LABELS),\n",
    "        'f1': metrics.flat_f1_score(y_true, y_pred, average='weighted', labels=LABELS)\n",
    "    })\n",
    "\n",
    "df_user_error = pd.DataFrame(data)"
   ]
  },
  {
   "cell_type": "code",
   "execution_count": 13,
   "metadata": {},
   "outputs": [
    {
     "data": {
      "text/html": [
       "<div>\n",
       "<style scoped>\n",
       "    .dataframe tbody tr th:only-of-type {\n",
       "        vertical-align: middle;\n",
       "    }\n",
       "\n",
       "    .dataframe tbody tr th {\n",
       "        vertical-align: top;\n",
       "    }\n",
       "\n",
       "    .dataframe thead tr th {\n",
       "        text-align: left;\n",
       "    }\n",
       "\n",
       "    .dataframe thead tr:last-of-type th {\n",
       "        text-align: right;\n",
       "    }\n",
       "</style>\n",
       "<table border=\"1\" class=\"dataframe\">\n",
       "  <thead>\n",
       "    <tr>\n",
       "      <th></th>\n",
       "      <th></th>\n",
       "      <th></th>\n",
       "      <th colspan=\"2\" halign=\"left\">f1</th>\n",
       "      <th colspan=\"2\" halign=\"left\">precision</th>\n",
       "      <th colspan=\"2\" halign=\"left\">recall</th>\n",
       "    </tr>\n",
       "    <tr>\n",
       "      <th></th>\n",
       "      <th></th>\n",
       "      <th></th>\n",
       "      <th>mean</th>\n",
       "      <th>std</th>\n",
       "      <th>mean</th>\n",
       "      <th>std</th>\n",
       "      <th>mean</th>\n",
       "      <th>std</th>\n",
       "    </tr>\n",
       "    <tr>\n",
       "      <th>test_group</th>\n",
       "      <th>user__feedback</th>\n",
       "      <th>users_count</th>\n",
       "      <th></th>\n",
       "      <th></th>\n",
       "      <th></th>\n",
       "      <th></th>\n",
       "      <th></th>\n",
       "      <th></th>\n",
       "    </tr>\n",
       "  </thead>\n",
       "  <tbody>\n",
       "    <tr>\n",
       "      <th rowspan=\"2\" valign=\"top\">high quality feedback</th>\n",
       "      <th>False</th>\n",
       "      <th>40</th>\n",
       "      <td>0.315486</td>\n",
       "      <td>0.227399</td>\n",
       "      <td>0.345203</td>\n",
       "      <td>0.235414</td>\n",
       "      <td>0.367031</td>\n",
       "      <td>0.257649</td>\n",
       "    </tr>\n",
       "    <tr>\n",
       "      <th>True</th>\n",
       "      <th>33</th>\n",
       "      <td>0.413262</td>\n",
       "      <td>0.224595</td>\n",
       "      <td>0.451049</td>\n",
       "      <td>0.198276</td>\n",
       "      <td>0.423343</td>\n",
       "      <td>0.247298</td>\n",
       "    </tr>\n",
       "    <tr>\n",
       "      <th>low quality feedback</th>\n",
       "      <th>True</th>\n",
       "      <th>39</th>\n",
       "      <td>0.299087</td>\n",
       "      <td>0.240147</td>\n",
       "      <td>0.325544</td>\n",
       "      <td>0.250970</td>\n",
       "      <td>0.323189</td>\n",
       "      <td>0.255789</td>\n",
       "    </tr>\n",
       "    <tr>\n",
       "      <th>medium quality feedback</th>\n",
       "      <th>True</th>\n",
       "      <th>49</th>\n",
       "      <td>0.498172</td>\n",
       "      <td>0.218562</td>\n",
       "      <td>0.513580</td>\n",
       "      <td>0.225421</td>\n",
       "      <td>0.533077</td>\n",
       "      <td>0.224849</td>\n",
       "    </tr>\n",
       "  </tbody>\n",
       "</table>\n",
       "</div>"
      ],
      "text/plain": [
       "                                                          f1            \\\n",
       "                                                        mean       std   \n",
       "test_group              user__feedback users_count                       \n",
       "high quality feedback   False          40           0.315486  0.227399   \n",
       "                        True           33           0.413262  0.224595   \n",
       "low quality feedback    True           39           0.299087  0.240147   \n",
       "medium quality feedback True           49           0.498172  0.218562   \n",
       "\n",
       "                                                   precision            \\\n",
       "                                                        mean       std   \n",
       "test_group              user__feedback users_count                       \n",
       "high quality feedback   False          40           0.345203  0.235414   \n",
       "                        True           33           0.451049  0.198276   \n",
       "low quality feedback    True           39           0.325544  0.250970   \n",
       "medium quality feedback True           49           0.513580  0.225421   \n",
       "\n",
       "                                                      recall            \n",
       "                                                        mean       std  \n",
       "test_group              user__feedback users_count                      \n",
       "high quality feedback   False          40           0.367031  0.257649  \n",
       "                        True           33           0.423343  0.247298  \n",
       "low quality feedback    True           39           0.323189  0.255789  \n",
       "medium quality feedback True           49           0.533077  0.224849  "
      ]
     },
     "execution_count": 13,
     "metadata": {},
     "output_type": "execute_result"
    }
   ],
   "source": [
    "pd.merge(\n",
    "    df_user_error,\n",
    "    df_user_error.groupby(\n",
    "        ['test_group', 'user__feedback']\n",
    "    )['user__id'].count().to_frame('users_count'),\n",
    "    on=['test_group', 'user__feedback']\n",
    ").groupby(\n",
    "    ['test_group', 'user__feedback', 'users_count']\n",
    ")[METRICS].aggregate(['mean', 'std'])"
   ]
  },
  {
   "cell_type": "markdown",
   "metadata": {},
   "source": [
    "## 1.3. Accuracy distribution for control group and high quality feedback test group\n",
    "Below you can see a plot showing a accuracy distribution difference for the control group and the test group with the high quality feedback\n",
    "### 1.3.1. Histogram"
   ]
  },
  {
   "cell_type": "code",
   "execution_count": 14,
   "metadata": {},
   "outputs": [],
   "source": [
    "test_group_name = \"high quality feedback\"\n",
    "\n",
    "control_group = df_user_error[\n",
    "    (df_user_error['test_group'] == \"high quality feedback\") &\n",
    "    (df_user_error['user__feedback'] == False)\n",
    "]['f1']\n",
    "    \n",
    "test_group = df_user_error[\n",
    "    (df_user_error['test_group'] == test_group_name) &\n",
    "    (df_user_error['user__feedback'] == True)\n",
    "]['f1']"
   ]
  },
  {
   "cell_type": "code",
   "execution_count": 15,
   "metadata": {},
   "outputs": [
    {
     "data": {
      "image/png": "[encoded data removed]",
      "text/plain": [
       "<Figure size 720x432 with 1 Axes>"
      ]
     },
     "metadata": {},
     "output_type": "display_data"
    }
   ],
   "source": [
    "plot_accuracy_distribution(control_group, test_group, test_group_name)"
   ]
  },
  {
   "cell_type": "markdown",
   "metadata": {},
   "source": [
    "### 1.3.2. Boxplot"
   ]
  },
  {
   "cell_type": "code",
   "execution_count": null,
   "metadata": {},
   "outputs": [],
   "source": [
    "_df = df_user_error.copy()\n",
    "_df.loc[_df['user__feedback'] == False, 'test_group'] = \"control group\""
   ]
  },
  {
   "cell_type": "code",
   "execution_count": 33,
   "metadata": {},
   "outputs": [
    {
     "data": {
      "text/plain": [
       "<AxesSubplot:title={'center':'Distribution of f1 metric between test groups'}, xlabel='test_group', ylabel='f1'>"
      ]
     },
     "execution_count": 33,
     "metadata": {},
     "output_type": "execute_result"
    },
    {
     "data": {
      "image/png": "[encoded data removed]",
      "text/plain": [
       "<Figure size 720x432 with 1 Axes>"
      ]
     },
     "metadata": {},
     "output_type": "display_data"
    }
   ],
   "source": [
    "plt.figure(figsize=(10, 6))\n",
    "plt.title(\"Distribution of f1 metric between test groups\")\n",
    "sns.boxplot(x='test_group', y='f1', data=_df, order=[\"control group\"] + TEST_GROUP_NAMES)"
   ]
  },
  {
   "cell_type": "markdown",
   "metadata": {},
   "source": [
    "# 2. Confidence intervals\n",
    "## 2.1. Compute confidence intervals for test groups\n",
    "In this section we compute the confidence intervals for the percentage quality change between the control group and each of the test groups."
   ]
  },
  {
   "cell_type": "code",
   "execution_count": 19,
   "metadata": {},
   "outputs": [
    {
     "data": {
      "text/html": [
       "<div>\n",
       "<style scoped>\n",
       "    .dataframe tbody tr th:only-of-type {\n",
       "        vertical-align: middle;\n",
       "    }\n",
       "\n",
       "    .dataframe tbody tr th {\n",
       "        vertical-align: top;\n",
       "    }\n",
       "\n",
       "    .dataframe thead th {\n",
       "        text-align: right;\n",
       "    }\n",
       "</style>\n",
       "<table border=\"1\" class=\"dataframe\">\n",
       "  <thead>\n",
       "    <tr style=\"text-align: right;\">\n",
       "      <th></th>\n",
       "      <th>test_group_name</th>\n",
       "      <th>metric</th>\n",
       "      <th>lower_bound</th>\n",
       "      <th>mean</th>\n",
       "      <th>upper_bound</th>\n",
       "    </tr>\n",
       "  </thead>\n",
       "  <tbody>\n",
       "    <tr>\n",
       "      <th>0</th>\n",
       "      <td>low quality feedback</td>\n",
       "      <td>f1</td>\n",
       "      <td>-41.382756</td>\n",
       "      <td>-5.197986</td>\n",
       "      <td>22.405093</td>\n",
       "    </tr>\n",
       "    <tr>\n",
       "      <th>1</th>\n",
       "      <td>medium quality feedback</td>\n",
       "      <td>f1</td>\n",
       "      <td>9.142576</td>\n",
       "      <td>57.905907</td>\n",
       "      <td>91.821092</td>\n",
       "    </tr>\n",
       "    <tr>\n",
       "      <th>2</th>\n",
       "      <td>high quality feedback</td>\n",
       "      <td>f1</td>\n",
       "      <td>-15.287552</td>\n",
       "      <td>30.992173</td>\n",
       "      <td>62.955080</td>\n",
       "    </tr>\n",
       "    <tr>\n",
       "      <th>3</th>\n",
       "      <td>low quality feedback</td>\n",
       "      <td>precision</td>\n",
       "      <td>-39.305604</td>\n",
       "      <td>-5.694938</td>\n",
       "      <td>21.109755</td>\n",
       "    </tr>\n",
       "    <tr>\n",
       "      <th>4</th>\n",
       "      <td>medium quality feedback</td>\n",
       "      <td>precision</td>\n",
       "      <td>5.826334</td>\n",
       "      <td>48.776274</td>\n",
       "      <td>80.102084</td>\n",
       "    </tr>\n",
       "    <tr>\n",
       "      <th>5</th>\n",
       "      <td>high quality feedback</td>\n",
       "      <td>precision</td>\n",
       "      <td>-9.773145</td>\n",
       "      <td>30.661974</td>\n",
       "      <td>60.004725</td>\n",
       "    </tr>\n",
       "    <tr>\n",
       "      <th>6</th>\n",
       "      <td>low quality feedback</td>\n",
       "      <td>recall</td>\n",
       "      <td>-45.391197</td>\n",
       "      <td>-11.945000</td>\n",
       "      <td>13.280546</td>\n",
       "    </tr>\n",
       "    <tr>\n",
       "      <th>7</th>\n",
       "      <td>medium quality feedback</td>\n",
       "      <td>recall</td>\n",
       "      <td>0.058781</td>\n",
       "      <td>45.240378</td>\n",
       "      <td>75.091704</td>\n",
       "    </tr>\n",
       "    <tr>\n",
       "      <th>8</th>\n",
       "      <td>high quality feedback</td>\n",
       "      <td>recall</td>\n",
       "      <td>-24.170589</td>\n",
       "      <td>15.342744</td>\n",
       "      <td>44.158862</td>\n",
       "    </tr>\n",
       "  </tbody>\n",
       "</table>\n",
       "</div>"
      ],
      "text/plain": [
       "           test_group_name     metric  lower_bound       mean  upper_bound\n",
       "0     low quality feedback         f1   -41.382756  -5.197986    22.405093\n",
       "1  medium quality feedback         f1     9.142576  57.905907    91.821092\n",
       "2    high quality feedback         f1   -15.287552  30.992173    62.955080\n",
       "3     low quality feedback  precision   -39.305604  -5.694938    21.109755\n",
       "4  medium quality feedback  precision     5.826334  48.776274    80.102084\n",
       "5    high quality feedback  precision    -9.773145  30.661974    60.004725\n",
       "6     low quality feedback     recall   -45.391197 -11.945000    13.280546\n",
       "7  medium quality feedback     recall     0.058781  45.240378    75.091704\n",
       "8    high quality feedback     recall   -24.170589  15.342744    44.158862"
      ]
     },
     "execution_count": 19,
     "metadata": {},
     "output_type": "execute_result"
    }
   ],
   "source": [
    "data = []\n",
    "\n",
    "for metric in METRICS:\n",
    "    \n",
    "    control_group = df_user_error[\n",
    "        (df_user_error['test_group'] == \"high quality feedback\") &\n",
    "        (df_user_error['user__feedback'] == False)\n",
    "    ][metric]\n",
    "    \n",
    "    for test_group_name in TEST_GROUP_NAMES:\n",
    "        test_group = df_user_error[\n",
    "            (df_user_error['test_group'] == test_group_name) &\n",
    "            (df_user_error['user__feedback'] == True)\n",
    "        ][metric]\n",
    "        mean, lower_bound, upper_bound = get_confidence_intervals(test_group, control_group)\n",
    "\n",
    "        data.append({\n",
    "            \"test_group_name\": test_group_name,\n",
    "            \"metric\": metric,\n",
    "            \"lower_bound\": lower_bound,\n",
    "            \"mean\": mean,\n",
    "            \"upper_bound\": upper_bound\n",
    "        })\n",
    "\n",
    "pd.DataFrame(data)"
   ]
  }
 ],
 "metadata": {
  "kernelspec": {
   "display_name": "Python 3",
   "language": "python",
   "name": "python3"
  },
  "language_info": {
   "codemirror_mode": {
    "name": "ipython",
    "version": 3
   },
   "file_extension": ".py",
   "mimetype": "text/x-python",
   "name": "python",
   "nbconvert_exporter": "python",
   "pygments_lexer": "ipython3",
   "version": "3.6.9"
  }
 },
 "nbformat": 4,
 "nbformat_minor": 4
}
