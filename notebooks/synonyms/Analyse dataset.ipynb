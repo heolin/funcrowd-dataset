{
 "cells": [
  {
   "cell_type": "code",
   "execution_count": 1,
   "metadata": {},
   "outputs": [],
   "source": [
    "import sys\n",
    "sys.path.insert(0, '../..')\n",
    "\n",
    "# general\n",
    "import ast\n",
    "import pandas as pd\n",
    "import seaborn as sns\n",
    "import matplotlib.pyplot as plt\n",
    "import warnings\n",
    "\n",
    "sns.set()\n",
    "warnings.filterwarnings(\"ignore\")\n",
    "\n",
    "# local\n",
    "from sklearn_crfsuite import metrics\n",
    "from core.stats import Statistics\n",
    "from core.utils import load_dataset\n",
    "from core.plots import plot_histogram, plot_learning_curve\n",
    "from core.learning import LearningAnalyser\n",
    "from core.reports import (\n",
    "    compute_user_error,\n",
    "    generate_comparison_report,\n",
    "    generate_test_groups_comparison_report,\n",
    "    generate_learning_report\n",
    ")\n",
    "from core.dataset import DatasetAnalyser, DatasetGroup\n",
    "\n",
    "from sklearn.metrics import (\n",
    "    accuracy_score, precision_score, recall_score, f1_score\n",
    ")\n",
    "\n",
    "from core.latex import create_latex_tables_generator\n",
    "\n",
    "import numpy as np\n",
    "np.random.seed(3453562)"
   ]
  },
  {
   "cell_type": "markdown",
   "metadata": {},
   "source": [
    "# 1. General statistics\n",
    "## 1.1. Read data"
   ]
  },
  {
   "cell_type": "code",
   "execution_count": 2,
   "metadata": {},
   "outputs": [],
   "source": [
    "df = load_dataset('../../data/synonyms/synonyms-dataset.csv')"
   ]
  },
  {
   "cell_type": "markdown",
   "metadata": {},
   "source": [
    "## 1.2. Statistics"
   ]
  },
  {
   "cell_type": "code",
   "execution_count": 3,
   "metadata": {},
   "outputs": [],
   "source": [
    "stats = Statistics(df)"
   ]
  },
  {
   "cell_type": "markdown",
   "metadata": {},
   "source": [
    "### 1.2.1. General"
   ]
  },
  {
   "cell_type": "code",
   "execution_count": 4,
   "metadata": {},
   "outputs": [
    {
     "data": {
      "text/html": [
       "<div>\n",
       "<style scoped>\n",
       "    .dataframe tbody tr th:only-of-type {\n",
       "        vertical-align: middle;\n",
       "    }\n",
       "\n",
       "    .dataframe tbody tr th {\n",
       "        vertical-align: top;\n",
       "    }\n",
       "\n",
       "    .dataframe thead th {\n",
       "        text-align: right;\n",
       "    }\n",
       "</style>\n",
       "<table border=\"1\" class=\"dataframe\">\n",
       "  <thead>\n",
       "    <tr style=\"text-align: right;\">\n",
       "      <th></th>\n",
       "      <th>value</th>\n",
       "    </tr>\n",
       "    <tr>\n",
       "      <th>metric</th>\n",
       "      <th></th>\n",
       "    </tr>\n",
       "  </thead>\n",
       "  <tbody>\n",
       "    <tr>\n",
       "      <th>total_annotations</th>\n",
       "      <td>12906</td>\n",
       "    </tr>\n",
       "    <tr>\n",
       "      <th>unique_items</th>\n",
       "      <td>1985</td>\n",
       "    </tr>\n",
       "    <tr>\n",
       "      <th>unique_users</th>\n",
       "      <td>232</td>\n",
       "    </tr>\n",
       "    <tr>\n",
       "      <th>total_annotation_time</th>\n",
       "      <td>12h 40m 24s</td>\n",
       "    </tr>\n",
       "  </tbody>\n",
       "</table>\n",
       "</div>"
      ],
      "text/plain": [
       "                             value\n",
       "metric                            \n",
       "total_annotations            12906\n",
       "unique_items                  1985\n",
       "unique_users                   232\n",
       "total_annotation_time  12h 40m 24s"
      ]
     },
     "execution_count": 4,
     "metadata": {},
     "output_type": "execute_result"
    }
   ],
   "source": [
    "stats.general"
   ]
  },
  {
   "cell_type": "markdown",
   "metadata": {},
   "source": [
    "### 1.2.2. Annotations per item"
   ]
  },
  {
   "cell_type": "code",
   "execution_count": 5,
   "metadata": {
    "scrolled": true
   },
   "outputs": [
    {
     "data": {
      "text/html": [
       "<div>\n",
       "<style scoped>\n",
       "    .dataframe tbody tr th:only-of-type {\n",
       "        vertical-align: middle;\n",
       "    }\n",
       "\n",
       "    .dataframe tbody tr th {\n",
       "        vertical-align: top;\n",
       "    }\n",
       "\n",
       "    .dataframe thead th {\n",
       "        text-align: right;\n",
       "    }\n",
       "</style>\n",
       "<table border=\"1\" class=\"dataframe\">\n",
       "  <thead>\n",
       "    <tr style=\"text-align: right;\">\n",
       "      <th></th>\n",
       "      <th>data__item_id</th>\n",
       "    </tr>\n",
       "  </thead>\n",
       "  <tbody>\n",
       "    <tr>\n",
       "      <th>count</th>\n",
       "      <td>1985.000000</td>\n",
       "    </tr>\n",
       "    <tr>\n",
       "      <th>mean</th>\n",
       "      <td>6.501763</td>\n",
       "    </tr>\n",
       "    <tr>\n",
       "      <th>std</th>\n",
       "      <td>2.503852</td>\n",
       "    </tr>\n",
       "    <tr>\n",
       "      <th>min</th>\n",
       "      <td>2.000000</td>\n",
       "    </tr>\n",
       "    <tr>\n",
       "      <th>25%</th>\n",
       "      <td>5.000000</td>\n",
       "    </tr>\n",
       "    <tr>\n",
       "      <th>50%</th>\n",
       "      <td>6.000000</td>\n",
       "    </tr>\n",
       "    <tr>\n",
       "      <th>75%</th>\n",
       "      <td>8.000000</td>\n",
       "    </tr>\n",
       "    <tr>\n",
       "      <th>max</th>\n",
       "      <td>14.000000</td>\n",
       "    </tr>\n",
       "  </tbody>\n",
       "</table>\n",
       "</div>"
      ],
      "text/plain": [
       "       data__item_id\n",
       "count    1985.000000\n",
       "mean        6.501763\n",
       "std         2.503852\n",
       "min         2.000000\n",
       "25%         5.000000\n",
       "50%         6.000000\n",
       "75%         8.000000\n",
       "max        14.000000"
      ]
     },
     "execution_count": 5,
     "metadata": {},
     "output_type": "execute_result"
    }
   ],
   "source": [
    "stats.annotations_per_item"
   ]
  },
  {
   "cell_type": "markdown",
   "metadata": {},
   "source": [
    "### 1.2.3. Annotations per user"
   ]
  },
  {
   "cell_type": "code",
   "execution_count": 6,
   "metadata": {},
   "outputs": [
    {
     "data": {
      "text/html": [
       "<div>\n",
       "<style scoped>\n",
       "    .dataframe tbody tr th:only-of-type {\n",
       "        vertical-align: middle;\n",
       "    }\n",
       "\n",
       "    .dataframe tbody tr th {\n",
       "        vertical-align: top;\n",
       "    }\n",
       "\n",
       "    .dataframe thead th {\n",
       "        text-align: right;\n",
       "    }\n",
       "</style>\n",
       "<table border=\"1\" class=\"dataframe\">\n",
       "  <thead>\n",
       "    <tr style=\"text-align: right;\">\n",
       "      <th></th>\n",
       "      <th>user__id</th>\n",
       "    </tr>\n",
       "  </thead>\n",
       "  <tbody>\n",
       "    <tr>\n",
       "      <th>count</th>\n",
       "      <td>232.000000</td>\n",
       "    </tr>\n",
       "    <tr>\n",
       "      <th>mean</th>\n",
       "      <td>55.629310</td>\n",
       "    </tr>\n",
       "    <tr>\n",
       "      <th>std</th>\n",
       "      <td>48.601129</td>\n",
       "    </tr>\n",
       "    <tr>\n",
       "      <th>min</th>\n",
       "      <td>11.000000</td>\n",
       "    </tr>\n",
       "    <tr>\n",
       "      <th>25%</th>\n",
       "      <td>50.000000</td>\n",
       "    </tr>\n",
       "    <tr>\n",
       "      <th>50%</th>\n",
       "      <td>50.000000</td>\n",
       "    </tr>\n",
       "    <tr>\n",
       "      <th>75%</th>\n",
       "      <td>50.000000</td>\n",
       "    </tr>\n",
       "    <tr>\n",
       "      <th>max</th>\n",
       "      <td>450.000000</td>\n",
       "    </tr>\n",
       "  </tbody>\n",
       "</table>\n",
       "</div>"
      ],
      "text/plain": [
       "         user__id\n",
       "count  232.000000\n",
       "mean    55.629310\n",
       "std     48.601129\n",
       "min     11.000000\n",
       "25%     50.000000\n",
       "50%     50.000000\n",
       "75%     50.000000\n",
       "max    450.000000"
      ]
     },
     "execution_count": 6,
     "metadata": {},
     "output_type": "execute_result"
    }
   ],
   "source": [
    "stats.annotations_per_user"
   ]
  },
  {
   "cell_type": "markdown",
   "metadata": {},
   "source": [
    "### 1.2.4. Average annotation time over time"
   ]
  },
  {
   "cell_type": "code",
   "execution_count": 7,
   "metadata": {},
   "outputs": [
    {
     "data": {
      "text/html": [
       "<div>\n",
       "<style scoped>\n",
       "    .dataframe tbody tr th:only-of-type {\n",
       "        vertical-align: middle;\n",
       "    }\n",
       "\n",
       "    .dataframe tbody tr th {\n",
       "        vertical-align: top;\n",
       "    }\n",
       "\n",
       "    .dataframe thead th {\n",
       "        text-align: right;\n",
       "    }\n",
       "</style>\n",
       "<table border=\"1\" class=\"dataframe\">\n",
       "  <thead>\n",
       "    <tr style=\"text-align: right;\">\n",
       "      <th></th>\n",
       "      <th>value</th>\n",
       "    </tr>\n",
       "    <tr>\n",
       "      <th>index</th>\n",
       "      <th></th>\n",
       "    </tr>\n",
       "  </thead>\n",
       "  <tbody>\n",
       "    <tr>\n",
       "      <th>10</th>\n",
       "      <td>11.483953</td>\n",
       "    </tr>\n",
       "    <tr>\n",
       "      <th>20</th>\n",
       "      <td>10.375833</td>\n",
       "    </tr>\n",
       "    <tr>\n",
       "      <th>30</th>\n",
       "      <td>11.450548</td>\n",
       "    </tr>\n",
       "    <tr>\n",
       "      <th>40</th>\n",
       "      <td>11.648627</td>\n",
       "    </tr>\n",
       "    <tr>\n",
       "      <th>60</th>\n",
       "      <td>7.486263</td>\n",
       "    </tr>\n",
       "    <tr>\n",
       "      <th>70</th>\n",
       "      <td>7.873434</td>\n",
       "    </tr>\n",
       "    <tr>\n",
       "      <th>80</th>\n",
       "      <td>4.794483</td>\n",
       "    </tr>\n",
       "    <tr>\n",
       "      <th>90</th>\n",
       "      <td>6.895422</td>\n",
       "    </tr>\n",
       "  </tbody>\n",
       "</table>\n",
       "</div>"
      ],
      "text/plain": [
       "           value\n",
       "index           \n",
       "10     11.483953\n",
       "20     10.375833\n",
       "30     11.450548\n",
       "40     11.648627\n",
       "60      7.486263\n",
       "70      7.873434\n",
       "80      4.794483\n",
       "90      6.895422"
      ]
     },
     "execution_count": 7,
     "metadata": {},
     "output_type": "execute_result"
    },
    {
     "data": {
      "image/png": "[encoded data removed]",
      "text/plain": [
       "<Figure size 1000x500 with 1 Axes>"
      ]
     },
     "metadata": {},
     "output_type": "display_data"
    }
   ],
   "source": [
    "plt.figure(figsize=(10, 5))\n",
    "plt.title(\"Average time of annotation over time\", fontsize=16)\n",
    "df_times = stats.average_time_per_annotation\n",
    "df_times['value'].plot()\n",
    "df_times[df_times.index % 10 == 0]"
   ]
  },
  {
   "cell_type": "markdown",
   "metadata": {},
   "source": [
    "# 2. Confidence intervals\n",
    "## 2.1. Compute user's annotation quality metrics\n",
    "- In this section we aggregate the raw result to compute the quality metrics value per user\n",
    "- To measure the quality of user's annotation we use: accuracy, recall, f1 and precision metrics\n",
    "- Mean error is computed for each user in each test_group separately.<br/>\n",
    "This way we can check how each user did in each test conditions"
   ]
  },
  {
   "cell_type": "code",
   "execution_count": 8,
   "metadata": {},
   "outputs": [],
   "source": [
    "METRICS_COLUMNS = [\"accuracy\", \"annotation_time\", \"count\"]"
   ]
  },
  {
   "cell_type": "code",
   "execution_count": 9,
   "metadata": {},
   "outputs": [],
   "source": [
    "def metrics_function(y_true: pd.Series, y_pred: pd.Series):\n",
    "    return {\n",
    "        \"accuracy\": (y_true == y_pred).mean()\n",
    "    }\n",
    "  \n",
    "    \n",
    "df_user_error = compute_user_error(df, metrics_function)"
   ]
  },
  {
   "cell_type": "markdown",
   "metadata": {},
   "source": [
    "## 2.2. Compute confidence intervals for test groups\n",
    "In this section we compute the confidence intervals for the percentage quality change between the control group and each of the test groups."
   ]
  },
  {
   "cell_type": "code",
   "execution_count": 10,
   "metadata": {},
   "outputs": [],
   "source": [
    "dataset = DatasetAnalyser(df_user_error, METRICS_COLUMNS)"
   ]
  },
  {
   "cell_type": "markdown",
   "metadata": {},
   "source": [
    "### 2.2.1. Compering: test groups vs control group"
   ]
  },
  {
   "cell_type": "code",
   "execution_count": 11,
   "metadata": {},
   "outputs": [],
   "source": [
    "df_ci_h1, df_percentage_ci_h1, df_p_value_h1, df_cohen_d_h1 = generate_comparison_report(dataset)"
   ]
  },
  {
   "cell_type": "markdown",
   "metadata": {},
   "source": [
    "#### Confidence intervals"
   ]
  },
  {
   "cell_type": "code",
   "execution_count": 12,
   "metadata": {},
   "outputs": [
    {
     "data": {
      "text/html": [
       "<div>\n",
       "<style scoped>\n",
       "    .dataframe tbody tr th:only-of-type {\n",
       "        vertical-align: middle;\n",
       "    }\n",
       "\n",
       "    .dataframe tbody tr th {\n",
       "        vertical-align: top;\n",
       "    }\n",
       "\n",
       "    .dataframe thead th {\n",
       "        text-align: right;\n",
       "    }\n",
       "</style>\n",
       "<table border=\"1\" class=\"dataframe\">\n",
       "  <thead>\n",
       "    <tr style=\"text-align: right;\">\n",
       "      <th></th>\n",
       "      <th></th>\n",
       "      <th>accuracy</th>\n",
       "      <th>annotation_time</th>\n",
       "      <th>count</th>\n",
       "    </tr>\n",
       "    <tr>\n",
       "      <th>group_name</th>\n",
       "      <th>quantile</th>\n",
       "      <th></th>\n",
       "      <th></th>\n",
       "      <th></th>\n",
       "    </tr>\n",
       "  </thead>\n",
       "  <tbody>\n",
       "    <tr>\n",
       "      <th rowspan=\"3\" valign=\"top\">high quality feedback</th>\n",
       "      <th>0.05</th>\n",
       "      <td>-0.005415</td>\n",
       "      <td>-0.238579</td>\n",
       "      <td>-2.527027</td>\n",
       "    </tr>\n",
       "    <tr>\n",
       "      <th>0.5</th>\n",
       "      <td>0.034901</td>\n",
       "      <td>2.003982</td>\n",
       "      <td>2.678564</td>\n",
       "    </tr>\n",
       "    <tr>\n",
       "      <th>0.95</th>\n",
       "      <td>0.074183</td>\n",
       "      <td>4.055799</td>\n",
       "      <td>9.790791</td>\n",
       "    </tr>\n",
       "    <tr>\n",
       "      <th rowspan=\"3\" valign=\"top\">low quality feedback</th>\n",
       "      <th>0.05</th>\n",
       "      <td>-0.026337</td>\n",
       "      <td>1.111609</td>\n",
       "      <td>-6.319167</td>\n",
       "    </tr>\n",
       "    <tr>\n",
       "      <th>0.5</th>\n",
       "      <td>0.009241</td>\n",
       "      <td>3.803867</td>\n",
       "      <td>7.013690</td>\n",
       "    </tr>\n",
       "    <tr>\n",
       "      <th>0.95</th>\n",
       "      <td>0.044125</td>\n",
       "      <td>6.553108</td>\n",
       "      <td>19.411012</td>\n",
       "    </tr>\n",
       "    <tr>\n",
       "      <th rowspan=\"3\" valign=\"top\">medium quality feedback</th>\n",
       "      <th>0.05</th>\n",
       "      <td>-0.021693</td>\n",
       "      <td>-1.991744</td>\n",
       "      <td>-45.432857</td>\n",
       "    </tr>\n",
       "    <tr>\n",
       "      <th>0.5</th>\n",
       "      <td>0.025860</td>\n",
       "      <td>1.589778</td>\n",
       "      <td>-19.207835</td>\n",
       "    </tr>\n",
       "    <tr>\n",
       "      <th>0.95</th>\n",
       "      <td>0.074581</td>\n",
       "      <td>4.959341</td>\n",
       "      <td>6.507068</td>\n",
       "    </tr>\n",
       "  </tbody>\n",
       "</table>\n",
       "</div>"
      ],
      "text/plain": [
       "                                  accuracy  annotation_time      count\n",
       "group_name              quantile                                      \n",
       "high quality feedback   0.05     -0.005415        -0.238579  -2.527027\n",
       "                        0.5       0.034901         2.003982   2.678564\n",
       "                        0.95      0.074183         4.055799   9.790791\n",
       "low quality feedback    0.05     -0.026337         1.111609  -6.319167\n",
       "                        0.5       0.009241         3.803867   7.013690\n",
       "                        0.95      0.044125         6.553108  19.411012\n",
       "medium quality feedback 0.05     -0.021693        -1.991744 -45.432857\n",
       "                        0.5       0.025860         1.589778 -19.207835\n",
       "                        0.95      0.074581         4.959341   6.507068"
      ]
     },
     "execution_count": 12,
     "metadata": {},
     "output_type": "execute_result"
    }
   ],
   "source": [
    "df_ci_h1"
   ]
  },
  {
   "cell_type": "markdown",
   "metadata": {},
   "source": [
    "#### Percentage confidence intervals"
   ]
  },
  {
   "cell_type": "code",
   "execution_count": 13,
   "metadata": {},
   "outputs": [
    {
     "data": {
      "text/html": [
       "<div>\n",
       "<style scoped>\n",
       "    .dataframe tbody tr th:only-of-type {\n",
       "        vertical-align: middle;\n",
       "    }\n",
       "\n",
       "    .dataframe tbody tr th {\n",
       "        vertical-align: top;\n",
       "    }\n",
       "\n",
       "    .dataframe thead th {\n",
       "        text-align: right;\n",
       "    }\n",
       "</style>\n",
       "<table border=\"1\" class=\"dataframe\">\n",
       "  <thead>\n",
       "    <tr style=\"text-align: right;\">\n",
       "      <th></th>\n",
       "      <th></th>\n",
       "      <th>accuracy</th>\n",
       "      <th>annotation_time</th>\n",
       "      <th>count</th>\n",
       "    </tr>\n",
       "    <tr>\n",
       "      <th>group_name</th>\n",
       "      <th>quantile</th>\n",
       "      <th></th>\n",
       "      <th></th>\n",
       "      <th></th>\n",
       "    </tr>\n",
       "  </thead>\n",
       "  <tbody>\n",
       "    <tr>\n",
       "      <th rowspan=\"3\" valign=\"top\">high quality feedback</th>\n",
       "      <th>0.05</th>\n",
       "      <td>-0.009664</td>\n",
       "      <td>-0.028819</td>\n",
       "      <td>-0.050559</td>\n",
       "    </tr>\n",
       "    <tr>\n",
       "      <th>0.5</th>\n",
       "      <td>0.062285</td>\n",
       "      <td>0.242067</td>\n",
       "      <td>0.053591</td>\n",
       "    </tr>\n",
       "    <tr>\n",
       "      <th>0.95</th>\n",
       "      <td>0.132387</td>\n",
       "      <td>0.489911</td>\n",
       "      <td>0.195888</td>\n",
       "    </tr>\n",
       "    <tr>\n",
       "      <th rowspan=\"3\" valign=\"top\">low quality feedback</th>\n",
       "      <th>0.05</th>\n",
       "      <td>-0.052570</td>\n",
       "      <td>0.095310</td>\n",
       "      <td>-0.136262</td>\n",
       "    </tr>\n",
       "    <tr>\n",
       "      <th>0.5</th>\n",
       "      <td>0.018444</td>\n",
       "      <td>0.326145</td>\n",
       "      <td>0.151239</td>\n",
       "    </tr>\n",
       "    <tr>\n",
       "      <th>0.95</th>\n",
       "      <td>0.088076</td>\n",
       "      <td>0.561865</td>\n",
       "      <td>0.418566</td>\n",
       "    </tr>\n",
       "    <tr>\n",
       "      <th rowspan=\"3\" valign=\"top\">medium quality feedback</th>\n",
       "      <th>0.05</th>\n",
       "      <td>-0.039276</td>\n",
       "      <td>-0.152179</td>\n",
       "      <td>-0.621025</td>\n",
       "    </tr>\n",
       "    <tr>\n",
       "      <th>0.5</th>\n",
       "      <td>0.046820</td>\n",
       "      <td>0.121467</td>\n",
       "      <td>-0.262553</td>\n",
       "    </tr>\n",
       "    <tr>\n",
       "      <th>0.95</th>\n",
       "      <td>0.135031</td>\n",
       "      <td>0.378918</td>\n",
       "      <td>0.088946</td>\n",
       "    </tr>\n",
       "  </tbody>\n",
       "</table>\n",
       "</div>"
      ],
      "text/plain": [
       "                                  accuracy  annotation_time     count\n",
       "group_name              quantile                                     \n",
       "high quality feedback   0.05     -0.009664        -0.028819 -0.050559\n",
       "                        0.5       0.062285         0.242067  0.053591\n",
       "                        0.95      0.132387         0.489911  0.195888\n",
       "low quality feedback    0.05     -0.052570         0.095310 -0.136262\n",
       "                        0.5       0.018444         0.326145  0.151239\n",
       "                        0.95      0.088076         0.561865  0.418566\n",
       "medium quality feedback 0.05     -0.039276        -0.152179 -0.621025\n",
       "                        0.5       0.046820         0.121467 -0.262553\n",
       "                        0.95      0.135031         0.378918  0.088946"
      ]
     },
     "execution_count": 13,
     "metadata": {},
     "output_type": "execute_result"
    }
   ],
   "source": [
    "df_percentage_ci_h1"
   ]
  },
  {
   "cell_type": "markdown",
   "metadata": {},
   "source": [
    "#### p-value"
   ]
  },
  {
   "cell_type": "code",
   "execution_count": 14,
   "metadata": {},
   "outputs": [
    {
     "data": {
      "text/html": [
       "<div>\n",
       "<style scoped>\n",
       "    .dataframe tbody tr th:only-of-type {\n",
       "        vertical-align: middle;\n",
       "    }\n",
       "\n",
       "    .dataframe tbody tr th {\n",
       "        vertical-align: top;\n",
       "    }\n",
       "\n",
       "    .dataframe thead th {\n",
       "        text-align: right;\n",
       "    }\n",
       "</style>\n",
       "<table border=\"1\" class=\"dataframe\">\n",
       "  <thead>\n",
       "    <tr style=\"text-align: right;\">\n",
       "      <th></th>\n",
       "      <th>accuracy</th>\n",
       "      <th>annotation_time</th>\n",
       "      <th>count</th>\n",
       "      <th>group_name</th>\n",
       "    </tr>\n",
       "  </thead>\n",
       "  <tbody>\n",
       "    <tr>\n",
       "      <th>0</th>\n",
       "      <td>0.9243</td>\n",
       "      <td>0.9310</td>\n",
       "      <td>0.7186</td>\n",
       "      <td>high quality feedback</td>\n",
       "    </tr>\n",
       "    <tr>\n",
       "      <th>0</th>\n",
       "      <td>0.6674</td>\n",
       "      <td>0.9925</td>\n",
       "      <td>0.8134</td>\n",
       "      <td>low quality feedback</td>\n",
       "    </tr>\n",
       "    <tr>\n",
       "      <th>0</th>\n",
       "      <td>0.8108</td>\n",
       "      <td>0.7702</td>\n",
       "      <td>0.1103</td>\n",
       "      <td>medium quality feedback</td>\n",
       "    </tr>\n",
       "  </tbody>\n",
       "</table>\n",
       "</div>"
      ],
      "text/plain": [
       "   accuracy  annotation_time   count               group_name\n",
       "0    0.9243           0.9310  0.7186    high quality feedback\n",
       "0    0.6674           0.9925  0.8134     low quality feedback\n",
       "0    0.8108           0.7702  0.1103  medium quality feedback"
      ]
     },
     "execution_count": 14,
     "metadata": {},
     "output_type": "execute_result"
    }
   ],
   "source": [
    "df_p_value_h1"
   ]
  },
  {
   "cell_type": "markdown",
   "metadata": {},
   "source": [
    "#### Cohen's D"
   ]
  },
  {
   "cell_type": "code",
   "execution_count": 15,
   "metadata": {},
   "outputs": [
    {
     "data": {
      "text/html": [
       "<div>\n",
       "<style scoped>\n",
       "    .dataframe tbody tr th:only-of-type {\n",
       "        vertical-align: middle;\n",
       "    }\n",
       "\n",
       "    .dataframe tbody tr th {\n",
       "        vertical-align: top;\n",
       "    }\n",
       "\n",
       "    .dataframe thead th {\n",
       "        text-align: right;\n",
       "    }\n",
       "</style>\n",
       "<table border=\"1\" class=\"dataframe\">\n",
       "  <thead>\n",
       "    <tr style=\"text-align: right;\">\n",
       "      <th></th>\n",
       "      <th>accuracy</th>\n",
       "      <th>annotation_time</th>\n",
       "      <th>count</th>\n",
       "      <th>group_name</th>\n",
       "    </tr>\n",
       "  </thead>\n",
       "  <tbody>\n",
       "    <tr>\n",
       "      <th>0</th>\n",
       "      <td>0.261378</td>\n",
       "      <td>0.270167</td>\n",
       "      <td>0.103388</td>\n",
       "      <td>high quality feedback</td>\n",
       "    </tr>\n",
       "    <tr>\n",
       "      <th>0</th>\n",
       "      <td>0.107134</td>\n",
       "      <td>0.482471</td>\n",
       "      <td>0.202538</td>\n",
       "      <td>low quality feedback</td>\n",
       "    </tr>\n",
       "    <tr>\n",
       "      <th>0</th>\n",
       "      <td>0.257392</td>\n",
       "      <td>0.202139</td>\n",
       "      <td>-0.342813</td>\n",
       "      <td>medium quality feedback</td>\n",
       "    </tr>\n",
       "  </tbody>\n",
       "</table>\n",
       "</div>"
      ],
      "text/plain": [
       "   accuracy  annotation_time     count               group_name\n",
       "0  0.261378         0.270167  0.103388    high quality feedback\n",
       "0  0.107134         0.482471  0.202538     low quality feedback\n",
       "0  0.257392         0.202139 -0.342813  medium quality feedback"
      ]
     },
     "execution_count": 15,
     "metadata": {},
     "output_type": "execute_result"
    }
   ],
   "source": [
    "df_cohen_d_h1"
   ]
  },
  {
   "cell_type": "markdown",
   "metadata": {},
   "source": [
    "#### Ploting histograms for the difference: test groups vs control group"
   ]
  },
  {
   "cell_type": "code",
   "execution_count": 16,
   "metadata": {},
   "outputs": [
    {
     "data": {
      "image/png": "[encoded data removed]",
      "text/plain": [
       "<Figure size 1200x800 with 3 Axes>"
      ]
     },
     "metadata": {},
     "output_type": "display_data"
    }
   ],
   "source": [
    "metric_index = 0\n",
    "plot_histogram(dataset, metric_index)"
   ]
  },
  {
   "cell_type": "markdown",
   "metadata": {},
   "source": [
    "### 2.2.2. Comparing: test groups with each other"
   ]
  },
  {
   "cell_type": "code",
   "execution_count": 17,
   "metadata": {},
   "outputs": [],
   "source": [
    "df_ci_h2, df_p_value_h2, df_cohen_d_h2 = generate_test_groups_comparison_report(dataset)"
   ]
  },
  {
   "cell_type": "markdown",
   "metadata": {},
   "source": [
    "#### Confidence interval"
   ]
  },
  {
   "cell_type": "code",
   "execution_count": 18,
   "metadata": {},
   "outputs": [
    {
     "data": {
      "text/html": [
       "<div>\n",
       "<style scoped>\n",
       "    .dataframe tbody tr th:only-of-type {\n",
       "        vertical-align: middle;\n",
       "    }\n",
       "\n",
       "    .dataframe tbody tr th {\n",
       "        vertical-align: top;\n",
       "    }\n",
       "\n",
       "    .dataframe thead th {\n",
       "        text-align: right;\n",
       "    }\n",
       "</style>\n",
       "<table border=\"1\" class=\"dataframe\">\n",
       "  <thead>\n",
       "    <tr style=\"text-align: right;\">\n",
       "      <th></th>\n",
       "      <th></th>\n",
       "      <th>accuracy</th>\n",
       "      <th>annotation_time</th>\n",
       "      <th>count</th>\n",
       "    </tr>\n",
       "    <tr>\n",
       "      <th>group_name</th>\n",
       "      <th>quantile</th>\n",
       "      <th></th>\n",
       "      <th></th>\n",
       "      <th></th>\n",
       "    </tr>\n",
       "  </thead>\n",
       "  <tbody>\n",
       "    <tr>\n",
       "      <th rowspan=\"3\" valign=\"top\">high_low</th>\n",
       "      <th>0.05</th>\n",
       "      <td>-0.057080</td>\n",
       "      <td>-0.434155</td>\n",
       "      <td>-0.418794</td>\n",
       "    </tr>\n",
       "    <tr>\n",
       "      <th>0.5</th>\n",
       "      <td>0.043841</td>\n",
       "      <td>-0.084078</td>\n",
       "      <td>-0.097647</td>\n",
       "    </tr>\n",
       "    <tr>\n",
       "      <th>0.95</th>\n",
       "      <td>0.139668</td>\n",
       "      <td>0.259755</td>\n",
       "      <td>0.232284</td>\n",
       "    </tr>\n",
       "    <tr>\n",
       "      <th rowspan=\"3\" valign=\"top\">high_medium</th>\n",
       "      <th>0.05</th>\n",
       "      <td>-0.092836</td>\n",
       "      <td>-0.258567</td>\n",
       "      <td>-0.058826</td>\n",
       "    </tr>\n",
       "    <tr>\n",
       "      <th>0.5</th>\n",
       "      <td>0.015465</td>\n",
       "      <td>0.120600</td>\n",
       "      <td>0.316144</td>\n",
       "    </tr>\n",
       "    <tr>\n",
       "      <th>0.95</th>\n",
       "      <td>0.122018</td>\n",
       "      <td>0.516697</td>\n",
       "      <td>0.696787</td>\n",
       "    </tr>\n",
       "    <tr>\n",
       "      <th rowspan=\"3\" valign=\"top\">medium_low</th>\n",
       "      <th>0.05</th>\n",
       "      <td>-0.072775</td>\n",
       "      <td>-0.574863</td>\n",
       "      <td>-0.868283</td>\n",
       "    </tr>\n",
       "    <tr>\n",
       "      <th>0.5</th>\n",
       "      <td>0.028375</td>\n",
       "      <td>-0.204678</td>\n",
       "      <td>-0.413792</td>\n",
       "    </tr>\n",
       "    <tr>\n",
       "      <th>0.95</th>\n",
       "      <td>0.142364</td>\n",
       "      <td>0.141037</td>\n",
       "      <td>0.033693</td>\n",
       "    </tr>\n",
       "  </tbody>\n",
       "</table>\n",
       "</div>"
      ],
      "text/plain": [
       "                      accuracy  annotation_time     count\n",
       "group_name  quantile                                     \n",
       "high_low    0.05     -0.057080        -0.434155 -0.418794\n",
       "            0.5       0.043841        -0.084078 -0.097647\n",
       "            0.95      0.139668         0.259755  0.232284\n",
       "high_medium 0.05     -0.092836        -0.258567 -0.058826\n",
       "            0.5       0.015465         0.120600  0.316144\n",
       "            0.95      0.122018         0.516697  0.696787\n",
       "medium_low  0.05     -0.072775        -0.574863 -0.868283\n",
       "            0.5       0.028375        -0.204678 -0.413792\n",
       "            0.95      0.142364         0.141037  0.033693"
      ]
     },
     "execution_count": 18,
     "metadata": {},
     "output_type": "execute_result"
    }
   ],
   "source": [
    "df_ci_h2"
   ]
  },
  {
   "cell_type": "markdown",
   "metadata": {},
   "source": [
    "#### p-value"
   ]
  },
  {
   "cell_type": "code",
   "execution_count": 19,
   "metadata": {},
   "outputs": [
    {
     "data": {
      "text/html": [
       "<div>\n",
       "<style scoped>\n",
       "    .dataframe tbody tr th:only-of-type {\n",
       "        vertical-align: middle;\n",
       "    }\n",
       "\n",
       "    .dataframe tbody tr th {\n",
       "        vertical-align: top;\n",
       "    }\n",
       "\n",
       "    .dataframe thead th {\n",
       "        text-align: right;\n",
       "    }\n",
       "</style>\n",
       "<table border=\"1\" class=\"dataframe\">\n",
       "  <thead>\n",
       "    <tr style=\"text-align: right;\">\n",
       "      <th></th>\n",
       "      <th>accuracy</th>\n",
       "      <th>annotation_time</th>\n",
       "      <th>count</th>\n",
       "      <th>group_name</th>\n",
       "    </tr>\n",
       "  </thead>\n",
       "  <tbody>\n",
       "    <tr>\n",
       "      <th>0</th>\n",
       "      <td>0.7772</td>\n",
       "      <td>0.3493</td>\n",
       "      <td>0.3115</td>\n",
       "      <td>high_low</td>\n",
       "    </tr>\n",
       "    <tr>\n",
       "      <th>0</th>\n",
       "      <td>0.5920</td>\n",
       "      <td>0.6897</td>\n",
       "      <td>0.9203</td>\n",
       "      <td>high_medium</td>\n",
       "    </tr>\n",
       "    <tr>\n",
       "      <th>0</th>\n",
       "      <td>0.6541</td>\n",
       "      <td>0.1710</td>\n",
       "      <td>0.0659</td>\n",
       "      <td>medium_low</td>\n",
       "    </tr>\n",
       "  </tbody>\n",
       "</table>\n",
       "</div>"
      ],
      "text/plain": [
       "   accuracy  annotation_time   count   group_name\n",
       "0    0.7772           0.3493  0.3115     high_low\n",
       "0    0.5920           0.6897  0.9203  high_medium\n",
       "0    0.6541           0.1710  0.0659   medium_low"
      ]
     },
     "execution_count": 19,
     "metadata": {},
     "output_type": "execute_result"
    }
   ],
   "source": [
    "df_p_value_h2"
   ]
  },
  {
   "cell_type": "markdown",
   "metadata": {},
   "source": [
    "#### Cohen's D"
   ]
  },
  {
   "cell_type": "code",
   "execution_count": 20,
   "metadata": {},
   "outputs": [
    {
     "data": {
      "text/html": [
       "<div>\n",
       "<style scoped>\n",
       "    .dataframe tbody tr th:only-of-type {\n",
       "        vertical-align: middle;\n",
       "    }\n",
       "\n",
       "    .dataframe tbody tr th {\n",
       "        vertical-align: top;\n",
       "    }\n",
       "\n",
       "    .dataframe thead th {\n",
       "        text-align: right;\n",
       "    }\n",
       "</style>\n",
       "<table border=\"1\" class=\"dataframe\">\n",
       "  <thead>\n",
       "    <tr style=\"text-align: right;\">\n",
       "      <th></th>\n",
       "      <th>accuracy</th>\n",
       "      <th>annotation_time</th>\n",
       "      <th>count</th>\n",
       "      <th>group_name</th>\n",
       "    </tr>\n",
       "  </thead>\n",
       "  <tbody>\n",
       "    <tr>\n",
       "      <th>0</th>\n",
       "      <td>1.027503</td>\n",
       "      <td>-0.563562</td>\n",
       "      <td>-0.739120</td>\n",
       "      <td>high_low</td>\n",
       "    </tr>\n",
       "    <tr>\n",
       "      <th>0</th>\n",
       "      <td>0.322930</td>\n",
       "      <td>0.760006</td>\n",
       "      <td>1.936232</td>\n",
       "      <td>high_medium</td>\n",
       "    </tr>\n",
       "    <tr>\n",
       "      <th>0</th>\n",
       "      <td>0.591821</td>\n",
       "      <td>-1.349204</td>\n",
       "      <td>-2.133738</td>\n",
       "      <td>medium_low</td>\n",
       "    </tr>\n",
       "  </tbody>\n",
       "</table>\n",
       "</div>"
      ],
      "text/plain": [
       "   accuracy  annotation_time     count   group_name\n",
       "0  1.027503        -0.563562 -0.739120     high_low\n",
       "0  0.322930         0.760006  1.936232  high_medium\n",
       "0  0.591821        -1.349204 -2.133738   medium_low"
      ]
     },
     "execution_count": 20,
     "metadata": {},
     "output_type": "execute_result"
    }
   ],
   "source": [
    "df_cohen_d_h2"
   ]
  },
  {
   "cell_type": "markdown",
   "metadata": {},
   "source": [
    "# 3. Analyse learning curve"
   ]
  },
  {
   "cell_type": "code",
   "execution_count": 21,
   "metadata": {},
   "outputs": [],
   "source": [
    "df['annotation_eval'] = (df['reference__output'] == df['annotation__output']).astype(int)\n",
    "df_high = df.query(\"test_group == 'high quality feedback'\")"
   ]
  },
  {
   "cell_type": "code",
   "execution_count": 22,
   "metadata": {},
   "outputs": [],
   "source": [
    "learning = LearningAnalyser(df_high)"
   ]
  },
  {
   "cell_type": "markdown",
   "metadata": {},
   "source": [
    "#### Learning curve stats"
   ]
  },
  {
   "cell_type": "code",
   "execution_count": 23,
   "metadata": {},
   "outputs": [
    {
     "data": {
      "text/html": [
       "<div>\n",
       "<style scoped>\n",
       "    .dataframe tbody tr th:only-of-type {\n",
       "        vertical-align: middle;\n",
       "    }\n",
       "\n",
       "    .dataframe tbody tr th {\n",
       "        vertical-align: top;\n",
       "    }\n",
       "\n",
       "    .dataframe thead th {\n",
       "        text-align: right;\n",
       "    }\n",
       "</style>\n",
       "<table border=\"1\" class=\"dataframe\">\n",
       "  <thead>\n",
       "    <tr style=\"text-align: right;\">\n",
       "      <th></th>\n",
       "      <th>Metryka</th>\n",
       "      <th>Wartość</th>\n",
       "    </tr>\n",
       "  </thead>\n",
       "  <tbody>\n",
       "    <tr>\n",
       "      <th>0</th>\n",
       "      <td>$\\alpha$</td>\n",
       "      <td>0.006</td>\n",
       "    </tr>\n",
       "    <tr>\n",
       "      <th>1</th>\n",
       "      <td>$\\beta$</td>\n",
       "      <td>-0.091</td>\n",
       "    </tr>\n",
       "    <tr>\n",
       "      <th>2</th>\n",
       "      <td>$\\alpha_r$</td>\n",
       "      <td>+31.29%</td>\n",
       "    </tr>\n",
       "    <tr>\n",
       "      <th>3</th>\n",
       "      <td>$\\beta_r$</td>\n",
       "      <td>-11.36%</td>\n",
       "    </tr>\n",
       "  </tbody>\n",
       "</table>\n",
       "</div>"
      ],
      "text/plain": [
       "      Metryka  Wartość\n",
       "0    $\\alpha$    0.006\n",
       "1     $\\beta$   -0.091\n",
       "2  $\\alpha_r$  +31.29%\n",
       "3   $\\beta_r$  -11.36%"
      ]
     },
     "execution_count": 23,
     "metadata": {},
     "output_type": "execute_result"
    }
   ],
   "source": [
    "learning_report = generate_learning_report(learning)\n",
    "learning_report"
   ]
  },
  {
   "cell_type": "markdown",
   "metadata": {},
   "source": [
    "#### Learning curve plot"
   ]
  },
  {
   "cell_type": "code",
   "execution_count": 24,
   "metadata": {},
   "outputs": [],
   "source": [
    "# styling fix\n",
    "learning_report['Wartość'] = learning_report['Wartość'].astype(str).str.replace(\".\", \",\")"
   ]
  },
  {
   "cell_type": "code",
   "execution_count": 25,
   "metadata": {},
   "outputs": [
    {
     "data": {
      "image/png": "[encoded data removed]",
      "text/plain": [
       "<Figure size 1500x500 with 2 Axes>"
      ]
     },
     "metadata": {},
     "output_type": "display_data"
    }
   ],
   "source": [
    "plot_learning_curve(learning, learning_report)"
   ]
  },
  {
   "cell_type": "markdown",
   "metadata": {},
   "source": [
    "## Generate latex tables"
   ]
  },
  {
   "cell_type": "code",
   "execution_count": 26,
   "metadata": {},
   "outputs": [],
   "source": [
    "latex_generator = create_latex_tables_generator(\n",
    "    df_percentage_ci_h1=df_percentage_ci_h1,\n",
    "    df_p_value_h1=df_p_value_h1,\n",
    "    df_cohen_d_h1=df_cohen_d_h1,\n",
    "    df_ci_h2=df_ci_h2,\n",
    "    df_p_value_h2=df_p_value_h2,\n",
    "    df_cohen_d_h2=df_cohen_d_h2\n",
    ")"
   ]
  },
  {
   "cell_type": "code",
   "execution_count": 27,
   "metadata": {},
   "outputs": [
    {
     "name": "stdout",
     "output_type": "stream",
     "text": [
      "\n",
      "\\begin{table}[H]\n",
      "\\centering\n",
      "\\caption{}\n",
      "\\label{tab:my-table}\n",
      "\\begin{tabular}{cccccc}\n",
      "\\rowcolor[HTML]{EFEFEF} \n",
      "\\multicolumn{1}{c|}{\\cellcolor[HTML]{EFEFEF}\\textbf{Warunek}} &\n",
      "  \\multicolumn{1}{c|}{\\cellcolor[HTML]{EFEFEF}\\boldmath$P_{05}$} &\n",
      "  \\multicolumn{1}{c|}{\\cellcolor[HTML]{EFEFEF}\\boldmath$\\mu$} &\n",
      "  \\multicolumn{1}{c|}{\\cellcolor[HTML]{EFEFEF}\\boldmath$P_{95}$} &\n",
      "  \\multicolumn{1}{c|}{\\cellcolor[HTML]{EFEFEF}\\boldmath$p$} &\n",
      "  \\boldmath$d$ \\\\ \\hline\n",
      "\\rowcolor[HTML]{EFEFEF} \n",
      "\\multicolumn{6}{c}{\\cellcolor[HTML]{EFEFEF}Hipoteza $H_1$ -- zmiana w metryce XXXX}                                                                                                        \\\\ \\hline\n",
      "        \\multicolumn{1}{c|}{$W_1$} & \\multicolumn{1}{c|}{-0.97\\%} & \\multicolumn{1}{c|}{+6.23\\%} & \\multicolumn{1}{c|}{+13.24\\%} & \\multicolumn{1}{c|}{0.9243} & 0.26 \\\\ \\hline\\multicolumn{1}{c|}{$W_2$} & \\multicolumn{1}{c|}{-3.93\\%} & \\multicolumn{1}{c|}{+4.68\\%} & \\multicolumn{1}{c|}{+13.50\\%} & \\multicolumn{1}{c|}{0.8108} & 0.26 \\\\ \\hline\\multicolumn{1}{c|}{$W_3$} & \\multicolumn{1}{c|}{-5.26\\%} & \\multicolumn{1}{c|}{+1.84\\%} & \\multicolumn{1}{c|}{+8.81\\%} & \\multicolumn{1}{c|}{0.6674} & 0.11 \\\\ \\hline\n",
      "\\rowcolor[HTML]{EFEFEF} \n",
      "\\multicolumn{6}{c}{\\cellcolor[HTML]{EFEFEF}Hipoteza $H_2$ -- zmiana w metryce XXXX}                                                                                                        \\\\ \\hline\n",
      "        \\multicolumn{1}{c|}{$W_1 - W_3$} & \\multicolumn{1}{c|}{-5.71\\%} & \\multicolumn{1}{c|}{+4.38\\%} & \\multicolumn{1}{c|}{+13.97\\%} & \\multicolumn{1}{c|}{0.7772} & 1.03 \\\\ \\hline\\multicolumn{1}{c|}{$W_1 - W_2$ } & \\multicolumn{1}{c|}{-9.28\\%} & \\multicolumn{1}{c|}{+1.55\\%} & \\multicolumn{1}{c|}{+12.20\\%} & \\multicolumn{1}{c|}{0.592} & 0.32 \\\\ \\hline\\multicolumn{1}{c|}{$W_2 - W_3$} & \\multicolumn{1}{c|}{-7.28\\%} & \\multicolumn{1}{c|}{+2.84\\%} & \\multicolumn{1}{c|}{+14.24\\%} & \\multicolumn{1}{c|}{0.6541} & 0.59 \\\\ \\hline\n",
      "\\rowcolor[HTML]{EFEFEF} \n",
      "\\multicolumn{6}{c}{\\cellcolor[HTML]{EFEFEF}Pytanie $P_2$ -- zmiana w szybkości pracy anotatorów}                                                                                                        \\\\ \\hline\n",
      "        \\multicolumn{1}{c|}{$W_1$} & \\multicolumn{1}{c|}{-2.88\\%} & \\multicolumn{1}{c|}{+24.21\\%} & \\multicolumn{1}{c|}{+48.99\\%} & \\multicolumn{1}{c|}{0.931} & 0.27 \\\\ \\hline\\multicolumn{1}{c|}{$W_2$} & \\multicolumn{1}{c|}{-15.22\\%} & \\multicolumn{1}{c|}{+12.15\\%} & \\multicolumn{1}{c|}{+37.89\\%} & \\multicolumn{1}{c|}{0.7702} & 0.2 \\\\ \\hline\\multicolumn{1}{c|}{$W_3$} & \\multicolumn{1}{c|}{+9.53\\%} & \\multicolumn{1}{c|}{+32.61\\%} & \\multicolumn{1}{c|}{+56.19\\%} & \\multicolumn{1}{c|}{0.9925} & 0.48 \\\\ \\hline\n",
      "\\rowcolor[HTML]{EFEFEF} \n",
      "\\multicolumn{6}{c}{\\cellcolor[HTML]{EFEFEF}Pytanie $P_3$ -- zmiana w liczbie wykonanych anotacji}                                                                                                        \\\\ \\hline\n",
      "        \\multicolumn{1}{c|}{$W_1$} & \\multicolumn{1}{c|}{-5.06\\%} & \\multicolumn{1}{c|}{+5.36\\%} & \\multicolumn{1}{c|}{+19.59\\%} & \\multicolumn{1}{c|}{0.7186} & 0.1 \\\\ \\hline\\multicolumn{1}{c|}{$W_2$} & \\multicolumn{1}{c|}{-62.10\\%} & \\multicolumn{1}{c|}{-26.26\\%} & \\multicolumn{1}{c|}{+8.89\\%} & \\multicolumn{1}{c|}{0.1103} & -0.34 \\\\ \\hline\\multicolumn{1}{c|}{$W_3$} & \\multicolumn{1}{c|}{-13.63\\%} & \\multicolumn{1}{c|}{+15.12\\%} & \\multicolumn{1}{c|}{+41.86\\%} & \\multicolumn{1}{c|}{0.8134} & 0.2 \\\\ \\hline\n",
      "\\end{tabular}\n",
      "\\end{table}\n",
      "        \n"
     ]
    }
   ],
   "source": [
    "print(latex_generator.get_results_table(\"accuracy\"))"
   ]
  }
 ],
 "metadata": {
  "kernelspec": {
   "display_name": "Python 3 (ipykernel)",
   "language": "python",
   "name": "python3"
  },
  "language_info": {
   "codemirror_mode": {
    "name": "ipython",
    "version": 3
   },
   "file_extension": ".py",
   "mimetype": "text/x-python",
   "name": "python",
   "nbconvert_exporter": "python",
   "pygments_lexer": "ipython3",
   "version": "3.10.4"
  }
 },
 "nbformat": 4,
 "nbformat_minor": 4
}
