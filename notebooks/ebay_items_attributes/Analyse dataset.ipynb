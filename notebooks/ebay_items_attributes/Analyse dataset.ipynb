{
 "cells": [
  {
   "cell_type": "code",
   "execution_count": 1,
   "metadata": {},
   "outputs": [],
   "source": [
    "import sys\n",
    "sys.path.insert(0, '../..')\n",
    "\n",
    "# general\n",
    "import ast\n",
    "import pandas as pd\n",
    "import seaborn as sns\n",
    "import matplotlib.pyplot as plt\n",
    "import warnings\n",
    "\n",
    "sns.set()\n",
    "warnings.filterwarnings(\"ignore\")\n",
    "\n",
    "# local\n",
    "from sklearn_crfsuite import metrics\n",
    "from core.stats import Statistics\n",
    "from core.utils import load_dataset, format_number\n",
    "from core.plots import plot_histogram, plot_learning_curve\n",
    "from core.learning import LearningAnalyser\n",
    "from core.reports import (\n",
    "    compute_user_error,\n",
    "    generate_comparison_report,\n",
    "    generate_test_groups_comparison_report,\n",
    "    generate_learning_report\n",
    ")\n",
    "from core.dataset import DatasetAnalyser, DatasetGroup\n",
    "\n",
    "from sklearn.metrics import (\n",
    "    accuracy_score, precision_score, recall_score, f1_score\n",
    ")\n",
    "\n",
    "from core.latex import create_latex_tables_generator\n",
    "\n",
    "import numpy as np\n",
    "np.random.seed(3453562)"
   ]
  },
  {
   "cell_type": "markdown",
   "metadata": {},
   "source": [
    "# 1. General statistics\n",
    "## 1.1. Read data"
   ]
  },
  {
   "cell_type": "code",
   "execution_count": 2,
   "metadata": {},
   "outputs": [],
   "source": [
    "df = load_dataset('../../data/ebay_items_attributes/ebay_items_attributes-dataset.csv')"
   ]
  },
  {
   "cell_type": "markdown",
   "metadata": {},
   "source": [
    "### 1.1.1. Parse the attribute tags in IOB form"
   ]
  },
  {
   "cell_type": "code",
   "execution_count": 3,
   "metadata": {},
   "outputs": [],
   "source": [
    "df['annotation__output'] = df['annotation__output'].apply(ast.literal_eval)\n",
    "df['reference__output'] = df['reference__output'].apply(ast.literal_eval)"
   ]
  },
  {
   "cell_type": "markdown",
   "metadata": {},
   "source": [
    "### 1.1.2. Simplify the beggining and inside tags"
   ]
  },
  {
   "cell_type": "code",
   "execution_count": 4,
   "metadata": {},
   "outputs": [],
   "source": [
    "df['annotation__output'] = df['annotation__output'].apply(lambda tags:[t.split('-')[0] for t in tags])\n",
    "df['reference__output'] = df['reference__output'].apply(lambda tags:[t.split('-')[0] for t in tags])"
   ]
  },
  {
   "cell_type": "markdown",
   "metadata": {},
   "source": [
    "## 1.2. Statistics"
   ]
  },
  {
   "cell_type": "code",
   "execution_count": 5,
   "metadata": {},
   "outputs": [],
   "source": [
    "stats = Statistics(df)"
   ]
  },
  {
   "cell_type": "markdown",
   "metadata": {},
   "source": [
    "### 1.2.1. General"
   ]
  },
  {
   "cell_type": "code",
   "execution_count": 6,
   "metadata": {},
   "outputs": [
    {
     "data": {
      "text/html": [
       "<div>\n",
       "<style scoped>\n",
       "    .dataframe tbody tr th:only-of-type {\n",
       "        vertical-align: middle;\n",
       "    }\n",
       "\n",
       "    .dataframe tbody tr th {\n",
       "        vertical-align: top;\n",
       "    }\n",
       "\n",
       "    .dataframe thead th {\n",
       "        text-align: right;\n",
       "    }\n",
       "</style>\n",
       "<table border=\"1\" class=\"dataframe\">\n",
       "  <thead>\n",
       "    <tr style=\"text-align: right;\">\n",
       "      <th></th>\n",
       "      <th>value</th>\n",
       "    </tr>\n",
       "    <tr>\n",
       "      <th>metric</th>\n",
       "      <th></th>\n",
       "    </tr>\n",
       "  </thead>\n",
       "  <tbody>\n",
       "    <tr>\n",
       "      <th>total_annotations</th>\n",
       "      <td>6779</td>\n",
       "    </tr>\n",
       "    <tr>\n",
       "      <th>unique_items</th>\n",
       "      <td>1871</td>\n",
       "    </tr>\n",
       "    <tr>\n",
       "      <th>unique_users</th>\n",
       "      <td>122</td>\n",
       "    </tr>\n",
       "    <tr>\n",
       "      <th>total_annotation_time</th>\n",
       "      <td>06h 16m 25s</td>\n",
       "    </tr>\n",
       "  </tbody>\n",
       "</table>\n",
       "</div>"
      ],
      "text/plain": [
       "                             value\n",
       "metric                            \n",
       "total_annotations             6779\n",
       "unique_items                  1871\n",
       "unique_users                   122\n",
       "total_annotation_time  06h 16m 25s"
      ]
     },
     "execution_count": 6,
     "metadata": {},
     "output_type": "execute_result"
    }
   ],
   "source": [
    "stats.general"
   ]
  },
  {
   "cell_type": "markdown",
   "metadata": {},
   "source": [
    "### 1.2.2. Annotations per item"
   ]
  },
  {
   "cell_type": "code",
   "execution_count": 7,
   "metadata": {
    "scrolled": true
   },
   "outputs": [
    {
     "data": {
      "text/html": [
       "<div>\n",
       "<style scoped>\n",
       "    .dataframe tbody tr th:only-of-type {\n",
       "        vertical-align: middle;\n",
       "    }\n",
       "\n",
       "    .dataframe tbody tr th {\n",
       "        vertical-align: top;\n",
       "    }\n",
       "\n",
       "    .dataframe thead th {\n",
       "        text-align: right;\n",
       "    }\n",
       "</style>\n",
       "<table border=\"1\" class=\"dataframe\">\n",
       "  <thead>\n",
       "    <tr style=\"text-align: right;\">\n",
       "      <th></th>\n",
       "      <th>data__item_id</th>\n",
       "    </tr>\n",
       "  </thead>\n",
       "  <tbody>\n",
       "    <tr>\n",
       "      <th>count</th>\n",
       "      <td>1871.000000</td>\n",
       "    </tr>\n",
       "    <tr>\n",
       "      <th>mean</th>\n",
       "      <td>3.623196</td>\n",
       "    </tr>\n",
       "    <tr>\n",
       "      <th>std</th>\n",
       "      <td>1.990264</td>\n",
       "    </tr>\n",
       "    <tr>\n",
       "      <th>min</th>\n",
       "      <td>1.000000</td>\n",
       "    </tr>\n",
       "    <tr>\n",
       "      <th>25%</th>\n",
       "      <td>2.000000</td>\n",
       "    </tr>\n",
       "    <tr>\n",
       "      <th>50%</th>\n",
       "      <td>3.000000</td>\n",
       "    </tr>\n",
       "    <tr>\n",
       "      <th>75%</th>\n",
       "      <td>4.000000</td>\n",
       "    </tr>\n",
       "    <tr>\n",
       "      <th>max</th>\n",
       "      <td>22.000000</td>\n",
       "    </tr>\n",
       "  </tbody>\n",
       "</table>\n",
       "</div>"
      ],
      "text/plain": [
       "       data__item_id\n",
       "count    1871.000000\n",
       "mean        3.623196\n",
       "std         1.990264\n",
       "min         1.000000\n",
       "25%         2.000000\n",
       "50%         3.000000\n",
       "75%         4.000000\n",
       "max        22.000000"
      ]
     },
     "execution_count": 7,
     "metadata": {},
     "output_type": "execute_result"
    }
   ],
   "source": [
    "stats.annotations_per_item"
   ]
  },
  {
   "cell_type": "markdown",
   "metadata": {},
   "source": [
    "### 1.2.3. Annotations per user"
   ]
  },
  {
   "cell_type": "code",
   "execution_count": 8,
   "metadata": {},
   "outputs": [
    {
     "data": {
      "text/html": [
       "<div>\n",
       "<style scoped>\n",
       "    .dataframe tbody tr th:only-of-type {\n",
       "        vertical-align: middle;\n",
       "    }\n",
       "\n",
       "    .dataframe tbody tr th {\n",
       "        vertical-align: top;\n",
       "    }\n",
       "\n",
       "    .dataframe thead th {\n",
       "        text-align: right;\n",
       "    }\n",
       "</style>\n",
       "<table border=\"1\" class=\"dataframe\">\n",
       "  <thead>\n",
       "    <tr style=\"text-align: right;\">\n",
       "      <th></th>\n",
       "      <th>user__id</th>\n",
       "    </tr>\n",
       "  </thead>\n",
       "  <tbody>\n",
       "    <tr>\n",
       "      <th>count</th>\n",
       "      <td>122.000000</td>\n",
       "    </tr>\n",
       "    <tr>\n",
       "      <th>mean</th>\n",
       "      <td>55.565574</td>\n",
       "    </tr>\n",
       "    <tr>\n",
       "      <th>std</th>\n",
       "      <td>70.111952</td>\n",
       "    </tr>\n",
       "    <tr>\n",
       "      <th>min</th>\n",
       "      <td>12.000000</td>\n",
       "    </tr>\n",
       "    <tr>\n",
       "      <th>25%</th>\n",
       "      <td>22.000000</td>\n",
       "    </tr>\n",
       "    <tr>\n",
       "      <th>50%</th>\n",
       "      <td>49.000000</td>\n",
       "    </tr>\n",
       "    <tr>\n",
       "      <th>75%</th>\n",
       "      <td>50.000000</td>\n",
       "    </tr>\n",
       "    <tr>\n",
       "      <th>max</th>\n",
       "      <td>683.000000</td>\n",
       "    </tr>\n",
       "  </tbody>\n",
       "</table>\n",
       "</div>"
      ],
      "text/plain": [
       "         user__id\n",
       "count  122.000000\n",
       "mean    55.565574\n",
       "std     70.111952\n",
       "min     12.000000\n",
       "25%     22.000000\n",
       "50%     49.000000\n",
       "75%     50.000000\n",
       "max    683.000000"
      ]
     },
     "execution_count": 8,
     "metadata": {},
     "output_type": "execute_result"
    }
   ],
   "source": [
    "stats.annotations_per_user"
   ]
  },
  {
   "cell_type": "markdown",
   "metadata": {},
   "source": [
    "### 1.2.4. Average annotation time over time"
   ]
  },
  {
   "cell_type": "code",
   "execution_count": 9,
   "metadata": {},
   "outputs": [
    {
     "data": {
      "text/html": [
       "<div>\n",
       "<style scoped>\n",
       "    .dataframe tbody tr th:only-of-type {\n",
       "        vertical-align: middle;\n",
       "    }\n",
       "\n",
       "    .dataframe tbody tr th {\n",
       "        vertical-align: top;\n",
       "    }\n",
       "\n",
       "    .dataframe thead th {\n",
       "        text-align: right;\n",
       "    }\n",
       "</style>\n",
       "<table border=\"1\" class=\"dataframe\">\n",
       "  <thead>\n",
       "    <tr style=\"text-align: right;\">\n",
       "      <th></th>\n",
       "      <th>value</th>\n",
       "    </tr>\n",
       "    <tr>\n",
       "      <th>index</th>\n",
       "      <th></th>\n",
       "    </tr>\n",
       "  </thead>\n",
       "  <tbody>\n",
       "    <tr>\n",
       "      <th>10</th>\n",
       "      <td>19.355967</td>\n",
       "    </tr>\n",
       "    <tr>\n",
       "      <th>20</th>\n",
       "      <td>19.816478</td>\n",
       "    </tr>\n",
       "    <tr>\n",
       "      <th>30</th>\n",
       "      <td>18.286692</td>\n",
       "    </tr>\n",
       "    <tr>\n",
       "      <th>40</th>\n",
       "      <td>18.361431</td>\n",
       "    </tr>\n",
       "    <tr>\n",
       "      <th>60</th>\n",
       "      <td>11.938329</td>\n",
       "    </tr>\n",
       "    <tr>\n",
       "      <th>70</th>\n",
       "      <td>17.637916</td>\n",
       "    </tr>\n",
       "    <tr>\n",
       "      <th>80</th>\n",
       "      <td>13.099505</td>\n",
       "    </tr>\n",
       "    <tr>\n",
       "      <th>90</th>\n",
       "      <td>10.849695</td>\n",
       "    </tr>\n",
       "  </tbody>\n",
       "</table>\n",
       "</div>"
      ],
      "text/plain": [
       "           value\n",
       "index           \n",
       "10     19.355967\n",
       "20     19.816478\n",
       "30     18.286692\n",
       "40     18.361431\n",
       "60     11.938329\n",
       "70     17.637916\n",
       "80     13.099505\n",
       "90     10.849695"
      ]
     },
     "execution_count": 9,
     "metadata": {},
     "output_type": "execute_result"
    },
    {
     "data": {
      "image/png": "[encoded data removed]",
      "text/plain": [
       "<Figure size 1000x500 with 1 Axes>"
      ]
     },
     "metadata": {},
     "output_type": "display_data"
    }
   ],
   "source": [
    "plt.figure(figsize=(10, 5))\n",
    "plt.title(\"Average time of annotation over time\", fontsize=16)\n",
    "df_times = stats.average_time_per_annotation\n",
    "df_times['value'].plot()\n",
    "df_times[df_times.index % 10 == 0]"
   ]
  },
  {
   "cell_type": "markdown",
   "metadata": {},
   "source": [
    "# 2. Confidence intervals\n",
    "## 2.1. Compute user's annotation quality metrics\n",
    "- In this section we aggregate the raw result to compute the quality metrics value per user\n",
    "- To measure the quality of user's annotation we use: accuracy, recall, f1 and precision metrics\n",
    "- Mean error is computed for each user in each test_group separately.<br/>\n",
    "This way we can check how each user did in each test conditions"
   ]
  },
  {
   "cell_type": "code",
   "execution_count": 10,
   "metadata": {},
   "outputs": [],
   "source": [
    "METRICS_COLUMNS = [\"f1\", \"precision\", \"recall\", \"annotation_time\", \"count\"]\n",
    "LABELS = [\"Brand\", \"Color\", \"Material\", \"Size\", \"Pattern\", \"Department\"]"
   ]
  },
  {
   "cell_type": "code",
   "execution_count": 11,
   "metadata": {},
   "outputs": [],
   "source": [
    "def metrics_function(y_true: pd.Series, y_pred: pd.Series):\n",
    "    return {\n",
    "        'precision': metrics.flat_precision_score(y_true, y_pred, average='weighted', labels=LABELS),\n",
    "        'recall': metrics.flat_recall_score(y_true, y_pred, average='weighted', labels=LABELS),\n",
    "        'f1': metrics.flat_f1_score(y_true, y_pred, average='weighted', labels=LABELS)\n",
    "    }\n",
    "  \n",
    "    \n",
    "df_user_error = compute_user_error(df, metrics_function)"
   ]
  },
  {
   "cell_type": "markdown",
   "metadata": {},
   "source": [
    "## 2.2. Compute confidence intervals for test groups\n",
    "In this section we compute the confidence intervals for the percentage quality change between the control group and each of the test groups."
   ]
  },
  {
   "cell_type": "code",
   "execution_count": 12,
   "metadata": {},
   "outputs": [],
   "source": [
    "dataset = DatasetAnalyser(df_user_error, METRICS_COLUMNS)"
   ]
  },
  {
   "cell_type": "markdown",
   "metadata": {},
   "source": [
    "### 2.2.1. Compering: test groups vs control group"
   ]
  },
  {
   "cell_type": "code",
   "execution_count": 13,
   "metadata": {},
   "outputs": [],
   "source": [
    "df_ci_h1, df_percentage_ci_h1, df_p_value_h1, df_cohen_d_h1 = generate_comparison_report(dataset)"
   ]
  },
  {
   "cell_type": "markdown",
   "metadata": {},
   "source": [
    "#### Confidence intervals"
   ]
  },
  {
   "cell_type": "code",
   "execution_count": 14,
   "metadata": {},
   "outputs": [
    {
     "data": {
      "text/html": [
       "<div>\n",
       "<style scoped>\n",
       "    .dataframe tbody tr th:only-of-type {\n",
       "        vertical-align: middle;\n",
       "    }\n",
       "\n",
       "    .dataframe tbody tr th {\n",
       "        vertical-align: top;\n",
       "    }\n",
       "\n",
       "    .dataframe thead th {\n",
       "        text-align: right;\n",
       "    }\n",
       "</style>\n",
       "<table border=\"1\" class=\"dataframe\">\n",
       "  <thead>\n",
       "    <tr style=\"text-align: right;\">\n",
       "      <th></th>\n",
       "      <th></th>\n",
       "      <th>f1</th>\n",
       "      <th>precision</th>\n",
       "      <th>recall</th>\n",
       "      <th>annotation_time</th>\n",
       "      <th>count</th>\n",
       "    </tr>\n",
       "    <tr>\n",
       "      <th>group_name</th>\n",
       "      <th>quantile</th>\n",
       "      <th></th>\n",
       "      <th></th>\n",
       "      <th></th>\n",
       "      <th></th>\n",
       "      <th></th>\n",
       "    </tr>\n",
       "  </thead>\n",
       "  <tbody>\n",
       "    <tr>\n",
       "      <th rowspan=\"3\" valign=\"top\">high quality feedback</th>\n",
       "      <th>0.05</th>\n",
       "      <td>0.036737</td>\n",
       "      <td>0.069482</td>\n",
       "      <td>0.014805</td>\n",
       "      <td>0.227785</td>\n",
       "      <td>-31.988916</td>\n",
       "    </tr>\n",
       "    <tr>\n",
       "      <th>0.5</th>\n",
       "      <td>0.122438</td>\n",
       "      <td>0.150760</td>\n",
       "      <td>0.118547</td>\n",
       "      <td>5.730381</td>\n",
       "      <td>-10.477696</td>\n",
       "    </tr>\n",
       "    <tr>\n",
       "      <th>0.95</th>\n",
       "      <td>0.213035</td>\n",
       "      <td>0.233314</td>\n",
       "      <td>0.224031</td>\n",
       "      <td>11.694421</td>\n",
       "      <td>9.133902</td>\n",
       "    </tr>\n",
       "    <tr>\n",
       "      <th rowspan=\"3\" valign=\"top\">low quality feedback</th>\n",
       "      <th>0.05</th>\n",
       "      <td>-0.164984</td>\n",
       "      <td>-0.162817</td>\n",
       "      <td>-0.206705</td>\n",
       "      <td>-13.692621</td>\n",
       "      <td>1.181319</td>\n",
       "    </tr>\n",
       "    <tr>\n",
       "      <th>0.5</th>\n",
       "      <td>-0.003946</td>\n",
       "      <td>-0.015241</td>\n",
       "      <td>-0.007620</td>\n",
       "      <td>-6.354169</td>\n",
       "      <td>5.170714</td>\n",
       "    </tr>\n",
       "    <tr>\n",
       "      <th>0.95</th>\n",
       "      <td>0.154681</td>\n",
       "      <td>0.126623</td>\n",
       "      <td>0.190170</td>\n",
       "      <td>-0.544806</td>\n",
       "      <td>9.786264</td>\n",
       "    </tr>\n",
       "    <tr>\n",
       "      <th rowspan=\"3\" valign=\"top\">medium quality feedback</th>\n",
       "      <th>0.05</th>\n",
       "      <td>-0.052852</td>\n",
       "      <td>-0.083185</td>\n",
       "      <td>-0.051864</td>\n",
       "      <td>-3.574291</td>\n",
       "      <td>-11.120238</td>\n",
       "    </tr>\n",
       "    <tr>\n",
       "      <th>0.5</th>\n",
       "      <td>0.062634</td>\n",
       "      <td>0.036036</td>\n",
       "      <td>0.095854</td>\n",
       "      <td>3.525992</td>\n",
       "      <td>6.315571</td>\n",
       "    </tr>\n",
       "    <tr>\n",
       "      <th>0.95</th>\n",
       "      <td>0.185965</td>\n",
       "      <td>0.164588</td>\n",
       "      <td>0.247721</td>\n",
       "      <td>9.974447</td>\n",
       "      <td>23.252381</td>\n",
       "    </tr>\n",
       "  </tbody>\n",
       "</table>\n",
       "</div>"
      ],
      "text/plain": [
       "                                        f1  precision    recall  \\\n",
       "group_name              quantile                                  \n",
       "high quality feedback   0.05      0.036737   0.069482  0.014805   \n",
       "                        0.5       0.122438   0.150760  0.118547   \n",
       "                        0.95      0.213035   0.233314  0.224031   \n",
       "low quality feedback    0.05     -0.164984  -0.162817 -0.206705   \n",
       "                        0.5      -0.003946  -0.015241 -0.007620   \n",
       "                        0.95      0.154681   0.126623  0.190170   \n",
       "medium quality feedback 0.05     -0.052852  -0.083185 -0.051864   \n",
       "                        0.5       0.062634   0.036036  0.095854   \n",
       "                        0.95      0.185965   0.164588  0.247721   \n",
       "\n",
       "                                  annotation_time      count  \n",
       "group_name              quantile                              \n",
       "high quality feedback   0.05             0.227785 -31.988916  \n",
       "                        0.5              5.730381 -10.477696  \n",
       "                        0.95            11.694421   9.133902  \n",
       "low quality feedback    0.05           -13.692621   1.181319  \n",
       "                        0.5             -6.354169   5.170714  \n",
       "                        0.95            -0.544806   9.786264  \n",
       "medium quality feedback 0.05            -3.574291 -11.120238  \n",
       "                        0.5              3.525992   6.315571  \n",
       "                        0.95             9.974447  23.252381  "
      ]
     },
     "execution_count": 14,
     "metadata": {},
     "output_type": "execute_result"
    }
   ],
   "source": [
    "df_ci_h1"
   ]
  },
  {
   "cell_type": "markdown",
   "metadata": {},
   "source": [
    "#### Percentage confidence intervals"
   ]
  },
  {
   "cell_type": "code",
   "execution_count": 15,
   "metadata": {},
   "outputs": [
    {
     "data": {
      "text/html": [
       "<div>\n",
       "<style scoped>\n",
       "    .dataframe tbody tr th:only-of-type {\n",
       "        vertical-align: middle;\n",
       "    }\n",
       "\n",
       "    .dataframe tbody tr th {\n",
       "        vertical-align: top;\n",
       "    }\n",
       "\n",
       "    .dataframe thead th {\n",
       "        text-align: right;\n",
       "    }\n",
       "</style>\n",
       "<table border=\"1\" class=\"dataframe\">\n",
       "  <thead>\n",
       "    <tr style=\"text-align: right;\">\n",
       "      <th></th>\n",
       "      <th></th>\n",
       "      <th>f1</th>\n",
       "      <th>precision</th>\n",
       "      <th>recall</th>\n",
       "      <th>annotation_time</th>\n",
       "      <th>count</th>\n",
       "    </tr>\n",
       "    <tr>\n",
       "      <th>group_name</th>\n",
       "      <th>quantile</th>\n",
       "      <th></th>\n",
       "      <th></th>\n",
       "      <th></th>\n",
       "      <th></th>\n",
       "      <th></th>\n",
       "    </tr>\n",
       "  </thead>\n",
       "  <tbody>\n",
       "    <tr>\n",
       "      <th rowspan=\"3\" valign=\"top\">high quality feedback</th>\n",
       "      <th>0.05</th>\n",
       "      <td>0.187525</td>\n",
       "      <td>0.366852</td>\n",
       "      <td>0.059552</td>\n",
       "      <td>0.011523</td>\n",
       "      <td>-0.471041</td>\n",
       "    </tr>\n",
       "    <tr>\n",
       "      <th>0.5</th>\n",
       "      <td>0.624988</td>\n",
       "      <td>0.795990</td>\n",
       "      <td>0.476843</td>\n",
       "      <td>0.289879</td>\n",
       "      <td>-0.154285</td>\n",
       "    </tr>\n",
       "    <tr>\n",
       "      <th>0.95</th>\n",
       "      <td>1.087440</td>\n",
       "      <td>1.231864</td>\n",
       "      <td>0.901144</td>\n",
       "      <td>0.591578</td>\n",
       "      <td>0.134498</td>\n",
       "    </tr>\n",
       "    <tr>\n",
       "      <th rowspan=\"3\" valign=\"top\">low quality feedback</th>\n",
       "      <th>0.05</th>\n",
       "      <td>-0.528653</td>\n",
       "      <td>-0.513478</td>\n",
       "      <td>-0.561085</td>\n",
       "      <td>-0.641366</td>\n",
       "      <td>0.065350</td>\n",
       "    </tr>\n",
       "    <tr>\n",
       "      <th>0.5</th>\n",
       "      <td>-0.012644</td>\n",
       "      <td>-0.048066</td>\n",
       "      <td>-0.020683</td>\n",
       "      <td>-0.297631</td>\n",
       "      <td>0.286040</td>\n",
       "    </tr>\n",
       "    <tr>\n",
       "      <th>0.95</th>\n",
       "      <td>0.495638</td>\n",
       "      <td>0.399333</td>\n",
       "      <td>0.516204</td>\n",
       "      <td>-0.025519</td>\n",
       "      <td>0.541368</td>\n",
       "    </tr>\n",
       "    <tr>\n",
       "      <th rowspan=\"3\" valign=\"top\">medium quality feedback</th>\n",
       "      <th>0.05</th>\n",
       "      <td>-0.200870</td>\n",
       "      <td>-0.276950</td>\n",
       "      <td>-0.173525</td>\n",
       "      <td>-0.187508</td>\n",
       "      <td>-0.384403</td>\n",
       "    </tr>\n",
       "    <tr>\n",
       "      <th>0.5</th>\n",
       "      <td>0.238047</td>\n",
       "      <td>0.119975</td>\n",
       "      <td>0.320708</td>\n",
       "      <td>0.184975</td>\n",
       "      <td>0.218316</td>\n",
       "    </tr>\n",
       "    <tr>\n",
       "      <th>0.95</th>\n",
       "      <td>0.706778</td>\n",
       "      <td>0.547970</td>\n",
       "      <td>0.828821</td>\n",
       "      <td>0.523262</td>\n",
       "      <td>0.803786</td>\n",
       "    </tr>\n",
       "  </tbody>\n",
       "</table>\n",
       "</div>"
      ],
      "text/plain": [
       "                                        f1  precision    recall  \\\n",
       "group_name              quantile                                  \n",
       "high quality feedback   0.05      0.187525   0.366852  0.059552   \n",
       "                        0.5       0.624988   0.795990  0.476843   \n",
       "                        0.95      1.087440   1.231864  0.901144   \n",
       "low quality feedback    0.05     -0.528653  -0.513478 -0.561085   \n",
       "                        0.5      -0.012644  -0.048066 -0.020683   \n",
       "                        0.95      0.495638   0.399333  0.516204   \n",
       "medium quality feedback 0.05     -0.200870  -0.276950 -0.173525   \n",
       "                        0.5       0.238047   0.119975  0.320708   \n",
       "                        0.95      0.706778   0.547970  0.828821   \n",
       "\n",
       "                                  annotation_time     count  \n",
       "group_name              quantile                             \n",
       "high quality feedback   0.05             0.011523 -0.471041  \n",
       "                        0.5              0.289879 -0.154285  \n",
       "                        0.95             0.591578  0.134498  \n",
       "low quality feedback    0.05            -0.641366  0.065350  \n",
       "                        0.5             -0.297631  0.286040  \n",
       "                        0.95            -0.025519  0.541368  \n",
       "medium quality feedback 0.05            -0.187508 -0.384403  \n",
       "                        0.5              0.184975  0.218316  \n",
       "                        0.95             0.523262  0.803786  "
      ]
     },
     "execution_count": 15,
     "metadata": {},
     "output_type": "execute_result"
    }
   ],
   "source": [
    "df_percentage_ci_h1"
   ]
  },
  {
   "cell_type": "markdown",
   "metadata": {},
   "source": [
    "#### p-value"
   ]
  },
  {
   "cell_type": "code",
   "execution_count": 16,
   "metadata": {},
   "outputs": [
    {
     "data": {
      "text/html": [
       "<div>\n",
       "<style scoped>\n",
       "    .dataframe tbody tr th:only-of-type {\n",
       "        vertical-align: middle;\n",
       "    }\n",
       "\n",
       "    .dataframe tbody tr th {\n",
       "        vertical-align: top;\n",
       "    }\n",
       "\n",
       "    .dataframe thead th {\n",
       "        text-align: right;\n",
       "    }\n",
       "</style>\n",
       "<table border=\"1\" class=\"dataframe\">\n",
       "  <thead>\n",
       "    <tr style=\"text-align: right;\">\n",
       "      <th></th>\n",
       "      <th>f1</th>\n",
       "      <th>precision</th>\n",
       "      <th>recall</th>\n",
       "      <th>annotation_time</th>\n",
       "      <th>count</th>\n",
       "      <th>group_name</th>\n",
       "    </tr>\n",
       "  </thead>\n",
       "  <tbody>\n",
       "    <tr>\n",
       "      <th>0</th>\n",
       "      <td>0.9900</td>\n",
       "      <td>0.9994</td>\n",
       "      <td>0.9702</td>\n",
       "      <td>0.9569</td>\n",
       "      <td>0.2156</td>\n",
       "      <td>high quality feedback</td>\n",
       "    </tr>\n",
       "    <tr>\n",
       "      <th>0</th>\n",
       "      <td>0.4880</td>\n",
       "      <td>0.4375</td>\n",
       "      <td>0.4771</td>\n",
       "      <td>0.0343</td>\n",
       "      <td>0.9890</td>\n",
       "      <td>low quality feedback</td>\n",
       "    </tr>\n",
       "    <tr>\n",
       "      <th>0</th>\n",
       "      <td>0.8029</td>\n",
       "      <td>0.6770</td>\n",
       "      <td>0.8493</td>\n",
       "      <td>0.8184</td>\n",
       "      <td>0.7393</td>\n",
       "      <td>medium quality feedback</td>\n",
       "    </tr>\n",
       "  </tbody>\n",
       "</table>\n",
       "</div>"
      ],
      "text/plain": [
       "       f1  precision  recall  annotation_time   count               group_name\n",
       "0  0.9900     0.9994  0.9702           0.9569  0.2156    high quality feedback\n",
       "0  0.4880     0.4375  0.4771           0.0343  0.9890     low quality feedback\n",
       "0  0.8029     0.6770  0.8493           0.8184  0.7393  medium quality feedback"
      ]
     },
     "execution_count": 16,
     "metadata": {},
     "output_type": "execute_result"
    }
   ],
   "source": [
    "df_p_value_h1"
   ]
  },
  {
   "cell_type": "markdown",
   "metadata": {},
   "source": [
    "#### Cohen's D"
   ]
  },
  {
   "cell_type": "code",
   "execution_count": 17,
   "metadata": {},
   "outputs": [
    {
     "data": {
      "text/html": [
       "<div>\n",
       "<style scoped>\n",
       "    .dataframe tbody tr th:only-of-type {\n",
       "        vertical-align: middle;\n",
       "    }\n",
       "\n",
       "    .dataframe tbody tr th {\n",
       "        vertical-align: top;\n",
       "    }\n",
       "\n",
       "    .dataframe thead th {\n",
       "        text-align: right;\n",
       "    }\n",
       "</style>\n",
       "<table border=\"1\" class=\"dataframe\">\n",
       "  <thead>\n",
       "    <tr style=\"text-align: right;\">\n",
       "      <th></th>\n",
       "      <th>f1</th>\n",
       "      <th>precision</th>\n",
       "      <th>recall</th>\n",
       "      <th>annotation_time</th>\n",
       "      <th>count</th>\n",
       "      <th>group_name</th>\n",
       "    </tr>\n",
       "  </thead>\n",
       "  <tbody>\n",
       "    <tr>\n",
       "      <th>0</th>\n",
       "      <td>0.526137</td>\n",
       "      <td>0.693771</td>\n",
       "      <td>0.416994</td>\n",
       "      <td>0.402711</td>\n",
       "      <td>-0.144894</td>\n",
       "      <td>high quality feedback</td>\n",
       "    </tr>\n",
       "    <tr>\n",
       "      <th>0</th>\n",
       "      <td>-0.015717</td>\n",
       "      <td>-0.067043</td>\n",
       "      <td>-0.024201</td>\n",
       "      <td>-0.698937</td>\n",
       "      <td>0.749504</td>\n",
       "      <td>low quality feedback</td>\n",
       "    </tr>\n",
       "    <tr>\n",
       "      <th>0</th>\n",
       "      <td>0.296559</td>\n",
       "      <td>0.159536</td>\n",
       "      <td>0.369849</td>\n",
       "      <td>0.282499</td>\n",
       "      <td>0.211155</td>\n",
       "      <td>medium quality feedback</td>\n",
       "    </tr>\n",
       "  </tbody>\n",
       "</table>\n",
       "</div>"
      ],
      "text/plain": [
       "         f1  precision    recall  annotation_time     count  \\\n",
       "0  0.526137   0.693771  0.416994         0.402711 -0.144894   \n",
       "0 -0.015717  -0.067043 -0.024201        -0.698937  0.749504   \n",
       "0  0.296559   0.159536  0.369849         0.282499  0.211155   \n",
       "\n",
       "                group_name  \n",
       "0    high quality feedback  \n",
       "0     low quality feedback  \n",
       "0  medium quality feedback  "
      ]
     },
     "execution_count": 17,
     "metadata": {},
     "output_type": "execute_result"
    }
   ],
   "source": [
    "df_cohen_d_h1"
   ]
  },
  {
   "cell_type": "markdown",
   "metadata": {},
   "source": [
    "#### Ploting histograms for the difference: test groups vs control group"
   ]
  },
  {
   "cell_type": "code",
   "execution_count": 18,
   "metadata": {},
   "outputs": [
    {
     "data": {
      "image/png": "[encoded data removed]",
      "text/plain": [
       "<Figure size 1200x800 with 3 Axes>"
      ]
     },
     "metadata": {},
     "output_type": "display_data"
    }
   ],
   "source": [
    "metric_index = 0\n",
    "plot_histogram(dataset, metric_index)"
   ]
  },
  {
   "cell_type": "markdown",
   "metadata": {},
   "source": [
    "### 2.2.2. Comparing: test groups with each other"
   ]
  },
  {
   "cell_type": "code",
   "execution_count": 19,
   "metadata": {},
   "outputs": [],
   "source": [
    "df_ci_h2, df_p_value_h2, df_cohen_d_h2 = generate_test_groups_comparison_report(dataset)"
   ]
  },
  {
   "cell_type": "markdown",
   "metadata": {},
   "source": [
    "#### Confidence interval"
   ]
  },
  {
   "cell_type": "code",
   "execution_count": 20,
   "metadata": {},
   "outputs": [
    {
     "data": {
      "text/html": [
       "<div>\n",
       "<style scoped>\n",
       "    .dataframe tbody tr th:only-of-type {\n",
       "        vertical-align: middle;\n",
       "    }\n",
       "\n",
       "    .dataframe tbody tr th {\n",
       "        vertical-align: top;\n",
       "    }\n",
       "\n",
       "    .dataframe thead th {\n",
       "        text-align: right;\n",
       "    }\n",
       "</style>\n",
       "<table border=\"1\" class=\"dataframe\">\n",
       "  <thead>\n",
       "    <tr style=\"text-align: right;\">\n",
       "      <th></th>\n",
       "      <th></th>\n",
       "      <th>f1</th>\n",
       "      <th>precision</th>\n",
       "      <th>recall</th>\n",
       "      <th>annotation_time</th>\n",
       "      <th>count</th>\n",
       "    </tr>\n",
       "    <tr>\n",
       "      <th>group_name</th>\n",
       "      <th>quantile</th>\n",
       "      <th></th>\n",
       "      <th></th>\n",
       "      <th></th>\n",
       "      <th></th>\n",
       "      <th></th>\n",
       "    </tr>\n",
       "  </thead>\n",
       "  <tbody>\n",
       "    <tr>\n",
       "      <th rowspan=\"3\" valign=\"top\">high_low</th>\n",
       "      <th>0.05</th>\n",
       "      <td>-0.071575</td>\n",
       "      <td>0.190462</td>\n",
       "      <td>-0.220842</td>\n",
       "      <td>0.194512</td>\n",
       "      <td>-0.799164</td>\n",
       "    </tr>\n",
       "    <tr>\n",
       "      <th>0.5</th>\n",
       "      <td>0.637632</td>\n",
       "      <td>0.844056</td>\n",
       "      <td>0.497527</td>\n",
       "      <td>0.587510</td>\n",
       "      <td>-0.440325</td>\n",
       "    </tr>\n",
       "    <tr>\n",
       "      <th>0.95</th>\n",
       "      <td>1.359817</td>\n",
       "      <td>1.504892</td>\n",
       "      <td>1.216804</td>\n",
       "      <td>1.021246</td>\n",
       "      <td>-0.098973</td>\n",
       "    </tr>\n",
       "    <tr>\n",
       "      <th rowspan=\"3\" valign=\"top\">high_medium</th>\n",
       "      <th>0.05</th>\n",
       "      <td>-0.256868</td>\n",
       "      <td>0.082350</td>\n",
       "      <td>-0.484943</td>\n",
       "      <td>-0.321209</td>\n",
       "      <td>-1.072791</td>\n",
       "    </tr>\n",
       "    <tr>\n",
       "      <th>0.5</th>\n",
       "      <td>0.386941</td>\n",
       "      <td>0.676015</td>\n",
       "      <td>0.156135</td>\n",
       "      <td>0.104905</td>\n",
       "      <td>-0.372602</td>\n",
       "    </tr>\n",
       "    <tr>\n",
       "      <th>0.95</th>\n",
       "      <td>1.042027</td>\n",
       "      <td>1.278627</td>\n",
       "      <td>0.792070</td>\n",
       "      <td>0.560902</td>\n",
       "      <td>0.290919</td>\n",
       "    </tr>\n",
       "    <tr>\n",
       "      <th rowspan=\"3\" valign=\"top\">medium_low</th>\n",
       "      <th>0.05</th>\n",
       "      <td>-0.429364</td>\n",
       "      <td>-0.436383</td>\n",
       "      <td>-0.401950</td>\n",
       "      <td>0.023132</td>\n",
       "      <td>-0.711723</td>\n",
       "    </tr>\n",
       "    <tr>\n",
       "      <th>0.5</th>\n",
       "      <td>0.250690</td>\n",
       "      <td>0.168041</td>\n",
       "      <td>0.341392</td>\n",
       "      <td>0.482606</td>\n",
       "      <td>-0.067723</td>\n",
       "    </tr>\n",
       "    <tr>\n",
       "      <th>0.95</th>\n",
       "      <td>0.940198</td>\n",
       "      <td>0.793039</td>\n",
       "      <td>1.081652</td>\n",
       "      <td>0.946808</td>\n",
       "      <td>0.571367</td>\n",
       "    </tr>\n",
       "  </tbody>\n",
       "</table>\n",
       "</div>"
      ],
      "text/plain": [
       "                            f1  precision    recall  annotation_time     count\n",
       "group_name  quantile                                                          \n",
       "high_low    0.05     -0.071575   0.190462 -0.220842         0.194512 -0.799164\n",
       "            0.5       0.637632   0.844056  0.497527         0.587510 -0.440325\n",
       "            0.95      1.359817   1.504892  1.216804         1.021246 -0.098973\n",
       "high_medium 0.05     -0.256868   0.082350 -0.484943        -0.321209 -1.072791\n",
       "            0.5       0.386941   0.676015  0.156135         0.104905 -0.372602\n",
       "            0.95      1.042027   1.278627  0.792070         0.560902  0.290919\n",
       "medium_low  0.05     -0.429364  -0.436383 -0.401950         0.023132 -0.711723\n",
       "            0.5       0.250690   0.168041  0.341392         0.482606 -0.067723\n",
       "            0.95      0.940198   0.793039  1.081652         0.946808  0.571367"
      ]
     },
     "execution_count": 20,
     "metadata": {},
     "output_type": "execute_result"
    }
   ],
   "source": [
    "df_ci_h2"
   ]
  },
  {
   "cell_type": "markdown",
   "metadata": {},
   "source": [
    "#### p-value"
   ]
  },
  {
   "cell_type": "code",
   "execution_count": 21,
   "metadata": {},
   "outputs": [
    {
     "data": {
      "text/html": [
       "<div>\n",
       "<style scoped>\n",
       "    .dataframe tbody tr th:only-of-type {\n",
       "        vertical-align: middle;\n",
       "    }\n",
       "\n",
       "    .dataframe tbody tr th {\n",
       "        vertical-align: top;\n",
       "    }\n",
       "\n",
       "    .dataframe thead th {\n",
       "        text-align: right;\n",
       "    }\n",
       "</style>\n",
       "<table border=\"1\" class=\"dataframe\">\n",
       "  <thead>\n",
       "    <tr style=\"text-align: right;\">\n",
       "      <th></th>\n",
       "      <th>f1</th>\n",
       "      <th>precision</th>\n",
       "      <th>recall</th>\n",
       "      <th>annotation_time</th>\n",
       "      <th>count</th>\n",
       "      <th>group_name</th>\n",
       "    </tr>\n",
       "  </thead>\n",
       "  <tbody>\n",
       "    <tr>\n",
       "      <th>0</th>\n",
       "      <td>0.9310</td>\n",
       "      <td>0.9827</td>\n",
       "      <td>0.8736</td>\n",
       "      <td>0.9947</td>\n",
       "      <td>0.0169</td>\n",
       "      <td>high_low</td>\n",
       "    </tr>\n",
       "    <tr>\n",
       "      <th>0</th>\n",
       "      <td>0.8383</td>\n",
       "      <td>0.9685</td>\n",
       "      <td>0.6535</td>\n",
       "      <td>0.6427</td>\n",
       "      <td>0.1726</td>\n",
       "      <td>high_medium</td>\n",
       "    </tr>\n",
       "    <tr>\n",
       "      <th>0</th>\n",
       "      <td>0.7166</td>\n",
       "      <td>0.6650</td>\n",
       "      <td>0.7704</td>\n",
       "      <td>0.9578</td>\n",
       "      <td>0.4305</td>\n",
       "      <td>medium_low</td>\n",
       "    </tr>\n",
       "  </tbody>\n",
       "</table>\n",
       "</div>"
      ],
      "text/plain": [
       "       f1  precision  recall  annotation_time   count   group_name\n",
       "0  0.9310     0.9827  0.8736           0.9947  0.0169     high_low\n",
       "0  0.8383     0.9685  0.6535           0.6427  0.1726  high_medium\n",
       "0  0.7166     0.6650  0.7704           0.9578  0.4305   medium_low"
      ]
     },
     "execution_count": 21,
     "metadata": {},
     "output_type": "execute_result"
    }
   ],
   "source": [
    "df_p_value_h2"
   ]
  },
  {
   "cell_type": "markdown",
   "metadata": {},
   "source": [
    "#### Cohen's D"
   ]
  },
  {
   "cell_type": "code",
   "execution_count": 22,
   "metadata": {},
   "outputs": [
    {
     "data": {
      "text/html": [
       "<div>\n",
       "<style scoped>\n",
       "    .dataframe tbody tr th:only-of-type {\n",
       "        vertical-align: middle;\n",
       "    }\n",
       "\n",
       "    .dataframe tbody tr th {\n",
       "        vertical-align: top;\n",
       "    }\n",
       "\n",
       "    .dataframe thead th {\n",
       "        text-align: right;\n",
       "    }\n",
       "</style>\n",
       "<table border=\"1\" class=\"dataframe\">\n",
       "  <thead>\n",
       "    <tr style=\"text-align: right;\">\n",
       "      <th></th>\n",
       "      <th>f1</th>\n",
       "      <th>precision</th>\n",
       "      <th>recall</th>\n",
       "      <th>annotation_time</th>\n",
       "      <th>count</th>\n",
       "      <th>group_name</th>\n",
       "    </tr>\n",
       "  </thead>\n",
       "  <tbody>\n",
       "    <tr>\n",
       "      <th>0</th>\n",
       "      <td>2.176745</td>\n",
       "      <td>3.122612</td>\n",
       "      <td>1.694651</td>\n",
       "      <td>3.301261</td>\n",
       "      <td>-2.652172</td>\n",
       "      <td>high_low</td>\n",
       "    </tr>\n",
       "    <tr>\n",
       "      <th>0</th>\n",
       "      <td>1.414732</td>\n",
       "      <td>2.640933</td>\n",
       "      <td>0.557260</td>\n",
       "      <td>0.535063</td>\n",
       "      <td>-1.301496</td>\n",
       "      <td>high_medium</td>\n",
       "    </tr>\n",
       "    <tr>\n",
       "      <th>0</th>\n",
       "      <td>0.851460</td>\n",
       "      <td>0.635755</td>\n",
       "      <td>1.080589</td>\n",
       "      <td>2.420695</td>\n",
       "      <td>-0.246744</td>\n",
       "      <td>medium_low</td>\n",
       "    </tr>\n",
       "  </tbody>\n",
       "</table>\n",
       "</div>"
      ],
      "text/plain": [
       "         f1  precision    recall  annotation_time     count   group_name\n",
       "0  2.176745   3.122612  1.694651         3.301261 -2.652172     high_low\n",
       "0  1.414732   2.640933  0.557260         0.535063 -1.301496  high_medium\n",
       "0  0.851460   0.635755  1.080589         2.420695 -0.246744   medium_low"
      ]
     },
     "execution_count": 22,
     "metadata": {},
     "output_type": "execute_result"
    }
   ],
   "source": [
    "df_cohen_d_h2"
   ]
  },
  {
   "cell_type": "markdown",
   "metadata": {},
   "source": [
    "# 3. Analyse learning curve"
   ]
  },
  {
   "cell_type": "code",
   "execution_count": 23,
   "metadata": {},
   "outputs": [],
   "source": [
    "def get_annotation_eval(row):\n",
    "    return metrics.flat_f1_score(\n",
    "        [row['reference__output']], [row['annotation__output']],\n",
    "        average='weighted',\n",
    "        labels=LABELS\n",
    "    )\n",
    "\n",
    "df['annotation_eval'] = df.apply(get_annotation_eval, axis=1)\n",
    "df_high = df.query(\"test_group == 'high quality feedback'\")"
   ]
  },
  {
   "cell_type": "code",
   "execution_count": 24,
   "metadata": {},
   "outputs": [],
   "source": [
    "learning = LearningAnalyser(df_high)"
   ]
  },
  {
   "cell_type": "markdown",
   "metadata": {},
   "source": [
    "#### Learning curve stats"
   ]
  },
  {
   "cell_type": "code",
   "execution_count": 25,
   "metadata": {},
   "outputs": [
    {
     "data": {
      "text/html": [
       "<div>\n",
       "<style scoped>\n",
       "    .dataframe tbody tr th:only-of-type {\n",
       "        vertical-align: middle;\n",
       "    }\n",
       "\n",
       "    .dataframe tbody tr th {\n",
       "        vertical-align: top;\n",
       "    }\n",
       "\n",
       "    .dataframe thead th {\n",
       "        text-align: right;\n",
       "    }\n",
       "</style>\n",
       "<table border=\"1\" class=\"dataframe\">\n",
       "  <thead>\n",
       "    <tr style=\"text-align: right;\">\n",
       "      <th></th>\n",
       "      <th>Metryka</th>\n",
       "      <th>Wartość</th>\n",
       "    </tr>\n",
       "  </thead>\n",
       "  <tbody>\n",
       "    <tr>\n",
       "      <th>0</th>\n",
       "      <td>$\\alpha$</td>\n",
       "      <td>-0.001</td>\n",
       "    </tr>\n",
       "    <tr>\n",
       "      <th>1</th>\n",
       "      <td>$\\beta$</td>\n",
       "      <td>0.21</td>\n",
       "    </tr>\n",
       "    <tr>\n",
       "      <th>2</th>\n",
       "      <td>$\\alpha_r$</td>\n",
       "      <td>-30.56%</td>\n",
       "    </tr>\n",
       "    <tr>\n",
       "      <th>3</th>\n",
       "      <td>$\\beta_r$</td>\n",
       "      <td>+104.26%</td>\n",
       "    </tr>\n",
       "  </tbody>\n",
       "</table>\n",
       "</div>"
      ],
      "text/plain": [
       "      Metryka   Wartość\n",
       "0    $\\alpha$    -0.001\n",
       "1     $\\beta$      0.21\n",
       "2  $\\alpha_r$   -30.56%\n",
       "3   $\\beta_r$  +104.26%"
      ]
     },
     "execution_count": 25,
     "metadata": {},
     "output_type": "execute_result"
    }
   ],
   "source": [
    "learning_report = generate_learning_report(learning)\n",
    "learning_report"
   ]
  },
  {
   "cell_type": "markdown",
   "metadata": {},
   "source": [
    "#### Learning curve plot"
   ]
  },
  {
   "cell_type": "code",
   "execution_count": 26,
   "metadata": {},
   "outputs": [],
   "source": [
    "# styling fix\n",
    "learning_report['Wartość'] = learning_report['Wartość'].astype(str).str.replace(\".\", \",\")"
   ]
  },
  {
   "cell_type": "code",
   "execution_count": 27,
   "metadata": {},
   "outputs": [
    {
     "data": {
      "image/png": "[encoded data removed]",
      "text/plain": [
       "<Figure size 1500x500 with 2 Axes>"
      ]
     },
     "metadata": {},
     "output_type": "display_data"
    }
   ],
   "source": [
    "plot_learning_curve(learning, learning_report)"
   ]
  },
  {
   "cell_type": "markdown",
   "metadata": {},
   "source": [
    "## Generate latex tables"
   ]
  },
  {
   "cell_type": "code",
   "execution_count": 28,
   "metadata": {},
   "outputs": [],
   "source": [
    "latex_generator = create_latex_tables_generator(\n",
    "    df_percentage_ci_h1=df_percentage_ci_h1,\n",
    "    df_p_value_h1=df_p_value_h1,\n",
    "    df_cohen_d_h1=df_cohen_d_h1,\n",
    "    df_ci_h2=df_ci_h2,\n",
    "    df_p_value_h2=df_p_value_h2,\n",
    "    df_cohen_d_h2=df_cohen_d_h2\n",
    ")"
   ]
  },
  {
   "cell_type": "code",
   "execution_count": 29,
   "metadata": {},
   "outputs": [
    {
     "name": "stdout",
     "output_type": "stream",
     "text": [
      "\n",
      "\\begin{table}[H]\n",
      "\\centering\n",
      "\\caption{}\n",
      "\\label{tab:my-table}\n",
      "\\begin{tabular}{cccccc}\n",
      "\\rowcolor[HTML]{EFEFEF} \n",
      "\\multicolumn{1}{c|}{\\cellcolor[HTML]{EFEFEF}\\textbf{Warunek}} &\n",
      "  \\multicolumn{1}{c|}{\\cellcolor[HTML]{EFEFEF}\\boldmath$P_{05}$} &\n",
      "  \\multicolumn{1}{c|}{\\cellcolor[HTML]{EFEFEF}\\boldmath$\\mu$} &\n",
      "  \\multicolumn{1}{c|}{\\cellcolor[HTML]{EFEFEF}\\boldmath$P_{95}$} &\n",
      "  \\multicolumn{1}{c|}{\\cellcolor[HTML]{EFEFEF}\\boldmath$p$} &\n",
      "  \\boldmath$d$ \\\\ \\hline\n",
      "\\rowcolor[HTML]{EFEFEF} \n",
      "\\multicolumn{6}{c}{\\cellcolor[HTML]{EFEFEF}Hipoteza $H_1$ -- zmiana w metryce XXXX}                                                                                                        \\\\ \\hline\n",
      "        \\multicolumn{1}{c|}{$W_1$} & \\multicolumn{1}{c|}{+18.75\\%} & \\multicolumn{1}{c|}{+62.50\\%} & \\multicolumn{1}{c|}{+108.74\\%} & \\multicolumn{1}{c|}{0.99} & 0.53 \\\\ \\hline\\multicolumn{1}{c|}{$W_2$} & \\multicolumn{1}{c|}{-20.09\\%} & \\multicolumn{1}{c|}{+23.80\\%} & \\multicolumn{1}{c|}{+70.68\\%} & \\multicolumn{1}{c|}{0.8029} & 0.3 \\\\ \\hline\\multicolumn{1}{c|}{$W_3$} & \\multicolumn{1}{c|}{-52.87\\%} & \\multicolumn{1}{c|}{-1.26\\%} & \\multicolumn{1}{c|}{+49.56\\%} & \\multicolumn{1}{c|}{0.488} & -0.02 \\\\ \\hline\n",
      "\\rowcolor[HTML]{EFEFEF} \n",
      "\\multicolumn{6}{c}{\\cellcolor[HTML]{EFEFEF}Hipoteza $H_2$ -- zmiana w metryce XXXX}                                                                                                        \\\\ \\hline\n",
      "        \\multicolumn{1}{c|}{$W_1 - W_3$} & \\multicolumn{1}{c|}{-7.16\\%} & \\multicolumn{1}{c|}{+63.76\\%} & \\multicolumn{1}{c|}{+135.98\\%} & \\multicolumn{1}{c|}{0.931} & 2.18 \\\\ \\hline\\multicolumn{1}{c|}{$W_1 - W_2$ } & \\multicolumn{1}{c|}{-25.69\\%} & \\multicolumn{1}{c|}{+38.69\\%} & \\multicolumn{1}{c|}{+104.20\\%} & \\multicolumn{1}{c|}{0.8383} & 1.41 \\\\ \\hline\\multicolumn{1}{c|}{$W_2 - W_3$} & \\multicolumn{1}{c|}{-42.94\\%} & \\multicolumn{1}{c|}{+25.07\\%} & \\multicolumn{1}{c|}{+94.02\\%} & \\multicolumn{1}{c|}{0.7166} & 0.85 \\\\ \\hline\n",
      "\\rowcolor[HTML]{EFEFEF} \n",
      "\\multicolumn{6}{c}{\\cellcolor[HTML]{EFEFEF}Pytanie $P_2$ -- zmiana w szybkości pracy anotatorów}                                                                                                        \\\\ \\hline\n",
      "        \\multicolumn{1}{c|}{$W_1$} & \\multicolumn{1}{c|}{+1.15\\%} & \\multicolumn{1}{c|}{+28.99\\%} & \\multicolumn{1}{c|}{+59.16\\%} & \\multicolumn{1}{c|}{0.9569} & 0.4 \\\\ \\hline\\multicolumn{1}{c|}{$W_2$} & \\multicolumn{1}{c|}{-18.75\\%} & \\multicolumn{1}{c|}{+18.50\\%} & \\multicolumn{1}{c|}{+52.33\\%} & \\multicolumn{1}{c|}{0.8184} & 0.28 \\\\ \\hline\\multicolumn{1}{c|}{$W_3$} & \\multicolumn{1}{c|}{-64.14\\%} & \\multicolumn{1}{c|}{-29.76\\%} & \\multicolumn{1}{c|}{-2.55\\%} & \\multicolumn{1}{c|}{0.0343} & -0.7 \\\\ \\hline\n",
      "\\rowcolor[HTML]{EFEFEF} \n",
      "\\multicolumn{6}{c}{\\cellcolor[HTML]{EFEFEF}Pytanie $P_3$ -- zmiana w liczbie wykonanych anotacji}                                                                                                        \\\\ \\hline\n",
      "        \\multicolumn{1}{c|}{$W_1$} & \\multicolumn{1}{c|}{-47.10\\%} & \\multicolumn{1}{c|}{-15.43\\%} & \\multicolumn{1}{c|}{+13.45\\%} & \\multicolumn{1}{c|}{0.2156} & -0.14 \\\\ \\hline\\multicolumn{1}{c|}{$W_2$} & \\multicolumn{1}{c|}{-38.44\\%} & \\multicolumn{1}{c|}{+21.83\\%} & \\multicolumn{1}{c|}{+80.38\\%} & \\multicolumn{1}{c|}{0.7393} & 0.21 \\\\ \\hline\\multicolumn{1}{c|}{$W_3$} & \\multicolumn{1}{c|}{+6.53\\%} & \\multicolumn{1}{c|}{+28.60\\%} & \\multicolumn{1}{c|}{+54.14\\%} & \\multicolumn{1}{c|}{0.989} & 0.75 \\\\ \\hline\n",
      "\\end{tabular}\n",
      "\\end{table}\n",
      "        \n"
     ]
    }
   ],
   "source": [
    "print(latex_generator.get_results_table(\"f1\"))"
   ]
  }
 ],
 "metadata": {
  "kernelspec": {
   "display_name": "Python 3 (ipykernel)",
   "language": "python",
   "name": "python3"
  },
  "language_info": {
   "codemirror_mode": {
    "name": "ipython",
    "version": 3
   },
   "file_extension": ".py",
   "mimetype": "text/x-python",
   "name": "python",
   "nbconvert_exporter": "python",
   "pygments_lexer": "ipython3",
   "version": "3.10.4"
  }
 },
 "nbformat": 4,
 "nbformat_minor": 4
}
