{
 "cells": [
  {
   "cell_type": "code",
   "execution_count": 1,
   "metadata": {},
   "outputs": [],
   "source": [
    "# general\n",
    "import ast\n",
    "import time\n",
    "import matplotlib.pyplot as plt\n",
    "import pandas as pd\n",
    "import numpy as np\n",
    "import seaborn as sns\n",
    "from pytimeparse.timeparse import timeparse\n",
    "# sklearn_crfsuite\n",
    "from sklearn_crfsuite import metrics\n",
    "\n",
    "# bootstrapped\n",
    "import bootstrapped.bootstrap as bs\n",
    "import bootstrapped.compare_functions as bs_compare\n",
    "import bootstrapped.stats_functions as bs_stats\n",
    "\n",
    "sns.set()"
   ]
  },
  {
   "cell_type": "code",
   "execution_count": 62,
   "metadata": {},
   "outputs": [],
   "source": [
    "def plot_accuracy_distribution(control_group, test_group, test_group_name, bins=30):\n",
    "    plt.figure(figsize=(10, 6))\n",
    "    bins = np.linspace(\n",
    "        df_user_error['f1'].min(),\n",
    "        df_user_error['f1'].max(),\n",
    "        bins\n",
    "    )\n",
    "\n",
    "    plt.hist(control_group, bins=bins, label=\"No feedback (control group)\", alpha=0.5)\n",
    "    plt.hist(test_group, bins=bins, label=f\"{test_group_name} (test group)\", color='orange', alpha=0.5)\n",
    "    plt.title('Comperation of f1 distribution')\n",
    "    plt.legend()\n",
    "    \n",
    "\n",
    "def get_confidence_intervals(test_group, control_group):\n",
    "    ab = bs.bootstrap_ab(np.array(test_group), np.array(control_group), bs_stats.mean, bs_compare.percent_change)\n",
    "    return ab.value, ab.lower_bound, ab.upper_bound"
   ]
  },
  {
   "cell_type": "code",
   "execution_count": 3,
   "metadata": {},
   "outputs": [],
   "source": [
    "TEST_GROUP_NAMES = ['low quality feedback', 'medium quality feedback', 'high quality feedback']\n",
    "METRICS = [\"f1\", \"precision\", \"recall\"]\n",
    "LABELS = [\"Brand\", \"Color\", \"Material\", \"Size\", \"Pattern\", \"Department\"]"
   ]
  },
  {
   "cell_type": "markdown",
   "metadata": {},
   "source": [
    "# 1. General statistics\n",
    "## 1.1. Read data"
   ]
  },
  {
   "cell_type": "code",
   "execution_count": 10,
   "metadata": {},
   "outputs": [],
   "source": [
    "df = pd.read_csv('../../data/ebay_items_attributes/ebay_items_attributes-dataset.csv')\n",
    "df['annotation__time'] = df['annotation__time'].apply(timeparse)"
   ]
  },
  {
   "cell_type": "markdown",
   "metadata": {},
   "source": [
    "### 1.1.1. Parse the attribute tags in IOB form"
   ]
  },
  {
   "cell_type": "code",
   "execution_count": 11,
   "metadata": {},
   "outputs": [],
   "source": [
    "df['annotation__output'] = df['annotation__output'].apply(ast.literal_eval)\n",
    "df['reference__output'] = df['reference__output'].apply(ast.literal_eval)"
   ]
  },
  {
   "cell_type": "markdown",
   "metadata": {},
   "source": [
    "### 1.1.2. Simplify the beggining and inside tags"
   ]
  },
  {
   "cell_type": "code",
   "execution_count": 12,
   "metadata": {},
   "outputs": [],
   "source": [
    "df['annotation__output'] = df['annotation__output'].apply(lambda tags:[t.split('-')[0] for t in tags])\n",
    "df['reference__output'] = df['reference__output'].apply(lambda tags:[t.split('-')[0] for t in tags])"
   ]
  },
  {
   "cell_type": "markdown",
   "metadata": {},
   "source": [
    "## 1.2. Statistics\n",
    "### 1.2.1. General"
   ]
  },
  {
   "cell_type": "code",
   "execution_count": 14,
   "metadata": {
    "scrolled": false
   },
   "outputs": [
    {
     "data": {
      "text/html": [
       "<div>\n",
       "<style scoped>\n",
       "    .dataframe tbody tr th:only-of-type {\n",
       "        vertical-align: middle;\n",
       "    }\n",
       "\n",
       "    .dataframe tbody tr th {\n",
       "        vertical-align: top;\n",
       "    }\n",
       "\n",
       "    .dataframe thead th {\n",
       "        text-align: right;\n",
       "    }\n",
       "</style>\n",
       "<table border=\"1\" class=\"dataframe\">\n",
       "  <thead>\n",
       "    <tr style=\"text-align: right;\">\n",
       "      <th></th>\n",
       "      <th>value</th>\n",
       "    </tr>\n",
       "    <tr>\n",
       "      <th>metric</th>\n",
       "      <th></th>\n",
       "    </tr>\n",
       "  </thead>\n",
       "  <tbody>\n",
       "    <tr>\n",
       "      <th>total_annotations</th>\n",
       "      <td>6832</td>\n",
       "    </tr>\n",
       "    <tr>\n",
       "      <th>unique_items</th>\n",
       "      <td>2488</td>\n",
       "    </tr>\n",
       "    <tr>\n",
       "      <th>unique_users</th>\n",
       "      <td>123</td>\n",
       "    </tr>\n",
       "    <tr>\n",
       "      <th>total_annotation_time</th>\n",
       "      <td>20h 36m 36s</td>\n",
       "    </tr>\n",
       "  </tbody>\n",
       "</table>\n",
       "</div>"
      ],
      "text/plain": [
       "                             value\n",
       "metric                            \n",
       "total_annotations             6832\n",
       "unique_items                  2488\n",
       "unique_users                   123\n",
       "total_annotation_time  20h 36m 36s"
      ]
     },
     "execution_count": 14,
     "metadata": {},
     "output_type": "execute_result"
    }
   ],
   "source": [
    "pd.DataFrame([\n",
    "    {\n",
    "        \"metric\": \"total_annotations\",\n",
    "        \"value\": len(df)\n",
    "    },\n",
    "    {\n",
    "        \"metric\": \"unique_items\",\n",
    "        \"value\": len(set(df['item_id'].values))\n",
    "    },\n",
    "    {\n",
    "        \"metric\": \"unique_users\",\n",
    "        \"value\": len(set(df['user__id'].values))\n",
    "    },\n",
    "    {\n",
    "        \"metric\": \"total_annotation_time\",\n",
    "        \"value\": time.strftime('%Hh %Mm %Ss', time.gmtime(df['annotation__time'].sum()))\n",
    "    },\n",
    "]).set_index(\"metric\")"
   ]
  },
  {
   "cell_type": "markdown",
   "metadata": {},
   "source": [
    "### 1.2.2. Annotations per item"
   ]
  },
  {
   "cell_type": "code",
   "execution_count": 15,
   "metadata": {},
   "outputs": [
    {
     "data": {
      "text/html": [
       "<div>\n",
       "<style scoped>\n",
       "    .dataframe tbody tr th:only-of-type {\n",
       "        vertical-align: middle;\n",
       "    }\n",
       "\n",
       "    .dataframe tbody tr th {\n",
       "        vertical-align: top;\n",
       "    }\n",
       "\n",
       "    .dataframe thead th {\n",
       "        text-align: right;\n",
       "    }\n",
       "</style>\n",
       "<table border=\"1\" class=\"dataframe\">\n",
       "  <thead>\n",
       "    <tr style=\"text-align: right;\">\n",
       "      <th></th>\n",
       "      <th>item_id</th>\n",
       "    </tr>\n",
       "  </thead>\n",
       "  <tbody>\n",
       "    <tr>\n",
       "      <th>count</th>\n",
       "      <td>2488.000000</td>\n",
       "    </tr>\n",
       "    <tr>\n",
       "      <th>mean</th>\n",
       "      <td>2.745981</td>\n",
       "    </tr>\n",
       "    <tr>\n",
       "      <th>std</th>\n",
       "      <td>0.782668</td>\n",
       "    </tr>\n",
       "    <tr>\n",
       "      <th>min</th>\n",
       "      <td>1.000000</td>\n",
       "    </tr>\n",
       "    <tr>\n",
       "      <th>25%</th>\n",
       "      <td>2.000000</td>\n",
       "    </tr>\n",
       "    <tr>\n",
       "      <th>50%</th>\n",
       "      <td>3.000000</td>\n",
       "    </tr>\n",
       "    <tr>\n",
       "      <th>75%</th>\n",
       "      <td>3.000000</td>\n",
       "    </tr>\n",
       "    <tr>\n",
       "      <th>max</th>\n",
       "      <td>6.000000</td>\n",
       "    </tr>\n",
       "  </tbody>\n",
       "</table>\n",
       "</div>"
      ],
      "text/plain": [
       "           item_id\n",
       "count  2488.000000\n",
       "mean      2.745981\n",
       "std       0.782668\n",
       "min       1.000000\n",
       "25%       2.000000\n",
       "50%       3.000000\n",
       "75%       3.000000\n",
       "max       6.000000"
      ]
     },
     "execution_count": 15,
     "metadata": {},
     "output_type": "execute_result"
    }
   ],
   "source": [
    "pd.DataFrame(df['item_id'].value_counts().describe())"
   ]
  },
  {
   "cell_type": "markdown",
   "metadata": {},
   "source": [
    "### 1.2.3. Annotations per user"
   ]
  },
  {
   "cell_type": "code",
   "execution_count": 16,
   "metadata": {},
   "outputs": [
    {
     "data": {
      "text/html": [
       "<div>\n",
       "<style scoped>\n",
       "    .dataframe tbody tr th:only-of-type {\n",
       "        vertical-align: middle;\n",
       "    }\n",
       "\n",
       "    .dataframe tbody tr th {\n",
       "        vertical-align: top;\n",
       "    }\n",
       "\n",
       "    .dataframe thead th {\n",
       "        text-align: right;\n",
       "    }\n",
       "</style>\n",
       "<table border=\"1\" class=\"dataframe\">\n",
       "  <thead>\n",
       "    <tr style=\"text-align: right;\">\n",
       "      <th></th>\n",
       "      <th>user__id</th>\n",
       "    </tr>\n",
       "  </thead>\n",
       "  <tbody>\n",
       "    <tr>\n",
       "      <th>count</th>\n",
       "      <td>123.000000</td>\n",
       "    </tr>\n",
       "    <tr>\n",
       "      <th>mean</th>\n",
       "      <td>55.544715</td>\n",
       "    </tr>\n",
       "    <tr>\n",
       "      <th>std</th>\n",
       "      <td>69.824399</td>\n",
       "    </tr>\n",
       "    <tr>\n",
       "      <th>min</th>\n",
       "      <td>12.000000</td>\n",
       "    </tr>\n",
       "    <tr>\n",
       "      <th>25%</th>\n",
       "      <td>22.000000</td>\n",
       "    </tr>\n",
       "    <tr>\n",
       "      <th>50%</th>\n",
       "      <td>49.000000</td>\n",
       "    </tr>\n",
       "    <tr>\n",
       "      <th>75%</th>\n",
       "      <td>50.500000</td>\n",
       "    </tr>\n",
       "    <tr>\n",
       "      <th>max</th>\n",
       "      <td>683.000000</td>\n",
       "    </tr>\n",
       "  </tbody>\n",
       "</table>\n",
       "</div>"
      ],
      "text/plain": [
       "         user__id\n",
       "count  123.000000\n",
       "mean    55.544715\n",
       "std     69.824399\n",
       "min     12.000000\n",
       "25%     22.000000\n",
       "50%     49.000000\n",
       "75%     50.500000\n",
       "max    683.000000"
      ]
     },
     "execution_count": 16,
     "metadata": {},
     "output_type": "execute_result"
    }
   ],
   "source": [
    "pd.DataFrame(df['user__id'].value_counts().describe())"
   ]
  },
  {
   "cell_type": "markdown",
   "metadata": {},
   "source": [
    "## 1.3. Compute user's annotation quality metrics\n",
    "- In this section we aggregate the raw result to compute the quality metrics value per user\n",
    "- To measure the quality of user's annotation we use: recall, f1 and precision metrics\n",
    "- Mean error is computed for each user in each test_group separately.<br/>\n",
    "This way we can check how each user did in each test conditions"
   ]
  },
  {
   "cell_type": "code",
   "execution_count": null,
   "metadata": {},
   "outputs": [],
   "source": [
    "data = []\n",
    "for (test_group, user_feedback, user_id), group in df.groupby(['test_group', 'user__feedback', 'user__id']):\n",
    "    y_true = group['reference__output']\n",
    "    y_pred = group['annotation__output']\n",
    "\n",
    "    data.append({\n",
    "        'test_group': test_group,\n",
    "        'user__feedback': user_feedback,\n",
    "        'user__id': user_id,\n",
    "        'count': len(group),\n",
    "        'precision': metrics.flat_precision_score(y_true, y_pred, average='weighted', labels=LABELS),\n",
    "        'recall': metrics.flat_recall_score(y_true, y_pred, average='weighted', labels=LABELS),\n",
    "        'f1': metrics.flat_f1_score(y_true, y_pred, average='weighted', labels=LABELS)\n",
    "    })\n",
    "\n",
    "df_user_error = pd.DataFrame(data)"
   ]
  },
  {
   "cell_type": "code",
   "execution_count": 18,
   "metadata": {},
   "outputs": [
    {
     "data": {
      "text/html": [
       "<div>\n",
       "<style scoped>\n",
       "    .dataframe tbody tr th:only-of-type {\n",
       "        vertical-align: middle;\n",
       "    }\n",
       "\n",
       "    .dataframe tbody tr th {\n",
       "        vertical-align: top;\n",
       "    }\n",
       "\n",
       "    .dataframe thead tr th {\n",
       "        text-align: left;\n",
       "    }\n",
       "\n",
       "    .dataframe thead tr:last-of-type th {\n",
       "        text-align: right;\n",
       "    }\n",
       "</style>\n",
       "<table border=\"1\" class=\"dataframe\">\n",
       "  <thead>\n",
       "    <tr>\n",
       "      <th></th>\n",
       "      <th></th>\n",
       "      <th></th>\n",
       "      <th colspan=\"2\" halign=\"left\">f1</th>\n",
       "      <th colspan=\"2\" halign=\"left\">precision</th>\n",
       "      <th colspan=\"2\" halign=\"left\">recall</th>\n",
       "    </tr>\n",
       "    <tr>\n",
       "      <th></th>\n",
       "      <th></th>\n",
       "      <th></th>\n",
       "      <th>mean</th>\n",
       "      <th>std</th>\n",
       "      <th>mean</th>\n",
       "      <th>std</th>\n",
       "      <th>mean</th>\n",
       "      <th>std</th>\n",
       "    </tr>\n",
       "    <tr>\n",
       "      <th>test_group</th>\n",
       "      <th>user__feedback</th>\n",
       "      <th>users_count</th>\n",
       "      <th></th>\n",
       "      <th></th>\n",
       "      <th></th>\n",
       "      <th></th>\n",
       "      <th></th>\n",
       "      <th></th>\n",
       "    </tr>\n",
       "  </thead>\n",
       "  <tbody>\n",
       "    <tr>\n",
       "      <th rowspan=\"2\" valign=\"top\">high quality feedback</th>\n",
       "      <th>False</th>\n",
       "      <th>46</th>\n",
       "      <td>0.192275</td>\n",
       "      <td>0.221768</td>\n",
       "      <td>0.186728</td>\n",
       "      <td>0.205006</td>\n",
       "      <td>0.243890</td>\n",
       "      <td>0.282372</td>\n",
       "    </tr>\n",
       "    <tr>\n",
       "      <th>True</th>\n",
       "      <th>41</th>\n",
       "      <td>0.328598</td>\n",
       "      <td>0.243061</td>\n",
       "      <td>0.348088</td>\n",
       "      <td>0.228590</td>\n",
       "      <td>0.380506</td>\n",
       "      <td>0.284912</td>\n",
       "    </tr>\n",
       "    <tr>\n",
       "      <th>low quality feedback</th>\n",
       "      <th>True</th>\n",
       "      <th>27</th>\n",
       "      <td>0.305299</td>\n",
       "      <td>0.246285</td>\n",
       "      <td>0.303400</td>\n",
       "      <td>0.223322</td>\n",
       "      <td>0.360247</td>\n",
       "      <td>0.308849</td>\n",
       "    </tr>\n",
       "    <tr>\n",
       "      <th>medium quality feedback</th>\n",
       "      <th>True</th>\n",
       "      <th>30</th>\n",
       "      <td>0.285244</td>\n",
       "      <td>0.209591</td>\n",
       "      <td>0.311149</td>\n",
       "      <td>0.224385</td>\n",
       "      <td>0.337754</td>\n",
       "      <td>0.255837</td>\n",
       "    </tr>\n",
       "  </tbody>\n",
       "</table>\n",
       "</div>"
      ],
      "text/plain": [
       "                                                          f1            \\\n",
       "                                                        mean       std   \n",
       "test_group              user__feedback users_count                       \n",
       "high quality feedback   False          46           0.192275  0.221768   \n",
       "                        True           41           0.328598  0.243061   \n",
       "low quality feedback    True           27           0.305299  0.246285   \n",
       "medium quality feedback True           30           0.285244  0.209591   \n",
       "\n",
       "                                                   precision            \\\n",
       "                                                        mean       std   \n",
       "test_group              user__feedback users_count                       \n",
       "high quality feedback   False          46           0.186728  0.205006   \n",
       "                        True           41           0.348088  0.228590   \n",
       "low quality feedback    True           27           0.303400  0.223322   \n",
       "medium quality feedback True           30           0.311149  0.224385   \n",
       "\n",
       "                                                      recall            \n",
       "                                                        mean       std  \n",
       "test_group              user__feedback users_count                      \n",
       "high quality feedback   False          46           0.243890  0.282372  \n",
       "                        True           41           0.380506  0.284912  \n",
       "low quality feedback    True           27           0.360247  0.308849  \n",
       "medium quality feedback True           30           0.337754  0.255837  "
      ]
     },
     "execution_count": 18,
     "metadata": {},
     "output_type": "execute_result"
    }
   ],
   "source": [
    "pd.merge(\n",
    "    df_user_error,\n",
    "    df_user_error.groupby(\n",
    "        ['test_group', 'user__feedback']\n",
    "    )['user__id'].count().to_frame('users_count'),\n",
    "    on=['test_group', 'user__feedback']\n",
    ").groupby(\n",
    "    ['test_group', 'user__feedback', 'users_count']\n",
    ")[METRICS].aggregate(['mean', 'std'])"
   ]
  },
  {
   "cell_type": "markdown",
   "metadata": {},
   "source": [
    "## 1.4. Accuracy distribution for control group and high quality feedback test group\n",
    "Below you can see a plot showing a accuracy distribution difference for the control group and the test group with the high quality feedback\n",
    "### 1.4.1. Histogram"
   ]
  },
  {
   "cell_type": "code",
   "execution_count": 69,
   "metadata": {},
   "outputs": [],
   "source": [
    "test_group_name = \"high quality feedback\"\n",
    "\n",
    "control_group = df_user_error[\n",
    "    (df_user_error['test_group'] == \"high quality feedback\") &\n",
    "    (df_user_error['user__feedback'] == False)\n",
    "]['f1']\n",
    "    \n",
    "test_group = df_user_error[\n",
    "    (df_user_error['test_group'] == test_group_name) &\n",
    "    (df_user_error['user__feedback'] == True)\n",
    "]['f1']"
   ]
  },
  {
   "cell_type": "code",
   "execution_count": 70,
   "metadata": {},
   "outputs": [
    {
     "data": {
      "image/png": "[encoded data removed]",
      "text/plain": [
       "<Figure size 720x432 with 1 Axes>"
      ]
     },
     "metadata": {},
     "output_type": "display_data"
    }
   ],
   "source": [
    "plot_accuracy_distribution(control_group, test_group, test_group_name)"
   ]
  },
  {
   "cell_type": "markdown",
   "metadata": {},
   "source": [
    "### 1.4.2. Histogram"
   ]
  },
  {
   "cell_type": "code",
   "execution_count": 77,
   "metadata": {},
   "outputs": [],
   "source": [
    "_df = df_user_error.copy()\n",
    "_df.loc[_df['user__feedback'] == False, 'test_group'] = \"control group\""
   ]
  },
  {
   "cell_type": "code",
   "execution_count": 80,
   "metadata": {},
   "outputs": [
    {
     "data": {
      "text/plain": [
       "<AxesSubplot:title={'center':'Distribution of f1 metric between test groups'}, xlabel='test_group', ylabel='f1'>"
      ]
     },
     "execution_count": 80,
     "metadata": {},
     "output_type": "execute_result"
    },
    {
     "data": {
      "image/png": "[encoded data removed]",
      "text/plain": [
       "<Figure size 720x432 with 1 Axes>"
      ]
     },
     "metadata": {},
     "output_type": "display_data"
    }
   ],
   "source": [
    "plt.figure(figsize=(10, 6))\n",
    "plt.title(\"Distribution of f1 metric between test groups\")\n",
    "sns.boxplot(x='test_group', y='f1', data=_df, order=[\"control group\"] + TEST_GROUP_NAMES)"
   ]
  },
  {
   "cell_type": "markdown",
   "metadata": {},
   "source": [
    "# 2. Confidence intervals\n",
    "## 2.1. Compute confidence intervals for test groups\n",
    "In this section we compute the confidence intervals for the percentage quality change between the control group and each of the test groups."
   ]
  },
  {
   "cell_type": "code",
   "execution_count": 74,
   "metadata": {},
   "outputs": [
    {
     "data": {
      "text/html": [
       "<div>\n",
       "<style scoped>\n",
       "    .dataframe tbody tr th:only-of-type {\n",
       "        vertical-align: middle;\n",
       "    }\n",
       "\n",
       "    .dataframe tbody tr th {\n",
       "        vertical-align: top;\n",
       "    }\n",
       "\n",
       "    .dataframe thead th {\n",
       "        text-align: right;\n",
       "    }\n",
       "</style>\n",
       "<table border=\"1\" class=\"dataframe\">\n",
       "  <thead>\n",
       "    <tr style=\"text-align: right;\">\n",
       "      <th></th>\n",
       "      <th>test_group_name</th>\n",
       "      <th>metric</th>\n",
       "      <th>lower_bound</th>\n",
       "      <th>mean</th>\n",
       "      <th>upper_bound</th>\n",
       "    </tr>\n",
       "  </thead>\n",
       "  <tbody>\n",
       "    <tr>\n",
       "      <th>0</th>\n",
       "      <td>low quality feedback</td>\n",
       "      <td>f1</td>\n",
       "      <td>-31.252275</td>\n",
       "      <td>58.781865</td>\n",
       "      <td>116.765712</td>\n",
       "    </tr>\n",
       "    <tr>\n",
       "      <th>1</th>\n",
       "      <td>medium quality feedback</td>\n",
       "      <td>f1</td>\n",
       "      <td>-31.735451</td>\n",
       "      <td>48.351489</td>\n",
       "      <td>98.737009</td>\n",
       "    </tr>\n",
       "    <tr>\n",
       "      <th>2</th>\n",
       "      <td>high quality feedback</td>\n",
       "      <td>f1</td>\n",
       "      <td>-19.106744</td>\n",
       "      <td>70.899807</td>\n",
       "      <td>125.453096</td>\n",
       "    </tr>\n",
       "    <tr>\n",
       "      <th>3</th>\n",
       "      <td>low quality feedback</td>\n",
       "      <td>precision</td>\n",
       "      <td>-27.561531</td>\n",
       "      <td>62.481706</td>\n",
       "      <td>118.728272</td>\n",
       "    </tr>\n",
       "    <tr>\n",
       "      <th>4</th>\n",
       "      <td>medium quality feedback</td>\n",
       "      <td>precision</td>\n",
       "      <td>-20.287318</td>\n",
       "      <td>66.631626</td>\n",
       "      <td>121.620651</td>\n",
       "    </tr>\n",
       "    <tr>\n",
       "      <th>5</th>\n",
       "      <td>high quality feedback</td>\n",
       "      <td>precision</td>\n",
       "      <td>-7.001596</td>\n",
       "      <td>86.414101</td>\n",
       "      <td>143.197732</td>\n",
       "    </tr>\n",
       "    <tr>\n",
       "      <th>6</th>\n",
       "      <td>low quality feedback</td>\n",
       "      <td>recall</td>\n",
       "      <td>-43.595038</td>\n",
       "      <td>47.708905</td>\n",
       "      <td>103.111570</td>\n",
       "    </tr>\n",
       "    <tr>\n",
       "      <th>7</th>\n",
       "      <td>medium quality feedback</td>\n",
       "      <td>recall</td>\n",
       "      <td>-39.493753</td>\n",
       "      <td>38.486277</td>\n",
       "      <td>86.062143</td>\n",
       "    </tr>\n",
       "    <tr>\n",
       "      <th>8</th>\n",
       "      <td>high quality feedback</td>\n",
       "      <td>recall</td>\n",
       "      <td>-27.130804</td>\n",
       "      <td>56.015627</td>\n",
       "      <td>107.099546</td>\n",
       "    </tr>\n",
       "  </tbody>\n",
       "</table>\n",
       "</div>"
      ],
      "text/plain": [
       "           test_group_name     metric  lower_bound       mean  upper_bound\n",
       "0     low quality feedback         f1   -31.252275  58.781865   116.765712\n",
       "1  medium quality feedback         f1   -31.735451  48.351489    98.737009\n",
       "2    high quality feedback         f1   -19.106744  70.899807   125.453096\n",
       "3     low quality feedback  precision   -27.561531  62.481706   118.728272\n",
       "4  medium quality feedback  precision   -20.287318  66.631626   121.620651\n",
       "5    high quality feedback  precision    -7.001596  86.414101   143.197732\n",
       "6     low quality feedback     recall   -43.595038  47.708905   103.111570\n",
       "7  medium quality feedback     recall   -39.493753  38.486277    86.062143\n",
       "8    high quality feedback     recall   -27.130804  56.015627   107.099546"
      ]
     },
     "execution_count": 74,
     "metadata": {},
     "output_type": "execute_result"
    }
   ],
   "source": [
    "data = []\n",
    "\n",
    "for metric in METRICS:\n",
    "    \n",
    "    control_group = df_user_error[\n",
    "        (df_user_error['test_group'] == \"high quality feedback\") &\n",
    "        (df_user_error['user__feedback'] == False)\n",
    "    ][metric]\n",
    "    \n",
    "    for test_group_name in TEST_GROUP_NAMES:\n",
    "        test_group = df_user_error[\n",
    "            (df_user_error['test_group'] == test_group_name) &\n",
    "            (df_user_error['user__feedback'] == True)\n",
    "        ][metric]\n",
    "        mean, lower_bound, upper_bound = get_confidence_intervals(test_group, control_group)\n",
    "\n",
    "        data.append({\n",
    "            \"test_group_name\": test_group_name,\n",
    "            \"metric\": metric,\n",
    "            \"lower_bound\": lower_bound,\n",
    "            \"mean\": mean,\n",
    "            \"upper_bound\": upper_bound\n",
    "        })\n",
    "\n",
    "pd.DataFrame(data)"
   ]
  }
 ],
 "metadata": {
  "kernelspec": {
   "display_name": "Python 3",
   "language": "python",
   "name": "python3"
  },
  "language_info": {
   "codemirror_mode": {
    "name": "ipython",
    "version": 3
   },
   "file_extension": ".py",
   "mimetype": "text/x-python",
   "name": "python",
   "nbconvert_exporter": "python",
   "pygments_lexer": "ipython3",
   "version": "3.6.9"
  }
 },
 "nbformat": 4,
 "nbformat_minor": 4
}
