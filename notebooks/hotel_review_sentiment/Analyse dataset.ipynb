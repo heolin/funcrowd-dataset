{
 "cells": [
  {
   "cell_type": "code",
   "execution_count": 1,
   "metadata": {},
   "outputs": [],
   "source": [
    "import sys\n",
    "sys.path.insert(0, '../..')\n",
    "\n",
    "# general\n",
    "import ast\n",
    "import pandas as pd\n",
    "import seaborn as sns\n",
    "import matplotlib.pyplot as plt\n",
    "import warnings\n",
    "\n",
    "sns.set()\n",
    "warnings.filterwarnings(\"ignore\")\n",
    "\n",
    "# local\n",
    "from sklearn_crfsuite import metrics\n",
    "from core.stats import Statistics\n",
    "from core.utils import load_dataset\n",
    "from core.plots import plot_histogram, plot_learning_curve\n",
    "from core.learning import LearningAnalyser\n",
    "from core.reports import (\n",
    "    compute_user_error,\n",
    "    generate_comparison_report,\n",
    "    generate_test_groups_comparison_report,\n",
    "    generate_learning_report\n",
    ")\n",
    "from core.dataset import DatasetAnalyser, DatasetGroup\n",
    "\n",
    "from sklearn.metrics import (\n",
    "    accuracy_score, precision_score, recall_score, f1_score\n",
    ")\n",
    "\n",
    "from core.latex import create_latex_tables_generator\n",
    "\n",
    "import numpy as np\n",
    "np.random.seed(3453562)"
   ]
  },
  {
   "cell_type": "markdown",
   "metadata": {},
   "source": [
    "# 1. General statistics\n",
    "## 1.1. Read data"
   ]
  },
  {
   "cell_type": "code",
   "execution_count": 2,
   "metadata": {},
   "outputs": [],
   "source": [
    "df = load_dataset('../../data/hotel_review_sentiment/hotel_review_sentiment-dataset.csv')\n",
    "df['annotation__output'] = df['annotation__output'].apply(lambda x: float(x.split(' - ')[0]))\n",
    "df['reference__output'] = df['reference__output'].apply(lambda x: float(x.split(' - ')[0]))"
   ]
  },
  {
   "cell_type": "markdown",
   "metadata": {},
   "source": [
    "## 1.2. Statistics"
   ]
  },
  {
   "cell_type": "code",
   "execution_count": 3,
   "metadata": {},
   "outputs": [],
   "source": [
    "stats = Statistics(df)"
   ]
  },
  {
   "cell_type": "markdown",
   "metadata": {},
   "source": [
    "### 1.2.1. General"
   ]
  },
  {
   "cell_type": "code",
   "execution_count": 4,
   "metadata": {},
   "outputs": [
    {
     "data": {
      "text/html": [
       "<div>\n",
       "<style scoped>\n",
       "    .dataframe tbody tr th:only-of-type {\n",
       "        vertical-align: middle;\n",
       "    }\n",
       "\n",
       "    .dataframe tbody tr th {\n",
       "        vertical-align: top;\n",
       "    }\n",
       "\n",
       "    .dataframe thead th {\n",
       "        text-align: right;\n",
       "    }\n",
       "</style>\n",
       "<table border=\"1\" class=\"dataframe\">\n",
       "  <thead>\n",
       "    <tr style=\"text-align: right;\">\n",
       "      <th></th>\n",
       "      <th>value</th>\n",
       "    </tr>\n",
       "    <tr>\n",
       "      <th>metric</th>\n",
       "      <th></th>\n",
       "    </tr>\n",
       "  </thead>\n",
       "  <tbody>\n",
       "    <tr>\n",
       "      <th>total_annotations</th>\n",
       "      <td>10378</td>\n",
       "    </tr>\n",
       "    <tr>\n",
       "      <th>unique_items</th>\n",
       "      <td>2294</td>\n",
       "    </tr>\n",
       "    <tr>\n",
       "      <th>unique_users</th>\n",
       "      <td>182</td>\n",
       "    </tr>\n",
       "    <tr>\n",
       "      <th>total_annotation_time</th>\n",
       "      <td>08h 44m 24s</td>\n",
       "    </tr>\n",
       "  </tbody>\n",
       "</table>\n",
       "</div>"
      ],
      "text/plain": [
       "                             value\n",
       "metric                            \n",
       "total_annotations            10378\n",
       "unique_items                  2294\n",
       "unique_users                   182\n",
       "total_annotation_time  08h 44m 24s"
      ]
     },
     "execution_count": 4,
     "metadata": {},
     "output_type": "execute_result"
    }
   ],
   "source": [
    "stats.general"
   ]
  },
  {
   "cell_type": "markdown",
   "metadata": {},
   "source": [
    "### 1.2.2. Annotations per item"
   ]
  },
  {
   "cell_type": "code",
   "execution_count": 5,
   "metadata": {
    "scrolled": true
   },
   "outputs": [
    {
     "data": {
      "text/html": [
       "<div>\n",
       "<style scoped>\n",
       "    .dataframe tbody tr th:only-of-type {\n",
       "        vertical-align: middle;\n",
       "    }\n",
       "\n",
       "    .dataframe tbody tr th {\n",
       "        vertical-align: top;\n",
       "    }\n",
       "\n",
       "    .dataframe thead th {\n",
       "        text-align: right;\n",
       "    }\n",
       "</style>\n",
       "<table border=\"1\" class=\"dataframe\">\n",
       "  <thead>\n",
       "    <tr style=\"text-align: right;\">\n",
       "      <th></th>\n",
       "      <th>data__item_id</th>\n",
       "    </tr>\n",
       "  </thead>\n",
       "  <tbody>\n",
       "    <tr>\n",
       "      <th>count</th>\n",
       "      <td>2294.000000</td>\n",
       "    </tr>\n",
       "    <tr>\n",
       "      <th>mean</th>\n",
       "      <td>4.523976</td>\n",
       "    </tr>\n",
       "    <tr>\n",
       "      <th>std</th>\n",
       "      <td>1.890618</td>\n",
       "    </tr>\n",
       "    <tr>\n",
       "      <th>min</th>\n",
       "      <td>1.000000</td>\n",
       "    </tr>\n",
       "    <tr>\n",
       "      <th>25%</th>\n",
       "      <td>3.000000</td>\n",
       "    </tr>\n",
       "    <tr>\n",
       "      <th>50%</th>\n",
       "      <td>4.000000</td>\n",
       "    </tr>\n",
       "    <tr>\n",
       "      <th>75%</th>\n",
       "      <td>6.000000</td>\n",
       "    </tr>\n",
       "    <tr>\n",
       "      <th>max</th>\n",
       "      <td>12.000000</td>\n",
       "    </tr>\n",
       "  </tbody>\n",
       "</table>\n",
       "</div>"
      ],
      "text/plain": [
       "       data__item_id\n",
       "count    2294.000000\n",
       "mean        4.523976\n",
       "std         1.890618\n",
       "min         1.000000\n",
       "25%         3.000000\n",
       "50%         4.000000\n",
       "75%         6.000000\n",
       "max        12.000000"
      ]
     },
     "execution_count": 5,
     "metadata": {},
     "output_type": "execute_result"
    }
   ],
   "source": [
    "stats.annotations_per_item"
   ]
  },
  {
   "cell_type": "markdown",
   "metadata": {},
   "source": [
    "### 1.2.3. Annotations per user"
   ]
  },
  {
   "cell_type": "code",
   "execution_count": 6,
   "metadata": {},
   "outputs": [
    {
     "data": {
      "text/html": [
       "<div>\n",
       "<style scoped>\n",
       "    .dataframe tbody tr th:only-of-type {\n",
       "        vertical-align: middle;\n",
       "    }\n",
       "\n",
       "    .dataframe tbody tr th {\n",
       "        vertical-align: top;\n",
       "    }\n",
       "\n",
       "    .dataframe thead th {\n",
       "        text-align: right;\n",
       "    }\n",
       "</style>\n",
       "<table border=\"1\" class=\"dataframe\">\n",
       "  <thead>\n",
       "    <tr style=\"text-align: right;\">\n",
       "      <th></th>\n",
       "      <th>user__id</th>\n",
       "    </tr>\n",
       "  </thead>\n",
       "  <tbody>\n",
       "    <tr>\n",
       "      <th>count</th>\n",
       "      <td>182.000000</td>\n",
       "    </tr>\n",
       "    <tr>\n",
       "      <th>mean</th>\n",
       "      <td>57.021978</td>\n",
       "    </tr>\n",
       "    <tr>\n",
       "      <th>std</th>\n",
       "      <td>46.601396</td>\n",
       "    </tr>\n",
       "    <tr>\n",
       "      <th>min</th>\n",
       "      <td>11.000000</td>\n",
       "    </tr>\n",
       "    <tr>\n",
       "      <th>25%</th>\n",
       "      <td>50.000000</td>\n",
       "    </tr>\n",
       "    <tr>\n",
       "      <th>50%</th>\n",
       "      <td>50.000000</td>\n",
       "    </tr>\n",
       "    <tr>\n",
       "      <th>75%</th>\n",
       "      <td>50.000000</td>\n",
       "    </tr>\n",
       "    <tr>\n",
       "      <th>max</th>\n",
       "      <td>400.000000</td>\n",
       "    </tr>\n",
       "  </tbody>\n",
       "</table>\n",
       "</div>"
      ],
      "text/plain": [
       "         user__id\n",
       "count  182.000000\n",
       "mean    57.021978\n",
       "std     46.601396\n",
       "min     11.000000\n",
       "25%     50.000000\n",
       "50%     50.000000\n",
       "75%     50.000000\n",
       "max    400.000000"
      ]
     },
     "execution_count": 6,
     "metadata": {},
     "output_type": "execute_result"
    }
   ],
   "source": [
    "stats.annotations_per_user"
   ]
  },
  {
   "cell_type": "markdown",
   "metadata": {},
   "source": [
    "### 1.2.4. Average annotation time over time"
   ]
  },
  {
   "cell_type": "code",
   "execution_count": 7,
   "metadata": {},
   "outputs": [
    {
     "data": {
      "text/html": [
       "<div>\n",
       "<style scoped>\n",
       "    .dataframe tbody tr th:only-of-type {\n",
       "        vertical-align: middle;\n",
       "    }\n",
       "\n",
       "    .dataframe tbody tr th {\n",
       "        vertical-align: top;\n",
       "    }\n",
       "\n",
       "    .dataframe thead th {\n",
       "        text-align: right;\n",
       "    }\n",
       "</style>\n",
       "<table border=\"1\" class=\"dataframe\">\n",
       "  <thead>\n",
       "    <tr style=\"text-align: right;\">\n",
       "      <th></th>\n",
       "      <th>value</th>\n",
       "    </tr>\n",
       "    <tr>\n",
       "      <th>index</th>\n",
       "      <th></th>\n",
       "    </tr>\n",
       "  </thead>\n",
       "  <tbody>\n",
       "    <tr>\n",
       "      <th>10</th>\n",
       "      <td>12.019399</td>\n",
       "    </tr>\n",
       "    <tr>\n",
       "      <th>20</th>\n",
       "      <td>10.780514</td>\n",
       "    </tr>\n",
       "    <tr>\n",
       "      <th>30</th>\n",
       "      <td>10.544166</td>\n",
       "    </tr>\n",
       "    <tr>\n",
       "      <th>40</th>\n",
       "      <td>10.949810</td>\n",
       "    </tr>\n",
       "    <tr>\n",
       "      <th>60</th>\n",
       "      <td>13.259249</td>\n",
       "    </tr>\n",
       "    <tr>\n",
       "      <th>70</th>\n",
       "      <td>9.660688</td>\n",
       "    </tr>\n",
       "    <tr>\n",
       "      <th>80</th>\n",
       "      <td>12.217221</td>\n",
       "    </tr>\n",
       "    <tr>\n",
       "      <th>90</th>\n",
       "      <td>12.649324</td>\n",
       "    </tr>\n",
       "  </tbody>\n",
       "</table>\n",
       "</div>"
      ],
      "text/plain": [
       "           value\n",
       "index           \n",
       "10     12.019399\n",
       "20     10.780514\n",
       "30     10.544166\n",
       "40     10.949810\n",
       "60     13.259249\n",
       "70      9.660688\n",
       "80     12.217221\n",
       "90     12.649324"
      ]
     },
     "execution_count": 7,
     "metadata": {},
     "output_type": "execute_result"
    },
    {
     "data": {
      "image/png": "[encoded data removed]",
      "text/plain": [
       "<Figure size 1000x500 with 1 Axes>"
      ]
     },
     "metadata": {},
     "output_type": "display_data"
    }
   ],
   "source": [
    "plt.figure(figsize=(10, 5))\n",
    "plt.title(\"Average time of annotation over time\", fontsize=16)\n",
    "df_times = stats.average_time_per_annotation\n",
    "df_times['value'].plot()\n",
    "df_times[df_times.index % 10 == 0]"
   ]
  },
  {
   "cell_type": "markdown",
   "metadata": {},
   "source": [
    "# 2. Confidence intervals\n",
    "## 2.1. Compute user's annotation quality metrics\n",
    "- In this section we aggregate the raw result to compute the quality metrics value per user\n",
    "- To measure the quality of user's annotation we use: accuracy, recall, f1 and precision metrics\n",
    "- Mean error is computed for each user in each test_group separately.<br/>\n",
    "This way we can check how each user did in each test conditions"
   ]
  },
  {
   "cell_type": "code",
   "execution_count": 8,
   "metadata": {},
   "outputs": [],
   "source": [
    "METRICS_COLUMNS = [\"me\", \"mae\", \"mse\", \"accuracy\", \"annotation_time\", \"count\"]"
   ]
  },
  {
   "cell_type": "code",
   "execution_count": 9,
   "metadata": {},
   "outputs": [],
   "source": [
    "def metrics_function(y_true: pd.Series, y_pred: pd.Series):\n",
    "    return {\n",
    "        \"mae\": (y_true - y_pred).abs().mean(),\n",
    "        \"mse\": (y_true - y_pred).pow(2).mean(),\n",
    "        \"me\": (y_true - y_pred).mean(),\n",
    "        \"accuracy\": (y_true == y_pred).mean()\n",
    "    }\n",
    "  \n",
    "    \n",
    "df_user_error = compute_user_error(df, metrics_function)"
   ]
  },
  {
   "cell_type": "markdown",
   "metadata": {},
   "source": [
    "## 2.2. Compute confidence intervals for test groups\n",
    "In this section we compute the confidence intervals for the percentage quality change between the control group and each of the test groups."
   ]
  },
  {
   "cell_type": "code",
   "execution_count": 10,
   "metadata": {},
   "outputs": [],
   "source": [
    "dataset = DatasetAnalyser(df_user_error, METRICS_COLUMNS)"
   ]
  },
  {
   "cell_type": "markdown",
   "metadata": {},
   "source": [
    "### 2.2.1. Compering: test groups vs control group"
   ]
  },
  {
   "cell_type": "code",
   "execution_count": 11,
   "metadata": {},
   "outputs": [],
   "source": [
    "df_ci_h1, df_percentage_ci_h1, df_p_value_h1, df_cohen_d_h1 = generate_comparison_report(dataset)"
   ]
  },
  {
   "cell_type": "markdown",
   "metadata": {},
   "source": [
    "#### Confidence intervals"
   ]
  },
  {
   "cell_type": "code",
   "execution_count": 12,
   "metadata": {},
   "outputs": [
    {
     "data": {
      "text/html": [
       "<div>\n",
       "<style scoped>\n",
       "    .dataframe tbody tr th:only-of-type {\n",
       "        vertical-align: middle;\n",
       "    }\n",
       "\n",
       "    .dataframe tbody tr th {\n",
       "        vertical-align: top;\n",
       "    }\n",
       "\n",
       "    .dataframe thead th {\n",
       "        text-align: right;\n",
       "    }\n",
       "</style>\n",
       "<table border=\"1\" class=\"dataframe\">\n",
       "  <thead>\n",
       "    <tr style=\"text-align: right;\">\n",
       "      <th></th>\n",
       "      <th></th>\n",
       "      <th>me</th>\n",
       "      <th>mae</th>\n",
       "      <th>mse</th>\n",
       "      <th>accuracy</th>\n",
       "      <th>annotation_time</th>\n",
       "      <th>count</th>\n",
       "    </tr>\n",
       "    <tr>\n",
       "      <th>group_name</th>\n",
       "      <th>quantile</th>\n",
       "      <th></th>\n",
       "      <th></th>\n",
       "      <th></th>\n",
       "      <th></th>\n",
       "      <th></th>\n",
       "      <th></th>\n",
       "    </tr>\n",
       "  </thead>\n",
       "  <tbody>\n",
       "    <tr>\n",
       "      <th rowspan=\"3\" valign=\"top\">high quality feedback</th>\n",
       "      <th>0.05</th>\n",
       "      <td>-0.082545</td>\n",
       "      <td>-0.096843</td>\n",
       "      <td>-0.337405</td>\n",
       "      <td>-0.050803</td>\n",
       "      <td>-0.165541</td>\n",
       "      <td>-10.255755</td>\n",
       "    </tr>\n",
       "    <tr>\n",
       "      <th>0.5</th>\n",
       "      <td>0.046682</td>\n",
       "      <td>0.008601</td>\n",
       "      <td>0.014510</td>\n",
       "      <td>-0.013820</td>\n",
       "      <td>1.879663</td>\n",
       "      <td>-4.977900</td>\n",
       "    </tr>\n",
       "    <tr>\n",
       "      <th>0.95</th>\n",
       "      <td>0.171834</td>\n",
       "      <td>0.119713</td>\n",
       "      <td>0.382915</td>\n",
       "      <td>0.022160</td>\n",
       "      <td>3.903281</td>\n",
       "      <td>0.387984</td>\n",
       "    </tr>\n",
       "    <tr>\n",
       "      <th rowspan=\"3\" valign=\"top\">low quality feedback</th>\n",
       "      <th>0.05</th>\n",
       "      <td>-0.492634</td>\n",
       "      <td>0.067415</td>\n",
       "      <td>0.017777</td>\n",
       "      <td>-0.130504</td>\n",
       "      <td>-6.060668</td>\n",
       "      <td>-9.960217</td>\n",
       "    </tr>\n",
       "    <tr>\n",
       "      <th>0.5</th>\n",
       "      <td>-0.204422</td>\n",
       "      <td>0.209678</td>\n",
       "      <td>0.513993</td>\n",
       "      <td>-0.084134</td>\n",
       "      <td>-1.229001</td>\n",
       "      <td>12.113189</td>\n",
       "    </tr>\n",
       "    <tr>\n",
       "      <th>0.95</th>\n",
       "      <td>0.071540</td>\n",
       "      <td>0.345683</td>\n",
       "      <td>1.007696</td>\n",
       "      <td>-0.035366</td>\n",
       "      <td>3.545873</td>\n",
       "      <td>34.979567</td>\n",
       "    </tr>\n",
       "    <tr>\n",
       "      <th rowspan=\"3\" valign=\"top\">medium quality feedback</th>\n",
       "      <th>0.05</th>\n",
       "      <td>-0.059381</td>\n",
       "      <td>-0.226558</td>\n",
       "      <td>-0.709714</td>\n",
       "      <td>-0.002003</td>\n",
       "      <td>-5.207050</td>\n",
       "      <td>-44.754915</td>\n",
       "    </tr>\n",
       "    <tr>\n",
       "      <th>0.5</th>\n",
       "      <td>0.152150</td>\n",
       "      <td>-0.094454</td>\n",
       "      <td>-0.270649</td>\n",
       "      <td>0.054241</td>\n",
       "      <td>-1.320827</td>\n",
       "      <td>-0.960769</td>\n",
       "    </tr>\n",
       "    <tr>\n",
       "      <th>0.95</th>\n",
       "      <td>0.378690</td>\n",
       "      <td>0.050617</td>\n",
       "      <td>0.181942</td>\n",
       "      <td>0.107946</td>\n",
       "      <td>2.600194</td>\n",
       "      <td>35.661966</td>\n",
       "    </tr>\n",
       "  </tbody>\n",
       "</table>\n",
       "</div>"
      ],
      "text/plain": [
       "                                        me       mae       mse  accuracy  \\\n",
       "group_name              quantile                                           \n",
       "high quality feedback   0.05     -0.082545 -0.096843 -0.337405 -0.050803   \n",
       "                        0.5       0.046682  0.008601  0.014510 -0.013820   \n",
       "                        0.95      0.171834  0.119713  0.382915  0.022160   \n",
       "low quality feedback    0.05     -0.492634  0.067415  0.017777 -0.130504   \n",
       "                        0.5      -0.204422  0.209678  0.513993 -0.084134   \n",
       "                        0.95      0.071540  0.345683  1.007696 -0.035366   \n",
       "medium quality feedback 0.05     -0.059381 -0.226558 -0.709714 -0.002003   \n",
       "                        0.5       0.152150 -0.094454 -0.270649  0.054241   \n",
       "                        0.95      0.378690  0.050617  0.181942  0.107946   \n",
       "\n",
       "                                  annotation_time      count  \n",
       "group_name              quantile                              \n",
       "high quality feedback   0.05            -0.165541 -10.255755  \n",
       "                        0.5              1.879663  -4.977900  \n",
       "                        0.95             3.903281   0.387984  \n",
       "low quality feedback    0.05            -6.060668  -9.960217  \n",
       "                        0.5             -1.229001  12.113189  \n",
       "                        0.95             3.545873  34.979567  \n",
       "medium quality feedback 0.05            -5.207050 -44.754915  \n",
       "                        0.5             -1.320827  -0.960769  \n",
       "                        0.95             2.600194  35.661966  "
      ]
     },
     "execution_count": 12,
     "metadata": {},
     "output_type": "execute_result"
    }
   ],
   "source": [
    "df_ci_h1"
   ]
  },
  {
   "cell_type": "markdown",
   "metadata": {},
   "source": [
    "#### Percentage confidence intervals"
   ]
  },
  {
   "cell_type": "code",
   "execution_count": 13,
   "metadata": {},
   "outputs": [
    {
     "data": {
      "text/html": [
       "<div>\n",
       "<style scoped>\n",
       "    .dataframe tbody tr th:only-of-type {\n",
       "        vertical-align: middle;\n",
       "    }\n",
       "\n",
       "    .dataframe tbody tr th {\n",
       "        vertical-align: top;\n",
       "    }\n",
       "\n",
       "    .dataframe thead th {\n",
       "        text-align: right;\n",
       "    }\n",
       "</style>\n",
       "<table border=\"1\" class=\"dataframe\">\n",
       "  <thead>\n",
       "    <tr style=\"text-align: right;\">\n",
       "      <th></th>\n",
       "      <th></th>\n",
       "      <th>me</th>\n",
       "      <th>mae</th>\n",
       "      <th>mse</th>\n",
       "      <th>accuracy</th>\n",
       "      <th>annotation_time</th>\n",
       "      <th>count</th>\n",
       "    </tr>\n",
       "    <tr>\n",
       "      <th>group_name</th>\n",
       "      <th>quantile</th>\n",
       "      <th></th>\n",
       "      <th></th>\n",
       "      <th></th>\n",
       "      <th></th>\n",
       "      <th></th>\n",
       "      <th></th>\n",
       "    </tr>\n",
       "  </thead>\n",
       "  <tbody>\n",
       "    <tr>\n",
       "      <th rowspan=\"3\" valign=\"top\">high quality feedback</th>\n",
       "      <th>0.05</th>\n",
       "      <td>0.303760</td>\n",
       "      <td>-0.076228</td>\n",
       "      <td>-0.120835</td>\n",
       "      <td>-0.185497</td>\n",
       "      <td>-0.017422</td>\n",
       "      <td>-0.188267</td>\n",
       "    </tr>\n",
       "    <tr>\n",
       "      <th>0.5</th>\n",
       "      <td>-0.171787</td>\n",
       "      <td>0.006770</td>\n",
       "      <td>0.005196</td>\n",
       "      <td>-0.050463</td>\n",
       "      <td>0.197818</td>\n",
       "      <td>-0.091380</td>\n",
       "    </tr>\n",
       "    <tr>\n",
       "      <th>0.95</th>\n",
       "      <td>-0.632339</td>\n",
       "      <td>0.094230</td>\n",
       "      <td>0.137134</td>\n",
       "      <td>0.080914</td>\n",
       "      <td>0.410787</td>\n",
       "      <td>0.007122</td>\n",
       "    </tr>\n",
       "    <tr>\n",
       "      <th rowspan=\"3\" valign=\"top\">low quality feedback</th>\n",
       "      <th>0.05</th>\n",
       "      <td>10.694983</td>\n",
       "      <td>0.051557</td>\n",
       "      <td>0.005579</td>\n",
       "      <td>-0.397697</td>\n",
       "      <td>-0.390031</td>\n",
       "      <td>-0.204251</td>\n",
       "    </tr>\n",
       "    <tr>\n",
       "      <th>0.5</th>\n",
       "      <td>4.437964</td>\n",
       "      <td>0.160356</td>\n",
       "      <td>0.161297</td>\n",
       "      <td>-0.256388</td>\n",
       "      <td>-0.079092</td>\n",
       "      <td>0.248401</td>\n",
       "    </tr>\n",
       "    <tr>\n",
       "      <th>0.95</th>\n",
       "      <td>-1.553115</td>\n",
       "      <td>0.264369</td>\n",
       "      <td>0.316226</td>\n",
       "      <td>-0.107775</td>\n",
       "      <td>0.228193</td>\n",
       "      <td>0.717313</td>\n",
       "    </tr>\n",
       "    <tr>\n",
       "      <th rowspan=\"3\" valign=\"top\">medium quality feedback</th>\n",
       "      <th>0.05</th>\n",
       "      <td>0.207723</td>\n",
       "      <td>-0.170999</td>\n",
       "      <td>-0.239484</td>\n",
       "      <td>-0.007964</td>\n",
       "      <td>-0.332000</td>\n",
       "      <td>-0.752183</td>\n",
       "    </tr>\n",
       "    <tr>\n",
       "      <th>0.5</th>\n",
       "      <td>-0.532245</td>\n",
       "      <td>-0.071291</td>\n",
       "      <td>-0.091327</td>\n",
       "      <td>0.215646</td>\n",
       "      <td>-0.084216</td>\n",
       "      <td>-0.016147</td>\n",
       "    </tr>\n",
       "    <tr>\n",
       "      <th>0.95</th>\n",
       "      <td>-1.324721</td>\n",
       "      <td>0.038204</td>\n",
       "      <td>0.061394</td>\n",
       "      <td>0.429163</td>\n",
       "      <td>0.165788</td>\n",
       "      <td>0.599361</td>\n",
       "    </tr>\n",
       "  </tbody>\n",
       "</table>\n",
       "</div>"
      ],
      "text/plain": [
       "                                         me       mae       mse  accuracy  \\\n",
       "group_name              quantile                                            \n",
       "high quality feedback   0.05       0.303760 -0.076228 -0.120835 -0.185497   \n",
       "                        0.5       -0.171787  0.006770  0.005196 -0.050463   \n",
       "                        0.95      -0.632339  0.094230  0.137134  0.080914   \n",
       "low quality feedback    0.05      10.694983  0.051557  0.005579 -0.397697   \n",
       "                        0.5        4.437964  0.160356  0.161297 -0.256388   \n",
       "                        0.95      -1.553115  0.264369  0.316226 -0.107775   \n",
       "medium quality feedback 0.05       0.207723 -0.170999 -0.239484 -0.007964   \n",
       "                        0.5       -0.532245 -0.071291 -0.091327  0.215646   \n",
       "                        0.95      -1.324721  0.038204  0.061394  0.429163   \n",
       "\n",
       "                                  annotation_time     count  \n",
       "group_name              quantile                             \n",
       "high quality feedback   0.05            -0.017422 -0.188267  \n",
       "                        0.5              0.197818 -0.091380  \n",
       "                        0.95             0.410787  0.007122  \n",
       "low quality feedback    0.05            -0.390031 -0.204251  \n",
       "                        0.5             -0.079092  0.248401  \n",
       "                        0.95             0.228193  0.717313  \n",
       "medium quality feedback 0.05            -0.332000 -0.752183  \n",
       "                        0.5             -0.084216 -0.016147  \n",
       "                        0.95             0.165788  0.599361  "
      ]
     },
     "execution_count": 13,
     "metadata": {},
     "output_type": "execute_result"
    }
   ],
   "source": [
    "df_percentage_ci_h1"
   ]
  },
  {
   "cell_type": "markdown",
   "metadata": {},
   "source": [
    "#### p-value"
   ]
  },
  {
   "cell_type": "code",
   "execution_count": 14,
   "metadata": {},
   "outputs": [
    {
     "data": {
      "text/html": [
       "<div>\n",
       "<style scoped>\n",
       "    .dataframe tbody tr th:only-of-type {\n",
       "        vertical-align: middle;\n",
       "    }\n",
       "\n",
       "    .dataframe tbody tr th {\n",
       "        vertical-align: top;\n",
       "    }\n",
       "\n",
       "    .dataframe thead th {\n",
       "        text-align: right;\n",
       "    }\n",
       "</style>\n",
       "<table border=\"1\" class=\"dataframe\">\n",
       "  <thead>\n",
       "    <tr style=\"text-align: right;\">\n",
       "      <th></th>\n",
       "      <th>me</th>\n",
       "      <th>mae</th>\n",
       "      <th>mse</th>\n",
       "      <th>accuracy</th>\n",
       "      <th>annotation_time</th>\n",
       "      <th>count</th>\n",
       "      <th>group_name</th>\n",
       "    </tr>\n",
       "  </thead>\n",
       "  <tbody>\n",
       "    <tr>\n",
       "      <th>0</th>\n",
       "      <td>0.7272</td>\n",
       "      <td>0.5430</td>\n",
       "      <td>0.5212</td>\n",
       "      <td>0.2720</td>\n",
       "      <td>0.9336</td>\n",
       "      <td>0.0671</td>\n",
       "      <td>high quality feedback</td>\n",
       "    </tr>\n",
       "    <tr>\n",
       "      <th>0</th>\n",
       "      <td>0.1076</td>\n",
       "      <td>0.9875</td>\n",
       "      <td>0.9550</td>\n",
       "      <td>0.0079</td>\n",
       "      <td>0.3402</td>\n",
       "      <td>0.8074</td>\n",
       "      <td>low quality feedback</td>\n",
       "    </tr>\n",
       "    <tr>\n",
       "      <th>0</th>\n",
       "      <td>0.8763</td>\n",
       "      <td>0.1360</td>\n",
       "      <td>0.1668</td>\n",
       "      <td>0.9437</td>\n",
       "      <td>0.2848</td>\n",
       "      <td>0.5181</td>\n",
       "      <td>medium quality feedback</td>\n",
       "    </tr>\n",
       "  </tbody>\n",
       "</table>\n",
       "</div>"
      ],
      "text/plain": [
       "       me     mae     mse  accuracy  annotation_time   count  \\\n",
       "0  0.7272  0.5430  0.5212    0.2720           0.9336  0.0671   \n",
       "0  0.1076  0.9875  0.9550    0.0079           0.3402  0.8074   \n",
       "0  0.8763  0.1360  0.1668    0.9437           0.2848  0.5181   \n",
       "\n",
       "                group_name  \n",
       "0    high quality feedback  \n",
       "0     low quality feedback  \n",
       "0  medium quality feedback  "
      ]
     },
     "execution_count": 14,
     "metadata": {},
     "output_type": "execute_result"
    }
   ],
   "source": [
    "df_p_value_h1"
   ]
  },
  {
   "cell_type": "markdown",
   "metadata": {},
   "source": [
    "#### Cohen's D"
   ]
  },
  {
   "cell_type": "code",
   "execution_count": 15,
   "metadata": {},
   "outputs": [
    {
     "data": {
      "text/html": [
       "<div>\n",
       "<style scoped>\n",
       "    .dataframe tbody tr th:only-of-type {\n",
       "        vertical-align: middle;\n",
       "    }\n",
       "\n",
       "    .dataframe tbody tr th {\n",
       "        vertical-align: top;\n",
       "    }\n",
       "\n",
       "    .dataframe thead th {\n",
       "        text-align: right;\n",
       "    }\n",
       "</style>\n",
       "<table border=\"1\" class=\"dataframe\">\n",
       "  <thead>\n",
       "    <tr style=\"text-align: right;\">\n",
       "      <th></th>\n",
       "      <th>me</th>\n",
       "      <th>mae</th>\n",
       "      <th>mse</th>\n",
       "      <th>accuracy</th>\n",
       "      <th>annotation_time</th>\n",
       "      <th>count</th>\n",
       "      <th>group_name</th>\n",
       "    </tr>\n",
       "  </thead>\n",
       "  <tbody>\n",
       "    <tr>\n",
       "      <th>0</th>\n",
       "      <td>0.108704</td>\n",
       "      <td>0.024771</td>\n",
       "      <td>0.012550</td>\n",
       "      <td>-0.117281</td>\n",
       "      <td>0.256503</td>\n",
       "      <td>-0.267847</td>\n",
       "      <td>high quality feedback</td>\n",
       "    </tr>\n",
       "    <tr>\n",
       "      <th>0</th>\n",
       "      <td>-0.370090</td>\n",
       "      <td>0.820734</td>\n",
       "      <td>0.543679</td>\n",
       "      <td>-0.998730</td>\n",
       "      <td>-0.139428</td>\n",
       "      <td>0.273119</td>\n",
       "      <td>low quality feedback</td>\n",
       "    </tr>\n",
       "    <tr>\n",
       "      <th>0</th>\n",
       "      <td>0.344687</td>\n",
       "      <td>-0.360832</td>\n",
       "      <td>-0.298651</td>\n",
       "      <td>0.540963</td>\n",
       "      <td>-0.173043</td>\n",
       "      <td>-0.014247</td>\n",
       "      <td>medium quality feedback</td>\n",
       "    </tr>\n",
       "  </tbody>\n",
       "</table>\n",
       "</div>"
      ],
      "text/plain": [
       "         me       mae       mse  accuracy  annotation_time     count  \\\n",
       "0  0.108704  0.024771  0.012550 -0.117281         0.256503 -0.267847   \n",
       "0 -0.370090  0.820734  0.543679 -0.998730        -0.139428  0.273119   \n",
       "0  0.344687 -0.360832 -0.298651  0.540963        -0.173043 -0.014247   \n",
       "\n",
       "                group_name  \n",
       "0    high quality feedback  \n",
       "0     low quality feedback  \n",
       "0  medium quality feedback  "
      ]
     },
     "execution_count": 15,
     "metadata": {},
     "output_type": "execute_result"
    }
   ],
   "source": [
    "df_cohen_d_h1"
   ]
  },
  {
   "cell_type": "markdown",
   "metadata": {},
   "source": [
    "#### Ploting histograms for the difference: test groups vs control group"
   ]
  },
  {
   "cell_type": "code",
   "execution_count": 16,
   "metadata": {},
   "outputs": [
    {
     "data": {
      "image/png": "[encoded data removed]",
      "text/plain": [
       "<Figure size 1200x800 with 3 Axes>"
      ]
     },
     "metadata": {},
     "output_type": "display_data"
    }
   ],
   "source": [
    "metric_index = 1\n",
    "plot_histogram(dataset, metric_index)"
   ]
  },
  {
   "cell_type": "markdown",
   "metadata": {},
   "source": [
    "### 2.2.2. Comparing: test groups with each other"
   ]
  },
  {
   "cell_type": "code",
   "execution_count": 17,
   "metadata": {},
   "outputs": [],
   "source": [
    "df_ci_h2, df_p_value_h2, df_cohen_d_h2 = generate_test_groups_comparison_report(dataset)"
   ]
  },
  {
   "cell_type": "markdown",
   "metadata": {},
   "source": [
    "#### Confidence interval"
   ]
  },
  {
   "cell_type": "code",
   "execution_count": 18,
   "metadata": {},
   "outputs": [
    {
     "data": {
      "text/html": [
       "<div>\n",
       "<style scoped>\n",
       "    .dataframe tbody tr th:only-of-type {\n",
       "        vertical-align: middle;\n",
       "    }\n",
       "\n",
       "    .dataframe tbody tr th {\n",
       "        vertical-align: top;\n",
       "    }\n",
       "\n",
       "    .dataframe thead th {\n",
       "        text-align: right;\n",
       "    }\n",
       "</style>\n",
       "<table border=\"1\" class=\"dataframe\">\n",
       "  <thead>\n",
       "    <tr style=\"text-align: right;\">\n",
       "      <th></th>\n",
       "      <th></th>\n",
       "      <th>me</th>\n",
       "      <th>mae</th>\n",
       "      <th>mse</th>\n",
       "      <th>accuracy</th>\n",
       "      <th>annotation_time</th>\n",
       "      <th>count</th>\n",
       "    </tr>\n",
       "    <tr>\n",
       "      <th>group_name</th>\n",
       "      <th>quantile</th>\n",
       "      <th></th>\n",
       "      <th></th>\n",
       "      <th></th>\n",
       "      <th></th>\n",
       "      <th></th>\n",
       "      <th></th>\n",
       "    </tr>\n",
       "  </thead>\n",
       "  <tbody>\n",
       "    <tr>\n",
       "      <th rowspan=\"3\" valign=\"top\">high_low</th>\n",
       "      <th>0.05</th>\n",
       "      <td>-10.890416</td>\n",
       "      <td>-0.292340</td>\n",
       "      <td>-0.358831</td>\n",
       "      <td>0.009183</td>\n",
       "      <td>-0.086747</td>\n",
       "      <td>-0.821833</td>\n",
       "    </tr>\n",
       "    <tr>\n",
       "      <th>0.5</th>\n",
       "      <td>-4.609751</td>\n",
       "      <td>-0.153586</td>\n",
       "      <td>-0.156100</td>\n",
       "      <td>0.205925</td>\n",
       "      <td>0.276910</td>\n",
       "      <td>-0.339781</td>\n",
       "    </tr>\n",
       "    <tr>\n",
       "      <th>0.95</th>\n",
       "      <td>1.381988</td>\n",
       "      <td>-0.014917</td>\n",
       "      <td>0.048586</td>\n",
       "      <td>0.405187</td>\n",
       "      <td>0.630212</td>\n",
       "      <td>0.140472</td>\n",
       "    </tr>\n",
       "    <tr>\n",
       "      <th rowspan=\"3\" valign=\"top\">high_medium</th>\n",
       "      <th>0.05</th>\n",
       "      <td>-0.495516</td>\n",
       "      <td>-0.056718</td>\n",
       "      <td>-0.092414</td>\n",
       "      <td>-0.506562</td>\n",
       "      <td>-0.052932</td>\n",
       "      <td>-0.697190</td>\n",
       "    </tr>\n",
       "    <tr>\n",
       "      <th>0.5</th>\n",
       "      <td>0.360458</td>\n",
       "      <td>0.078061</td>\n",
       "      <td>0.096523</td>\n",
       "      <td>-0.266109</td>\n",
       "      <td>0.282034</td>\n",
       "      <td>-0.075233</td>\n",
       "    </tr>\n",
       "    <tr>\n",
       "      <th>0.95</th>\n",
       "      <td>1.223848</td>\n",
       "      <td>0.194890</td>\n",
       "      <td>0.276395</td>\n",
       "      <td>-0.010077</td>\n",
       "      <td>0.606278</td>\n",
       "      <td>0.670817</td>\n",
       "    </tr>\n",
       "    <tr>\n",
       "      <th rowspan=\"3\" valign=\"top\">medium_low</th>\n",
       "      <th>0.05</th>\n",
       "      <td>-11.325412</td>\n",
       "      <td>-0.375696</td>\n",
       "      <td>-0.460126</td>\n",
       "      <td>0.196697</td>\n",
       "      <td>-0.416888</td>\n",
       "      <td>-1.098920</td>\n",
       "    </tr>\n",
       "    <tr>\n",
       "      <th>0.5</th>\n",
       "      <td>-4.970208</td>\n",
       "      <td>-0.231647</td>\n",
       "      <td>-0.252624</td>\n",
       "      <td>0.472034</td>\n",
       "      <td>-0.005124</td>\n",
       "      <td>-0.264548</td>\n",
       "    </tr>\n",
       "    <tr>\n",
       "      <th>0.95</th>\n",
       "      <td>1.096111</td>\n",
       "      <td>-0.086060</td>\n",
       "      <td>-0.045044</td>\n",
       "      <td>0.750776</td>\n",
       "      <td>0.393361</td>\n",
       "      <td>0.519875</td>\n",
       "    </tr>\n",
       "  </tbody>\n",
       "</table>\n",
       "</div>"
      ],
      "text/plain": [
       "                             me       mae       mse  accuracy  \\\n",
       "group_name  quantile                                            \n",
       "high_low    0.05     -10.890416 -0.292340 -0.358831  0.009183   \n",
       "            0.5       -4.609751 -0.153586 -0.156100  0.205925   \n",
       "            0.95       1.381988 -0.014917  0.048586  0.405187   \n",
       "high_medium 0.05      -0.495516 -0.056718 -0.092414 -0.506562   \n",
       "            0.5        0.360458  0.078061  0.096523 -0.266109   \n",
       "            0.95       1.223848  0.194890  0.276395 -0.010077   \n",
       "medium_low  0.05     -11.325412 -0.375696 -0.460126  0.196697   \n",
       "            0.5       -4.970208 -0.231647 -0.252624  0.472034   \n",
       "            0.95       1.096111 -0.086060 -0.045044  0.750776   \n",
       "\n",
       "                      annotation_time     count  \n",
       "group_name  quantile                             \n",
       "high_low    0.05            -0.086747 -0.821833  \n",
       "            0.5              0.276910 -0.339781  \n",
       "            0.95             0.630212  0.140472  \n",
       "high_medium 0.05            -0.052932 -0.697190  \n",
       "            0.5              0.282034 -0.075233  \n",
       "            0.95             0.606278  0.670817  \n",
       "medium_low  0.05            -0.416888 -1.098920  \n",
       "            0.5             -0.005124 -0.264548  \n",
       "            0.95             0.393361  0.519875  "
      ]
     },
     "execution_count": 18,
     "metadata": {},
     "output_type": "execute_result"
    }
   ],
   "source": [
    "df_ci_h2"
   ]
  },
  {
   "cell_type": "markdown",
   "metadata": {},
   "source": [
    "#### p-value"
   ]
  },
  {
   "cell_type": "code",
   "execution_count": 19,
   "metadata": {},
   "outputs": [
    {
     "data": {
      "text/html": [
       "<div>\n",
       "<style scoped>\n",
       "    .dataframe tbody tr th:only-of-type {\n",
       "        vertical-align: middle;\n",
       "    }\n",
       "\n",
       "    .dataframe tbody tr th {\n",
       "        vertical-align: top;\n",
       "    }\n",
       "\n",
       "    .dataframe thead th {\n",
       "        text-align: right;\n",
       "    }\n",
       "</style>\n",
       "<table border=\"1\" class=\"dataframe\">\n",
       "  <thead>\n",
       "    <tr style=\"text-align: right;\">\n",
       "      <th></th>\n",
       "      <th>me</th>\n",
       "      <th>mae</th>\n",
       "      <th>mse</th>\n",
       "      <th>accuracy</th>\n",
       "      <th>annotation_time</th>\n",
       "      <th>count</th>\n",
       "      <th>group_name</th>\n",
       "    </tr>\n",
       "  </thead>\n",
       "  <tbody>\n",
       "    <tr>\n",
       "      <th>0</th>\n",
       "      <td>0.0983</td>\n",
       "      <td>0.0343</td>\n",
       "      <td>0.1081</td>\n",
       "      <td>0.9561</td>\n",
       "      <td>0.8913</td>\n",
       "      <td>0.1214</td>\n",
       "      <td>high_low</td>\n",
       "    </tr>\n",
       "    <tr>\n",
       "      <th>0</th>\n",
       "      <td>0.7519</td>\n",
       "      <td>0.8467</td>\n",
       "      <td>0.8089</td>\n",
       "      <td>0.0437</td>\n",
       "      <td>0.9189</td>\n",
       "      <td>0.4003</td>\n",
       "      <td>high_medium</td>\n",
       "    </tr>\n",
       "    <tr>\n",
       "      <th>0</th>\n",
       "      <td>0.0854</td>\n",
       "      <td>0.0061</td>\n",
       "      <td>0.0200</td>\n",
       "      <td>0.9959</td>\n",
       "      <td>0.4937</td>\n",
       "      <td>0.3018</td>\n",
       "      <td>medium_low</td>\n",
       "    </tr>\n",
       "  </tbody>\n",
       "</table>\n",
       "</div>"
      ],
      "text/plain": [
       "       me     mae     mse  accuracy  annotation_time   count   group_name\n",
       "0  0.0983  0.0343  0.1081    0.9561           0.8913  0.1214     high_low\n",
       "0  0.7519  0.8467  0.8089    0.0437           0.9189  0.4003  high_medium\n",
       "0  0.0854  0.0061  0.0200    0.9959           0.4937  0.3018   medium_low"
      ]
     },
     "execution_count": 19,
     "metadata": {},
     "output_type": "execute_result"
    }
   ],
   "source": [
    "df_p_value_h2"
   ]
  },
  {
   "cell_type": "markdown",
   "metadata": {},
   "source": [
    "#### Cohen's D"
   ]
  },
  {
   "cell_type": "code",
   "execution_count": 20,
   "metadata": {},
   "outputs": [
    {
     "data": {
      "text/html": [
       "<div>\n",
       "<style scoped>\n",
       "    .dataframe tbody tr th:only-of-type {\n",
       "        vertical-align: middle;\n",
       "    }\n",
       "\n",
       "    .dataframe tbody tr th {\n",
       "        vertical-align: top;\n",
       "    }\n",
       "\n",
       "    .dataframe thead th {\n",
       "        text-align: right;\n",
       "    }\n",
       "</style>\n",
       "<table border=\"1\" class=\"dataframe\">\n",
       "  <thead>\n",
       "    <tr style=\"text-align: right;\">\n",
       "      <th></th>\n",
       "      <th>me</th>\n",
       "      <th>mae</th>\n",
       "      <th>mse</th>\n",
       "      <th>accuracy</th>\n",
       "      <th>annotation_time</th>\n",
       "      <th>count</th>\n",
       "      <th>group_name</th>\n",
       "    </tr>\n",
       "  </thead>\n",
       "  <tbody>\n",
       "    <tr>\n",
       "      <th>0</th>\n",
       "      <td>-1.760743</td>\n",
       "      <td>-2.591541</td>\n",
       "      <td>-1.793219</td>\n",
       "      <td>2.404258</td>\n",
       "      <td>1.696036</td>\n",
       "      <td>-1.675504</td>\n",
       "      <td>high_low</td>\n",
       "    </tr>\n",
       "    <tr>\n",
       "      <th>0</th>\n",
       "      <td>0.935294</td>\n",
       "      <td>1.345994</td>\n",
       "      <td>1.124711</td>\n",
       "      <td>-2.418440</td>\n",
       "      <td>1.985263</td>\n",
       "      <td>-0.258645</td>\n",
       "      <td>high_medium</td>\n",
       "    </tr>\n",
       "    <tr>\n",
       "      <th>0</th>\n",
       "      <td>-1.889331</td>\n",
       "      <td>-3.595436</td>\n",
       "      <td>-2.695024</td>\n",
       "      <td>4.157954</td>\n",
       "      <td>-0.029629</td>\n",
       "      <td>-0.756921</td>\n",
       "      <td>medium_low</td>\n",
       "    </tr>\n",
       "  </tbody>\n",
       "</table>\n",
       "</div>"
      ],
      "text/plain": [
       "         me       mae       mse  accuracy  annotation_time     count  \\\n",
       "0 -1.760743 -2.591541 -1.793219  2.404258         1.696036 -1.675504   \n",
       "0  0.935294  1.345994  1.124711 -2.418440         1.985263 -0.258645   \n",
       "0 -1.889331 -3.595436 -2.695024  4.157954        -0.029629 -0.756921   \n",
       "\n",
       "    group_name  \n",
       "0     high_low  \n",
       "0  high_medium  \n",
       "0   medium_low  "
      ]
     },
     "execution_count": 20,
     "metadata": {},
     "output_type": "execute_result"
    }
   ],
   "source": [
    "df_cohen_d_h2"
   ]
  },
  {
   "cell_type": "markdown",
   "metadata": {},
   "source": [
    "# 3. Analyse learning curve"
   ]
  },
  {
   "cell_type": "code",
   "execution_count": 21,
   "metadata": {},
   "outputs": [],
   "source": [
    "df['annotation_eval'] = (df['reference__output'] == df['annotation__output']).astype(int)\n",
    "df_high = df.query(\"test_group == 'high quality feedback'\")"
   ]
  },
  {
   "cell_type": "code",
   "execution_count": 22,
   "metadata": {},
   "outputs": [],
   "source": [
    "learning = LearningAnalyser(df_high)"
   ]
  },
  {
   "cell_type": "markdown",
   "metadata": {},
   "source": [
    "#### Learning curve stats"
   ]
  },
  {
   "cell_type": "code",
   "execution_count": 23,
   "metadata": {},
   "outputs": [
    {
     "data": {
      "text/html": [
       "<div>\n",
       "<style scoped>\n",
       "    .dataframe tbody tr th:only-of-type {\n",
       "        vertical-align: middle;\n",
       "    }\n",
       "\n",
       "    .dataframe tbody tr th {\n",
       "        vertical-align: top;\n",
       "    }\n",
       "\n",
       "    .dataframe thead th {\n",
       "        text-align: right;\n",
       "    }\n",
       "</style>\n",
       "<table border=\"1\" class=\"dataframe\">\n",
       "  <thead>\n",
       "    <tr style=\"text-align: right;\">\n",
       "      <th></th>\n",
       "      <th>Metryka</th>\n",
       "      <th>Wartość</th>\n",
       "    </tr>\n",
       "  </thead>\n",
       "  <tbody>\n",
       "    <tr>\n",
       "      <th>0</th>\n",
       "      <td>$\\alpha$</td>\n",
       "      <td>-0.0</td>\n",
       "    </tr>\n",
       "    <tr>\n",
       "      <th>1</th>\n",
       "      <td>$\\beta$</td>\n",
       "      <td>0.008</td>\n",
       "    </tr>\n",
       "    <tr>\n",
       "      <th>2</th>\n",
       "      <td>$\\alpha_r$</td>\n",
       "      <td>-6.30%</td>\n",
       "    </tr>\n",
       "    <tr>\n",
       "      <th>3</th>\n",
       "      <td>$\\beta_r$</td>\n",
       "      <td>+3.15%</td>\n",
       "    </tr>\n",
       "  </tbody>\n",
       "</table>\n",
       "</div>"
      ],
      "text/plain": [
       "      Metryka Wartość\n",
       "0    $\\alpha$    -0.0\n",
       "1     $\\beta$   0.008\n",
       "2  $\\alpha_r$  -6.30%\n",
       "3   $\\beta_r$  +3.15%"
      ]
     },
     "execution_count": 23,
     "metadata": {},
     "output_type": "execute_result"
    }
   ],
   "source": [
    "learning_report = generate_learning_report(learning)\n",
    "learning_report"
   ]
  },
  {
   "cell_type": "markdown",
   "metadata": {},
   "source": [
    "#### Learning curve plot"
   ]
  },
  {
   "cell_type": "code",
   "execution_count": 24,
   "metadata": {},
   "outputs": [],
   "source": [
    "# styling fix\n",
    "learning_report['Wartość'] = learning_report['Wartość'].astype(str).str.replace(\".\", \",\")"
   ]
  },
  {
   "cell_type": "code",
   "execution_count": 25,
   "metadata": {},
   "outputs": [
    {
     "data": {
      "image/png": "[encoded data removed]",
      "text/plain": [
       "<Figure size 1500x500 with 2 Axes>"
      ]
     },
     "metadata": {},
     "output_type": "display_data"
    }
   ],
   "source": [
    "plot_learning_curve(learning, learning_report)"
   ]
  },
  {
   "cell_type": "markdown",
   "metadata": {},
   "source": [
    "## Generate latex tables"
   ]
  },
  {
   "cell_type": "code",
   "execution_count": 26,
   "metadata": {},
   "outputs": [],
   "source": [
    "latex_generator = create_latex_tables_generator(\n",
    "    df_percentage_ci_h1=df_percentage_ci_h1,\n",
    "    df_p_value_h1=df_p_value_h1,\n",
    "    df_cohen_d_h1=df_cohen_d_h1,\n",
    "    df_ci_h2=df_ci_h2,\n",
    "    df_p_value_h2=df_p_value_h2,\n",
    "    df_cohen_d_h2=df_cohen_d_h2\n",
    ")"
   ]
  },
  {
   "cell_type": "code",
   "execution_count": 27,
   "metadata": {},
   "outputs": [
    {
     "name": "stdout",
     "output_type": "stream",
     "text": [
      "\n",
      "\\begin{table}[H]\n",
      "\\centering\n",
      "\\caption{}\n",
      "\\label{tab:my-table}\n",
      "\\begin{tabular}{cccccc}\n",
      "\\rowcolor[HTML]{EFEFEF} \n",
      "\\multicolumn{1}{c|}{\\cellcolor[HTML]{EFEFEF}\\textbf{Warunek}} &\n",
      "  \\multicolumn{1}{c|}{\\cellcolor[HTML]{EFEFEF}\\boldmath$P_{05}$} &\n",
      "  \\multicolumn{1}{c|}{\\cellcolor[HTML]{EFEFEF}\\boldmath$\\mu$} &\n",
      "  \\multicolumn{1}{c|}{\\cellcolor[HTML]{EFEFEF}\\boldmath$P_{95}$} &\n",
      "  \\multicolumn{1}{c|}{\\cellcolor[HTML]{EFEFEF}\\boldmath$p$} &\n",
      "  \\boldmath$d$ \\\\ \\hline\n",
      "\\rowcolor[HTML]{EFEFEF} \n",
      "\\multicolumn{6}{c}{\\cellcolor[HTML]{EFEFEF}Hipoteza $H_1$ -- zmiana w metryce XXXX}                                                                                                        \\\\ \\hline\n",
      "        \\multicolumn{1}{c|}{$W_1$} & \\multicolumn{1}{c|}{-7.62\\%} & \\multicolumn{1}{c|}{+0.68\\%} & \\multicolumn{1}{c|}{+9.42\\%} & \\multicolumn{1}{c|}{0.543} & 0.02 \\\\ \\hline\\multicolumn{1}{c|}{$W_2$} & \\multicolumn{1}{c|}{-17.10\\%} & \\multicolumn{1}{c|}{-7.13\\%} & \\multicolumn{1}{c|}{+3.82\\%} & \\multicolumn{1}{c|}{0.136} & -0.36 \\\\ \\hline\\multicolumn{1}{c|}{$W_3$} & \\multicolumn{1}{c|}{+5.16\\%} & \\multicolumn{1}{c|}{+16.04\\%} & \\multicolumn{1}{c|}{+26.44\\%} & \\multicolumn{1}{c|}{0.9875} & 0.82 \\\\ \\hline\n",
      "\\rowcolor[HTML]{EFEFEF} \n",
      "\\multicolumn{6}{c}{\\cellcolor[HTML]{EFEFEF}Hipoteza $H_2$ -- zmiana w metryce XXXX}                                                                                                        \\\\ \\hline\n",
      "        \\multicolumn{1}{c|}{$W_1 - W_3$} & \\multicolumn{1}{c|}{-29.23\\%} & \\multicolumn{1}{c|}{-15.36\\%} & \\multicolumn{1}{c|}{-1.49\\%} & \\multicolumn{1}{c|}{0.0343} & -2.59 \\\\ \\hline\\multicolumn{1}{c|}{$W_1 - W_2$ } & \\multicolumn{1}{c|}{-5.67\\%} & \\multicolumn{1}{c|}{+7.81\\%} & \\multicolumn{1}{c|}{+19.49\\%} & \\multicolumn{1}{c|}{0.8467} & 1.35 \\\\ \\hline\\multicolumn{1}{c|}{$W_2 - W_3$} & \\multicolumn{1}{c|}{-37.57\\%} & \\multicolumn{1}{c|}{-23.16\\%} & \\multicolumn{1}{c|}{-8.61\\%} & \\multicolumn{1}{c|}{0.0061} & -3.6 \\\\ \\hline\n",
      "\\rowcolor[HTML]{EFEFEF} \n",
      "\\multicolumn{6}{c}{\\cellcolor[HTML]{EFEFEF}Pytanie $P_2$ -- zmiana w szybkości pracy anotatorów}                                                                                                        \\\\ \\hline\n",
      "        \\multicolumn{1}{c|}{$W_1$} & \\multicolumn{1}{c|}{-1.74\\%} & \\multicolumn{1}{c|}{+19.78\\%} & \\multicolumn{1}{c|}{+41.08\\%} & \\multicolumn{1}{c|}{0.9336} & 0.26 \\\\ \\hline\\multicolumn{1}{c|}{$W_2$} & \\multicolumn{1}{c|}{-33.20\\%} & \\multicolumn{1}{c|}{-8.42\\%} & \\multicolumn{1}{c|}{+16.58\\%} & \\multicolumn{1}{c|}{0.2848} & -0.17 \\\\ \\hline\\multicolumn{1}{c|}{$W_3$} & \\multicolumn{1}{c|}{-39.00\\%} & \\multicolumn{1}{c|}{-7.91\\%} & \\multicolumn{1}{c|}{+22.82\\%} & \\multicolumn{1}{c|}{0.3402} & -0.14 \\\\ \\hline\n",
      "\\rowcolor[HTML]{EFEFEF} \n",
      "\\multicolumn{6}{c}{\\cellcolor[HTML]{EFEFEF}Pytanie $P_3$ -- zmiana w liczbie wykonanych anotacji}                                                                                                        \\\\ \\hline\n",
      "        \\multicolumn{1}{c|}{$W_1$} & \\multicolumn{1}{c|}{-18.83\\%} & \\multicolumn{1}{c|}{-9.14\\%} & \\multicolumn{1}{c|}{+0.71\\%} & \\multicolumn{1}{c|}{0.0671} & -0.27 \\\\ \\hline\\multicolumn{1}{c|}{$W_2$} & \\multicolumn{1}{c|}{-75.22\\%} & \\multicolumn{1}{c|}{-1.61\\%} & \\multicolumn{1}{c|}{+59.94\\%} & \\multicolumn{1}{c|}{0.5181} & -0.01 \\\\ \\hline\\multicolumn{1}{c|}{$W_3$} & \\multicolumn{1}{c|}{-20.43\\%} & \\multicolumn{1}{c|}{+24.84\\%} & \\multicolumn{1}{c|}{+71.73\\%} & \\multicolumn{1}{c|}{0.8074} & 0.27 \\\\ \\hline\n",
      "\\end{tabular}\n",
      "\\end{table}\n",
      "        \n"
     ]
    }
   ],
   "source": [
    "print(latex_generator.get_results_table(\"mae\"))"
   ]
  },
  {
   "cell_type": "code",
   "execution_count": null,
   "metadata": {},
   "outputs": [],
   "source": []
  }
 ],
 "metadata": {
  "kernelspec": {
   "display_name": "Python 3 (ipykernel)",
   "language": "python",
   "name": "python3"
  },
  "language_info": {
   "codemirror_mode": {
    "name": "ipython",
    "version": 3
   },
   "file_extension": ".py",
   "mimetype": "text/x-python",
   "name": "python",
   "nbconvert_exporter": "python",
   "pygments_lexer": "ipython3",
   "version": "3.10.4"
  }
 },
 "nbformat": 4,
 "nbformat_minor": 4
}
