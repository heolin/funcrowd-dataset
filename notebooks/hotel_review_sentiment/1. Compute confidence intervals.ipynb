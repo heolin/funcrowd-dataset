{
 "cells": [
  {
   "cell_type": "code",
   "execution_count": 1,
   "metadata": {},
   "outputs": [],
   "source": [
    "# general\n",
    "import time\n",
    "import matplotlib.pyplot as plt\n",
    "import pandas as pd\n",
    "import numpy as np\n",
    "import seaborn as sns\n",
    "from pytimeparse.timeparse import timeparse\n",
    "\n",
    "# bootstrapped\n",
    "import bootstrapped.bootstrap as bs\n",
    "import bootstrapped.compare_functions as bs_compare\n",
    "import bootstrapped.stats_functions as bs_stats\n",
    "\n",
    "sns.set()"
   ]
  },
  {
   "cell_type": "code",
   "execution_count": 3,
   "metadata": {},
   "outputs": [],
   "source": [
    "def plot_error_distribution(control_group, test_group, test_group_name, metric='mae', bins=30):\n",
    "    plt.figure(figsize=(10, 6))\n",
    "    bins = np.linspace(\n",
    "        df_user_error[metric].min(),\n",
    "        df_user_error[metric].max(),\n",
    "        bins\n",
    "    )\n",
    "\n",
    "    plt.hist(control_group, bins=bins, label=\"No feedback (control group)\", alpha=0.5)\n",
    "    plt.hist(test_group, bins=bins, label=f\"{test_group_name} (test group)\", color='orange', alpha=0.5)\n",
    "    plt.title('Test/Ctrl Data')\n",
    "    plt.legend()\n",
    "    \n",
    "\n",
    "def get_confidence_intervals(test_group, control_group):\n",
    "    ab = bs.bootstrap_ab(np.array(test_group), np.array(control_group), bs_stats.mean, bs_compare.percent_change)\n",
    "    return ab.value, ab.lower_bound, ab.upper_bound"
   ]
  },
  {
   "cell_type": "code",
   "execution_count": 4,
   "metadata": {},
   "outputs": [],
   "source": [
    "METRICS = [\"me\", \"mae\"]\n",
    "TEST_GROUP_NAMES = ['high quality feedback']"
   ]
  },
  {
   "cell_type": "markdown",
   "metadata": {},
   "source": [
    "# 1. General statistics\n",
    "## 1.1. Read data\n",
    "- Sentiment category score in this task is represented by the nominal categories. Here we will parse those values to numbers to enable easier error computation"
   ]
  },
  {
   "cell_type": "code",
   "execution_count": 5,
   "metadata": {},
   "outputs": [],
   "source": [
    "df = pd.read_csv('../../data/hotel_review_sentiment/hotel_review_sentiment-dataset.csv')\n",
    "df['annotation__time'] = df['annotation__time'].apply(timeparse)"
   ]
  },
  {
   "cell_type": "code",
   "execution_count": 6,
   "metadata": {},
   "outputs": [],
   "source": [
    "df['annotation__output'] = df['annotation__output'].apply(lambda x: float(x.split(' - ')[0]))\n",
    "df['reference__output'] = df['reference__output'].apply(lambda x: float(x.split(' - ')[0]))"
   ]
  },
  {
   "cell_type": "markdown",
   "metadata": {},
   "source": [
    "## 1.2. Statistics\n",
    "### 1.2.1. General\n",
    "#### Warning! The `total_annotation_time` metric is not correct for this dataset due to annotation system malfunction"
   ]
  },
  {
   "cell_type": "code",
   "execution_count": 8,
   "metadata": {},
   "outputs": [
    {
     "data": {
      "text/html": [
       "<div>\n",
       "<style scoped>\n",
       "    .dataframe tbody tr th:only-of-type {\n",
       "        vertical-align: middle;\n",
       "    }\n",
       "\n",
       "    .dataframe tbody tr th {\n",
       "        vertical-align: top;\n",
       "    }\n",
       "\n",
       "    .dataframe thead th {\n",
       "        text-align: right;\n",
       "    }\n",
       "</style>\n",
       "<table border=\"1\" class=\"dataframe\">\n",
       "  <thead>\n",
       "    <tr style=\"text-align: right;\">\n",
       "      <th></th>\n",
       "      <th>value</th>\n",
       "    </tr>\n",
       "    <tr>\n",
       "      <th>metric</th>\n",
       "      <th></th>\n",
       "    </tr>\n",
       "  </thead>\n",
       "  <tbody>\n",
       "    <tr>\n",
       "      <th>total_annotations</th>\n",
       "      <td>6518</td>\n",
       "    </tr>\n",
       "    <tr>\n",
       "      <th>unique_items</th>\n",
       "      <td>1950</td>\n",
       "    </tr>\n",
       "    <tr>\n",
       "      <th>unique_users</th>\n",
       "      <td>126</td>\n",
       "    </tr>\n",
       "    <tr>\n",
       "      <th>total_annotation_time</th>\n",
       "      <td>00h 38m 07s</td>\n",
       "    </tr>\n",
       "  </tbody>\n",
       "</table>\n",
       "</div>"
      ],
      "text/plain": [
       "                             value\n",
       "metric                            \n",
       "total_annotations             6518\n",
       "unique_items                  1950\n",
       "unique_users                   126\n",
       "total_annotation_time  00h 38m 07s"
      ]
     },
     "execution_count": 8,
     "metadata": {},
     "output_type": "execute_result"
    }
   ],
   "source": [
    "pd.DataFrame([\n",
    "    {\n",
    "        \"metric\": \"total_annotations\",\n",
    "        \"value\": len(df)\n",
    "    },\n",
    "    {\n",
    "        \"metric\": \"unique_items\",\n",
    "        \"value\": len(set(df['item_id'].values))\n",
    "    },\n",
    "    {\n",
    "        \"metric\": \"unique_users\",\n",
    "        \"value\": len(set(df['user__id'].values))\n",
    "    },\n",
    "    {\n",
    "        \"metric\": \"total_annotation_time\",\n",
    "        \"value\": time.strftime('%Hh %Mm %Ss', time.gmtime(df['annotation__time'].sum()))\n",
    "    },\n",
    "]).set_index(\"metric\")\n",
    "    "
   ]
  },
  {
   "cell_type": "markdown",
   "metadata": {},
   "source": [
    "### 1.2.2. Annotations per item"
   ]
  },
  {
   "cell_type": "code",
   "execution_count": 9,
   "metadata": {},
   "outputs": [
    {
     "data": {
      "text/html": [
       "<div>\n",
       "<style scoped>\n",
       "    .dataframe tbody tr th:only-of-type {\n",
       "        vertical-align: middle;\n",
       "    }\n",
       "\n",
       "    .dataframe tbody tr th {\n",
       "        vertical-align: top;\n",
       "    }\n",
       "\n",
       "    .dataframe thead th {\n",
       "        text-align: right;\n",
       "    }\n",
       "</style>\n",
       "<table border=\"1\" class=\"dataframe\">\n",
       "  <thead>\n",
       "    <tr style=\"text-align: right;\">\n",
       "      <th></th>\n",
       "      <th>item_id</th>\n",
       "    </tr>\n",
       "  </thead>\n",
       "  <tbody>\n",
       "    <tr>\n",
       "      <th>count</th>\n",
       "      <td>1950.000000</td>\n",
       "    </tr>\n",
       "    <tr>\n",
       "      <th>mean</th>\n",
       "      <td>3.342564</td>\n",
       "    </tr>\n",
       "    <tr>\n",
       "      <th>std</th>\n",
       "      <td>0.707349</td>\n",
       "    </tr>\n",
       "    <tr>\n",
       "      <th>min</th>\n",
       "      <td>2.000000</td>\n",
       "    </tr>\n",
       "    <tr>\n",
       "      <th>25%</th>\n",
       "      <td>3.000000</td>\n",
       "    </tr>\n",
       "    <tr>\n",
       "      <th>50%</th>\n",
       "      <td>3.000000</td>\n",
       "    </tr>\n",
       "    <tr>\n",
       "      <th>75%</th>\n",
       "      <td>4.000000</td>\n",
       "    </tr>\n",
       "    <tr>\n",
       "      <th>max</th>\n",
       "      <td>7.000000</td>\n",
       "    </tr>\n",
       "  </tbody>\n",
       "</table>\n",
       "</div>"
      ],
      "text/plain": [
       "           item_id\n",
       "count  1950.000000\n",
       "mean      3.342564\n",
       "std       0.707349\n",
       "min       2.000000\n",
       "25%       3.000000\n",
       "50%       3.000000\n",
       "75%       4.000000\n",
       "max       7.000000"
      ]
     },
     "execution_count": 9,
     "metadata": {},
     "output_type": "execute_result"
    }
   ],
   "source": [
    "pd.DataFrame(df['item_id'].value_counts().describe())"
   ]
  },
  {
   "cell_type": "markdown",
   "metadata": {},
   "source": [
    "### 1.2.3. Annotations per user"
   ]
  },
  {
   "cell_type": "code",
   "execution_count": 10,
   "metadata": {},
   "outputs": [
    {
     "data": {
      "text/html": [
       "<div>\n",
       "<style scoped>\n",
       "    .dataframe tbody tr th:only-of-type {\n",
       "        vertical-align: middle;\n",
       "    }\n",
       "\n",
       "    .dataframe tbody tr th {\n",
       "        vertical-align: top;\n",
       "    }\n",
       "\n",
       "    .dataframe thead th {\n",
       "        text-align: right;\n",
       "    }\n",
       "</style>\n",
       "<table border=\"1\" class=\"dataframe\">\n",
       "  <thead>\n",
       "    <tr style=\"text-align: right;\">\n",
       "      <th></th>\n",
       "      <th>user__id</th>\n",
       "    </tr>\n",
       "  </thead>\n",
       "  <tbody>\n",
       "    <tr>\n",
       "      <th>count</th>\n",
       "      <td>126.000000</td>\n",
       "    </tr>\n",
       "    <tr>\n",
       "      <th>mean</th>\n",
       "      <td>51.730159</td>\n",
       "    </tr>\n",
       "    <tr>\n",
       "      <th>std</th>\n",
       "      <td>18.690067</td>\n",
       "    </tr>\n",
       "    <tr>\n",
       "      <th>min</th>\n",
       "      <td>11.000000</td>\n",
       "    </tr>\n",
       "    <tr>\n",
       "      <th>25%</th>\n",
       "      <td>50.000000</td>\n",
       "    </tr>\n",
       "    <tr>\n",
       "      <th>50%</th>\n",
       "      <td>50.000000</td>\n",
       "    </tr>\n",
       "    <tr>\n",
       "      <th>75%</th>\n",
       "      <td>50.000000</td>\n",
       "    </tr>\n",
       "    <tr>\n",
       "      <th>max</th>\n",
       "      <td>100.000000</td>\n",
       "    </tr>\n",
       "  </tbody>\n",
       "</table>\n",
       "</div>"
      ],
      "text/plain": [
       "         user__id\n",
       "count  126.000000\n",
       "mean    51.730159\n",
       "std     18.690067\n",
       "min     11.000000\n",
       "25%     50.000000\n",
       "50%     50.000000\n",
       "75%     50.000000\n",
       "max    100.000000"
      ]
     },
     "execution_count": 10,
     "metadata": {},
     "output_type": "execute_result"
    }
   ],
   "source": [
    "pd.DataFrame(df['user__id'].value_counts().describe())"
   ]
  },
  {
   "cell_type": "markdown",
   "metadata": {},
   "source": [
    "## 1.3. Compute user's annotation error metrics\n",
    "- In this section we aggregate the raw result to compute the mean error value per user\n",
    "- Error value is defined using MAE (Mean absolute error) and ME (Mean error) metrics\n",
    "- Mean error is computed for each user in each test_group separately.<br/>\n",
    "This way we can check how each user did in each test conditions"
   ]
  },
  {
   "cell_type": "code",
   "execution_count": 64,
   "metadata": {},
   "outputs": [],
   "source": [
    "data = []\n",
    "for (test_group, user_feedback, user_id), group in df.groupby(['test_group', 'user__feedback', 'user__id']):\n",
    "    y_true = group['reference__output']\n",
    "    y_pred = group['annotation__output']\n",
    "    \n",
    "    data.append({\n",
    "        'test_group': test_group,\n",
    "        'user__feedback': user_feedback,\n",
    "        'user__id': user_id,\n",
    "        'count': len(group),\n",
    "        \"mae\": (y_true - y_pred).abs().mean(),\n",
    "        \"me\": (y_true - y_pred).mean()\n",
    "    })\n",
    "\n",
    "df_user_error = pd.DataFrame(data)"
   ]
  },
  {
   "cell_type": "code",
   "execution_count": 65,
   "metadata": {},
   "outputs": [
    {
     "data": {
      "text/html": [
       "<div>\n",
       "<style scoped>\n",
       "    .dataframe tbody tr th:only-of-type {\n",
       "        vertical-align: middle;\n",
       "    }\n",
       "\n",
       "    .dataframe tbody tr th {\n",
       "        vertical-align: top;\n",
       "    }\n",
       "\n",
       "    .dataframe thead tr th {\n",
       "        text-align: left;\n",
       "    }\n",
       "\n",
       "    .dataframe thead tr:last-of-type th {\n",
       "        text-align: right;\n",
       "    }\n",
       "</style>\n",
       "<table border=\"1\" class=\"dataframe\">\n",
       "  <thead>\n",
       "    <tr>\n",
       "      <th></th>\n",
       "      <th></th>\n",
       "      <th></th>\n",
       "      <th colspan=\"2\" halign=\"left\">me</th>\n",
       "      <th colspan=\"2\" halign=\"left\">mae</th>\n",
       "    </tr>\n",
       "    <tr>\n",
       "      <th></th>\n",
       "      <th></th>\n",
       "      <th></th>\n",
       "      <th>mean</th>\n",
       "      <th>std</th>\n",
       "      <th>mean</th>\n",
       "      <th>std</th>\n",
       "    </tr>\n",
       "    <tr>\n",
       "      <th>test_group</th>\n",
       "      <th>user__feedback</th>\n",
       "      <th>users_count</th>\n",
       "      <th></th>\n",
       "      <th></th>\n",
       "      <th></th>\n",
       "      <th></th>\n",
       "    </tr>\n",
       "  </thead>\n",
       "  <tbody>\n",
       "    <tr>\n",
       "      <th rowspan=\"2\" valign=\"top\">high quality feedback</th>\n",
       "      <th>False</th>\n",
       "      <th>59</th>\n",
       "      <td>-0.340000</td>\n",
       "      <td>0.554297</td>\n",
       "      <td>1.220823</td>\n",
       "      <td>0.376707</td>\n",
       "    </tr>\n",
       "    <tr>\n",
       "      <th>True</th>\n",
       "      <th>67</th>\n",
       "      <td>-0.226432</td>\n",
       "      <td>0.390986</td>\n",
       "      <td>1.233048</td>\n",
       "      <td>0.402071</td>\n",
       "    </tr>\n",
       "  </tbody>\n",
       "</table>\n",
       "</div>"
      ],
      "text/plain": [
       "                                                        me            \\\n",
       "                                                      mean       std   \n",
       "test_group            user__feedback users_count                       \n",
       "high quality feedback False          59          -0.340000  0.554297   \n",
       "                      True           67          -0.226432  0.390986   \n",
       "\n",
       "                                                       mae            \n",
       "                                                      mean       std  \n",
       "test_group            user__feedback users_count                      \n",
       "high quality feedback False          59           1.220823  0.376707  \n",
       "                      True           67           1.233048  0.402071  "
      ]
     },
     "execution_count": 65,
     "metadata": {},
     "output_type": "execute_result"
    }
   ],
   "source": [
    "pd.merge(\n",
    "    df_user_error,\n",
    "    df_user_error.groupby(\n",
    "        ['test_group', 'user__feedback']\n",
    "    )['user__id'].count().to_frame('users_count'),\n",
    "    on=['test_group', 'user__feedback']\n",
    ").groupby(\n",
    "    ['test_group', 'user__feedback', 'users_count']\n",
    ")[METRICS].aggregate(['mean', 'std'])"
   ]
  },
  {
   "cell_type": "markdown",
   "metadata": {},
   "source": [
    "## 1.3. Error distribution for control group and high quality feedback test group\n",
    "Below you can see a plot showing a error distribution difference for the control group and the test group with the high quality feedback\n",
    "\n",
    "### 1.3.1. Histogram"
   ]
  },
  {
   "cell_type": "code",
   "execution_count": 71,
   "metadata": {},
   "outputs": [],
   "source": [
    "test_group_name = \"high quality feedback\"\n",
    "\n",
    "control_group = df_user_error[\n",
    "    (df_user_error['test_group'] == \"high quality feedback\") &\n",
    "    (df_user_error['user__feedback'] == False)\n",
    "]['mae']\n",
    "    \n",
    "test_group = df_user_error[\n",
    "    (df_user_error['test_group'] == test_group_name) &\n",
    "    (df_user_error['user__feedback'] == True)\n",
    "]['mae']"
   ]
  },
  {
   "cell_type": "code",
   "execution_count": 72,
   "metadata": {},
   "outputs": [
    {
     "data": {
      "image/png": "[encoded data removed]",
      "text/plain": [
       "<Figure size 720x432 with 1 Axes>"
      ]
     },
     "metadata": {},
     "output_type": "display_data"
    }
   ],
   "source": [
    "plot_error_distribution(control_group, test_group, test_group_name)"
   ]
  },
  {
   "cell_type": "markdown",
   "metadata": {},
   "source": [
    "### 1.3.2. Boxplot"
   ]
  },
  {
   "cell_type": "code",
   "execution_count": 80,
   "metadata": {},
   "outputs": [],
   "source": [
    "_df = df_user_error.copy()\n",
    "_df.loc[_df['user__feedback'] == False, 'test_group'] = \"control group\""
   ]
  },
  {
   "cell_type": "code",
   "execution_count": 81,
   "metadata": {},
   "outputs": [
    {
     "data": {
      "text/plain": [
       "<AxesSubplot:title={'center':'Distribution of MAE between test groups'}, xlabel='test_group', ylabel='mae'>"
      ]
     },
     "execution_count": 81,
     "metadata": {},
     "output_type": "execute_result"
    },
    {
     "data": {
      "image/png": "[encoded data removed]",
      "text/plain": [
       "<Figure size 720x432 with 1 Axes>"
      ]
     },
     "metadata": {},
     "output_type": "display_data"
    }
   ],
   "source": [
    "plt.figure(figsize=(10, 6))\n",
    "plt.title(\"Distribution of MAE between test groups\")\n",
    "sns.boxplot(x='test_group', y='mae', data=_df, order=[\"control group\"] + TEST_GROUP_NAMES)"
   ]
  },
  {
   "cell_type": "markdown",
   "metadata": {},
   "source": [
    "# 2. Confidence intervals\n",
    "## 2.1. Compute confidence intervals for test groups\n",
    "In this section we compute the confidence intervals for the percentage error reduction between the control group and each of the test groups."
   ]
  },
  {
   "cell_type": "code",
   "execution_count": 78,
   "metadata": {},
   "outputs": [
    {
     "data": {
      "text/html": [
       "<div>\n",
       "<style scoped>\n",
       "    .dataframe tbody tr th:only-of-type {\n",
       "        vertical-align: middle;\n",
       "    }\n",
       "\n",
       "    .dataframe tbody tr th {\n",
       "        vertical-align: top;\n",
       "    }\n",
       "\n",
       "    .dataframe thead th {\n",
       "        text-align: right;\n",
       "    }\n",
       "</style>\n",
       "<table border=\"1\" class=\"dataframe\">\n",
       "  <thead>\n",
       "    <tr style=\"text-align: right;\">\n",
       "      <th></th>\n",
       "      <th>test_group_name</th>\n",
       "      <th>metric</th>\n",
       "      <th>lower_bound</th>\n",
       "      <th>mean</th>\n",
       "      <th>upper_bound</th>\n",
       "    </tr>\n",
       "  </thead>\n",
       "  <tbody>\n",
       "    <tr>\n",
       "      <th>0</th>\n",
       "      <td>high quality feedback</td>\n",
       "      <td>me</td>\n",
       "      <td>-90.548310</td>\n",
       "      <td>-33.402479</td>\n",
       "      <td>-2.679896</td>\n",
       "    </tr>\n",
       "    <tr>\n",
       "      <th>1</th>\n",
       "      <td>high quality feedback</td>\n",
       "      <td>mae</td>\n",
       "      <td>-10.606502</td>\n",
       "      <td>1.001318</td>\n",
       "      <td>11.339026</td>\n",
       "    </tr>\n",
       "  </tbody>\n",
       "</table>\n",
       "</div>"
      ],
      "text/plain": [
       "         test_group_name metric  lower_bound       mean  upper_bound\n",
       "0  high quality feedback     me   -90.548310 -33.402479    -2.679896\n",
       "1  high quality feedback    mae   -10.606502   1.001318    11.339026"
      ]
     },
     "execution_count": 78,
     "metadata": {},
     "output_type": "execute_result"
    }
   ],
   "source": [
    "data = []\n",
    "\n",
    "for metric in METRICS:\n",
    "    control_group = df_user_error[\n",
    "        (df_user_error['test_group'] == \"high quality feedback\") &\n",
    "        (df_user_error['user__feedback'] == False)\n",
    "    ][metric]\n",
    "    \n",
    "    for test_group_name in TEST_GROUP_NAMES:\n",
    "        test_group = df_user_error[\n",
    "            (df_user_error['test_group'] == test_group_name) &\n",
    "            (df_user_error['user__feedback'] == True)\n",
    "        ][metric]\n",
    "        mean, lower_bound, upper_bound = get_confidence_intervals(test_group, control_group)\n",
    "\n",
    "        data.append({\n",
    "            \"test_group_name\": test_group_name,\n",
    "            \"metric\": metric,\n",
    "            \"lower_bound\": lower_bound,\n",
    "            \"mean\": mean,\n",
    "            \"upper_bound\": upper_bound\n",
    "        })\n",
    "\n",
    "pd.DataFrame(data)"
   ]
  }
 ],
 "metadata": {
  "kernelspec": {
   "display_name": "Python 3",
   "language": "python",
   "name": "python3"
  },
  "language_info": {
   "codemirror_mode": {
    "name": "ipython",
    "version": 3
   },
   "file_extension": ".py",
   "mimetype": "text/x-python",
   "name": "python",
   "nbconvert_exporter": "python",
   "pygments_lexer": "ipython3",
   "version": "3.6.9"
  }
 },
 "nbformat": 4,
 "nbformat_minor": 4
}
