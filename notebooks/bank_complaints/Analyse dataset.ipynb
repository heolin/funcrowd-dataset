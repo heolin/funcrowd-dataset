{
 "cells": [
  {
   "cell_type": "code",
   "execution_count": 1,
   "metadata": {},
   "outputs": [],
   "source": [
    "import sys\n",
    "sys.path.insert(0, '../..')\n",
    "\n",
    "# general\n",
    "import ast\n",
    "import pandas as pd\n",
    "import seaborn as sns\n",
    "import matplotlib.pyplot as plt\n",
    "import warnings\n",
    "\n",
    "sns.set()\n",
    "warnings.filterwarnings(\"ignore\")\n",
    "\n",
    "# local\n",
    "from sklearn_crfsuite import metrics\n",
    "from core.stats import Statistics\n",
    "from core.utils import load_dataset, format_number\n",
    "from core.plots import plot_histogram, plot_learning_curve\n",
    "from core.learning import LearningAnalyser\n",
    "from core.reports import (\n",
    "    compute_user_error,\n",
    "    generate_comparison_report,\n",
    "    generate_test_groups_comparison_report,\n",
    "    generate_learning_report\n",
    ")\n",
    "from core.dataset import DatasetAnalyser, DatasetGroup\n",
    "\n",
    "from sklearn.metrics import (\n",
    "    accuracy_score, precision_score, recall_score, f1_score\n",
    ")\n",
    "\n",
    "from core.latex import create_latex_tables_generator\n",
    "\n",
    "import numpy as np\n",
    "np.random.seed(3453562)"
   ]
  },
  {
   "cell_type": "markdown",
   "metadata": {},
   "source": [
    "# 1. General statistics\n",
    "## 1.1. Read data"
   ]
  },
  {
   "cell_type": "code",
   "execution_count": 2,
   "metadata": {},
   "outputs": [],
   "source": [
    "df = load_dataset('../../data/bank_complaints/bank_complaints-dataset.csv')"
   ]
  },
  {
   "cell_type": "markdown",
   "metadata": {},
   "source": [
    "## 1.2. Statistics"
   ]
  },
  {
   "cell_type": "code",
   "execution_count": 3,
   "metadata": {},
   "outputs": [],
   "source": [
    "stats = Statistics(df)"
   ]
  },
  {
   "cell_type": "markdown",
   "metadata": {},
   "source": [
    "### 1.2.1. General"
   ]
  },
  {
   "cell_type": "code",
   "execution_count": 4,
   "metadata": {},
   "outputs": [
    {
     "data": {
      "text/html": [
       "<div>\n",
       "<style scoped>\n",
       "    .dataframe tbody tr th:only-of-type {\n",
       "        vertical-align: middle;\n",
       "    }\n",
       "\n",
       "    .dataframe tbody tr th {\n",
       "        vertical-align: top;\n",
       "    }\n",
       "\n",
       "    .dataframe thead th {\n",
       "        text-align: right;\n",
       "    }\n",
       "</style>\n",
       "<table border=\"1\" class=\"dataframe\">\n",
       "  <thead>\n",
       "    <tr style=\"text-align: right;\">\n",
       "      <th></th>\n",
       "      <th>value</th>\n",
       "    </tr>\n",
       "    <tr>\n",
       "      <th>metric</th>\n",
       "      <th></th>\n",
       "    </tr>\n",
       "  </thead>\n",
       "  <tbody>\n",
       "    <tr>\n",
       "      <th>total_annotations</th>\n",
       "      <td>9415</td>\n",
       "    </tr>\n",
       "    <tr>\n",
       "      <th>unique_items</th>\n",
       "      <td>1986</td>\n",
       "    </tr>\n",
       "    <tr>\n",
       "      <th>unique_users</th>\n",
       "      <td>145</td>\n",
       "    </tr>\n",
       "    <tr>\n",
       "      <th>total_annotation_time</th>\n",
       "      <td>02h 36m 19s</td>\n",
       "    </tr>\n",
       "  </tbody>\n",
       "</table>\n",
       "</div>"
      ],
      "text/plain": [
       "                             value\n",
       "metric                            \n",
       "total_annotations             9415\n",
       "unique_items                  1986\n",
       "unique_users                   145\n",
       "total_annotation_time  02h 36m 19s"
      ]
     },
     "execution_count": 4,
     "metadata": {},
     "output_type": "execute_result"
    }
   ],
   "source": [
    "stats.general"
   ]
  },
  {
   "cell_type": "markdown",
   "metadata": {},
   "source": [
    "### 1.2.2. Annotations per item"
   ]
  },
  {
   "cell_type": "code",
   "execution_count": 5,
   "metadata": {
    "scrolled": true
   },
   "outputs": [
    {
     "data": {
      "text/html": [
       "<div>\n",
       "<style scoped>\n",
       "    .dataframe tbody tr th:only-of-type {\n",
       "        vertical-align: middle;\n",
       "    }\n",
       "\n",
       "    .dataframe tbody tr th {\n",
       "        vertical-align: top;\n",
       "    }\n",
       "\n",
       "    .dataframe thead th {\n",
       "        text-align: right;\n",
       "    }\n",
       "</style>\n",
       "<table border=\"1\" class=\"dataframe\">\n",
       "  <thead>\n",
       "    <tr style=\"text-align: right;\">\n",
       "      <th></th>\n",
       "      <th>data__item_id</th>\n",
       "    </tr>\n",
       "  </thead>\n",
       "  <tbody>\n",
       "    <tr>\n",
       "      <th>count</th>\n",
       "      <td>1986.000000</td>\n",
       "    </tr>\n",
       "    <tr>\n",
       "      <th>mean</th>\n",
       "      <td>4.740685</td>\n",
       "    </tr>\n",
       "    <tr>\n",
       "      <th>std</th>\n",
       "      <td>1.825850</td>\n",
       "    </tr>\n",
       "    <tr>\n",
       "      <th>min</th>\n",
       "      <td>1.000000</td>\n",
       "    </tr>\n",
       "    <tr>\n",
       "      <th>25%</th>\n",
       "      <td>3.000000</td>\n",
       "    </tr>\n",
       "    <tr>\n",
       "      <th>50%</th>\n",
       "      <td>5.000000</td>\n",
       "    </tr>\n",
       "    <tr>\n",
       "      <th>75%</th>\n",
       "      <td>6.000000</td>\n",
       "    </tr>\n",
       "    <tr>\n",
       "      <th>max</th>\n",
       "      <td>11.000000</td>\n",
       "    </tr>\n",
       "  </tbody>\n",
       "</table>\n",
       "</div>"
      ],
      "text/plain": [
       "       data__item_id\n",
       "count    1986.000000\n",
       "mean        4.740685\n",
       "std         1.825850\n",
       "min         1.000000\n",
       "25%         3.000000\n",
       "50%         5.000000\n",
       "75%         6.000000\n",
       "max        11.000000"
      ]
     },
     "execution_count": 5,
     "metadata": {},
     "output_type": "execute_result"
    }
   ],
   "source": [
    "stats.annotations_per_item"
   ]
  },
  {
   "cell_type": "markdown",
   "metadata": {},
   "source": [
    "### 1.2.3. Annotations per user"
   ]
  },
  {
   "cell_type": "code",
   "execution_count": 6,
   "metadata": {},
   "outputs": [
    {
     "data": {
      "text/html": [
       "<div>\n",
       "<style scoped>\n",
       "    .dataframe tbody tr th:only-of-type {\n",
       "        vertical-align: middle;\n",
       "    }\n",
       "\n",
       "    .dataframe tbody tr th {\n",
       "        vertical-align: top;\n",
       "    }\n",
       "\n",
       "    .dataframe thead th {\n",
       "        text-align: right;\n",
       "    }\n",
       "</style>\n",
       "<table border=\"1\" class=\"dataframe\">\n",
       "  <thead>\n",
       "    <tr style=\"text-align: right;\">\n",
       "      <th></th>\n",
       "      <th>user__id</th>\n",
       "    </tr>\n",
       "  </thead>\n",
       "  <tbody>\n",
       "    <tr>\n",
       "      <th>count</th>\n",
       "      <td>145.000000</td>\n",
       "    </tr>\n",
       "    <tr>\n",
       "      <th>mean</th>\n",
       "      <td>64.931034</td>\n",
       "    </tr>\n",
       "    <tr>\n",
       "      <th>std</th>\n",
       "      <td>55.546609</td>\n",
       "    </tr>\n",
       "    <tr>\n",
       "      <th>min</th>\n",
       "      <td>11.000000</td>\n",
       "    </tr>\n",
       "    <tr>\n",
       "      <th>25%</th>\n",
       "      <td>50.000000</td>\n",
       "    </tr>\n",
       "    <tr>\n",
       "      <th>50%</th>\n",
       "      <td>50.000000</td>\n",
       "    </tr>\n",
       "    <tr>\n",
       "      <th>75%</th>\n",
       "      <td>50.000000</td>\n",
       "    </tr>\n",
       "    <tr>\n",
       "      <th>max</th>\n",
       "      <td>450.000000</td>\n",
       "    </tr>\n",
       "  </tbody>\n",
       "</table>\n",
       "</div>"
      ],
      "text/plain": [
       "         user__id\n",
       "count  145.000000\n",
       "mean    64.931034\n",
       "std     55.546609\n",
       "min     11.000000\n",
       "25%     50.000000\n",
       "50%     50.000000\n",
       "75%     50.000000\n",
       "max    450.000000"
      ]
     },
     "execution_count": 6,
     "metadata": {},
     "output_type": "execute_result"
    }
   ],
   "source": [
    "stats.annotations_per_user"
   ]
  },
  {
   "cell_type": "markdown",
   "metadata": {},
   "source": [
    "### 1.2.4. Average annotation time over time"
   ]
  },
  {
   "cell_type": "code",
   "execution_count": 7,
   "metadata": {},
   "outputs": [
    {
     "data": {
      "text/html": [
       "<div>\n",
       "<style scoped>\n",
       "    .dataframe tbody tr th:only-of-type {\n",
       "        vertical-align: middle;\n",
       "    }\n",
       "\n",
       "    .dataframe tbody tr th {\n",
       "        vertical-align: top;\n",
       "    }\n",
       "\n",
       "    .dataframe thead th {\n",
       "        text-align: right;\n",
       "    }\n",
       "</style>\n",
       "<table border=\"1\" class=\"dataframe\">\n",
       "  <thead>\n",
       "    <tr style=\"text-align: right;\">\n",
       "      <th></th>\n",
       "      <th>value</th>\n",
       "    </tr>\n",
       "    <tr>\n",
       "      <th>index</th>\n",
       "      <th></th>\n",
       "    </tr>\n",
       "  </thead>\n",
       "  <tbody>\n",
       "    <tr>\n",
       "      <th>10</th>\n",
       "      <td>13.248470</td>\n",
       "    </tr>\n",
       "    <tr>\n",
       "      <th>20</th>\n",
       "      <td>11.315549</td>\n",
       "    </tr>\n",
       "    <tr>\n",
       "      <th>30</th>\n",
       "      <td>10.765567</td>\n",
       "    </tr>\n",
       "    <tr>\n",
       "      <th>40</th>\n",
       "      <td>10.070734</td>\n",
       "    </tr>\n",
       "    <tr>\n",
       "      <th>60</th>\n",
       "      <td>12.055744</td>\n",
       "    </tr>\n",
       "    <tr>\n",
       "      <th>70</th>\n",
       "      <td>8.783930</td>\n",
       "    </tr>\n",
       "    <tr>\n",
       "      <th>80</th>\n",
       "      <td>9.137001</td>\n",
       "    </tr>\n",
       "    <tr>\n",
       "      <th>90</th>\n",
       "      <td>8.394636</td>\n",
       "    </tr>\n",
       "  </tbody>\n",
       "</table>\n",
       "</div>"
      ],
      "text/plain": [
       "           value\n",
       "index           \n",
       "10     13.248470\n",
       "20     11.315549\n",
       "30     10.765567\n",
       "40     10.070734\n",
       "60     12.055744\n",
       "70      8.783930\n",
       "80      9.137001\n",
       "90      8.394636"
      ]
     },
     "execution_count": 7,
     "metadata": {},
     "output_type": "execute_result"
    },
    {
     "data": {
      "image/png": "[encoded data removed]",
      "text/plain": [
       "<Figure size 1000x500 with 1 Axes>"
      ]
     },
     "metadata": {},
     "output_type": "display_data"
    }
   ],
   "source": [
    "plt.figure(figsize=(10, 5))\n",
    "plt.title(\"Average time of annotation over time\", fontsize=16)\n",
    "df_times = stats.average_time_per_annotation\n",
    "df_times['value'].plot()\n",
    "df_times[df_times.index % 10 == 0]"
   ]
  },
  {
   "cell_type": "markdown",
   "metadata": {},
   "source": [
    "# 2. Confidence intervals\n",
    "## 2.1. Compute user's annotation quality metrics\n",
    "- In this section we aggregate the raw result to compute the quality metrics value per user\n",
    "- To measure the quality of user's annotation we use: accuracy, recall, f1 and precision metrics\n",
    "- Mean error is computed for each user in each test_group separately.<br/>\n",
    "This way we can check how each user did in each test conditions"
   ]
  },
  {
   "cell_type": "code",
   "execution_count": 8,
   "metadata": {},
   "outputs": [],
   "source": [
    "METRICS_COLUMNS = [\"f1\", \"precision\", \"recall\", \"annotation_time\", \"count\"]\n",
    "LABELS = [\"Geopolitical\", \"Geographical\", \"Organization\", \"Time\", \"Person\"]"
   ]
  },
  {
   "cell_type": "code",
   "execution_count": 9,
   "metadata": {},
   "outputs": [],
   "source": [
    "def metrics_function(y_true: pd.Series, y_pred: pd.Series):\n",
    "    return {\n",
    "        'precision': precision_score(y_true, y_pred, average='macro'),\n",
    "        'recall': recall_score(y_true, y_pred, average='macro'),\n",
    "        'f1': f1_score(y_true, y_pred, average='macro'),\n",
    "        'accuracy': accuracy_score(y_true, y_pred),\n",
    "    }\n",
    "  \n",
    "    \n",
    "df_user_error = compute_user_error(df, metrics_function)"
   ]
  },
  {
   "cell_type": "markdown",
   "metadata": {},
   "source": [
    "## 2.2. Compute confidence intervals for test groups\n",
    "In this section we compute the confidence intervals for the percentage quality change between the control group and each of the test groups."
   ]
  },
  {
   "cell_type": "code",
   "execution_count": 10,
   "metadata": {},
   "outputs": [],
   "source": [
    "dataset = DatasetAnalyser(df_user_error, METRICS_COLUMNS)"
   ]
  },
  {
   "cell_type": "markdown",
   "metadata": {},
   "source": [
    "### 2.2.1. Compering: test groups vs control group"
   ]
  },
  {
   "cell_type": "code",
   "execution_count": 11,
   "metadata": {},
   "outputs": [],
   "source": [
    "df_ci_h1, df_percentage_ci_h1, df_p_value_h1, df_cohen_d_h1 = generate_comparison_report(dataset)"
   ]
  },
  {
   "cell_type": "markdown",
   "metadata": {},
   "source": [
    "#### Confidence intervals"
   ]
  },
  {
   "cell_type": "code",
   "execution_count": 12,
   "metadata": {},
   "outputs": [
    {
     "data": {
      "text/html": [
       "<div>\n",
       "<style scoped>\n",
       "    .dataframe tbody tr th:only-of-type {\n",
       "        vertical-align: middle;\n",
       "    }\n",
       "\n",
       "    .dataframe tbody tr th {\n",
       "        vertical-align: top;\n",
       "    }\n",
       "\n",
       "    .dataframe thead th {\n",
       "        text-align: right;\n",
       "    }\n",
       "</style>\n",
       "<table border=\"1\" class=\"dataframe\">\n",
       "  <thead>\n",
       "    <tr style=\"text-align: right;\">\n",
       "      <th></th>\n",
       "      <th></th>\n",
       "      <th>f1</th>\n",
       "      <th>precision</th>\n",
       "      <th>recall</th>\n",
       "      <th>annotation_time</th>\n",
       "      <th>count</th>\n",
       "    </tr>\n",
       "    <tr>\n",
       "      <th>group_name</th>\n",
       "      <th>quantile</th>\n",
       "      <th></th>\n",
       "      <th></th>\n",
       "      <th></th>\n",
       "      <th></th>\n",
       "      <th></th>\n",
       "    </tr>\n",
       "  </thead>\n",
       "  <tbody>\n",
       "    <tr>\n",
       "      <th rowspan=\"3\" valign=\"top\">high quality feedback</th>\n",
       "      <th>0.05</th>\n",
       "      <td>0.007135</td>\n",
       "      <td>-0.024183</td>\n",
       "      <td>-0.005597</td>\n",
       "      <td>-1.439203</td>\n",
       "      <td>-6.142039</td>\n",
       "    </tr>\n",
       "    <tr>\n",
       "      <th>0.5</th>\n",
       "      <td>0.043133</td>\n",
       "      <td>0.018938</td>\n",
       "      <td>0.029021</td>\n",
       "      <td>0.454726</td>\n",
       "      <td>5.955690</td>\n",
       "    </tr>\n",
       "    <tr>\n",
       "      <th>0.95</th>\n",
       "      <td>0.081295</td>\n",
       "      <td>0.063468</td>\n",
       "      <td>0.066988</td>\n",
       "      <td>2.467519</td>\n",
       "      <td>19.275913</td>\n",
       "    </tr>\n",
       "    <tr>\n",
       "      <th rowspan=\"3\" valign=\"top\">low quality feedback</th>\n",
       "      <th>0.05</th>\n",
       "      <td>-0.125873</td>\n",
       "      <td>-0.138757</td>\n",
       "      <td>-0.117883</td>\n",
       "      <td>-8.557450</td>\n",
       "      <td>-4.666667</td>\n",
       "    </tr>\n",
       "    <tr>\n",
       "      <th>0.5</th>\n",
       "      <td>-0.010265</td>\n",
       "      <td>-0.023811</td>\n",
       "      <td>0.000734</td>\n",
       "      <td>-5.713233</td>\n",
       "      <td>11.532444</td>\n",
       "    </tr>\n",
       "    <tr>\n",
       "      <th>0.95</th>\n",
       "      <td>0.101920</td>\n",
       "      <td>0.083177</td>\n",
       "      <td>0.117430</td>\n",
       "      <td>-2.889403</td>\n",
       "      <td>28.011667</td>\n",
       "    </tr>\n",
       "    <tr>\n",
       "      <th rowspan=\"3\" valign=\"top\">medium quality feedback</th>\n",
       "      <th>0.05</th>\n",
       "      <td>-0.041986</td>\n",
       "      <td>-0.059485</td>\n",
       "      <td>-0.051199</td>\n",
       "      <td>-4.515635</td>\n",
       "      <td>-26.400000</td>\n",
       "    </tr>\n",
       "    <tr>\n",
       "      <th>0.5</th>\n",
       "      <td>0.022868</td>\n",
       "      <td>0.011128</td>\n",
       "      <td>0.018099</td>\n",
       "      <td>-0.713144</td>\n",
       "      <td>17.714667</td>\n",
       "    </tr>\n",
       "    <tr>\n",
       "      <th>0.95</th>\n",
       "      <td>0.091904</td>\n",
       "      <td>0.084636</td>\n",
       "      <td>0.092905</td>\n",
       "      <td>2.791375</td>\n",
       "      <td>58.470000</td>\n",
       "    </tr>\n",
       "  </tbody>\n",
       "</table>\n",
       "</div>"
      ],
      "text/plain": [
       "                                        f1  precision    recall  \\\n",
       "group_name              quantile                                  \n",
       "high quality feedback   0.05      0.007135  -0.024183 -0.005597   \n",
       "                        0.5       0.043133   0.018938  0.029021   \n",
       "                        0.95      0.081295   0.063468  0.066988   \n",
       "low quality feedback    0.05     -0.125873  -0.138757 -0.117883   \n",
       "                        0.5      -0.010265  -0.023811  0.000734   \n",
       "                        0.95      0.101920   0.083177  0.117430   \n",
       "medium quality feedback 0.05     -0.041986  -0.059485 -0.051199   \n",
       "                        0.5       0.022868   0.011128  0.018099   \n",
       "                        0.95      0.091904   0.084636  0.092905   \n",
       "\n",
       "                                  annotation_time      count  \n",
       "group_name              quantile                              \n",
       "high quality feedback   0.05            -1.439203  -6.142039  \n",
       "                        0.5              0.454726   5.955690  \n",
       "                        0.95             2.467519  19.275913  \n",
       "low quality feedback    0.05            -8.557450  -4.666667  \n",
       "                        0.5             -5.713233  11.532444  \n",
       "                        0.95            -2.889403  28.011667  \n",
       "medium quality feedback 0.05            -4.515635 -26.400000  \n",
       "                        0.5             -0.713144  17.714667  \n",
       "                        0.95             2.791375  58.470000  "
      ]
     },
     "execution_count": 12,
     "metadata": {},
     "output_type": "execute_result"
    }
   ],
   "source": [
    "df_ci_h1"
   ]
  },
  {
   "cell_type": "markdown",
   "metadata": {},
   "source": [
    "#### Percentage confidence intervals"
   ]
  },
  {
   "cell_type": "code",
   "execution_count": 13,
   "metadata": {},
   "outputs": [
    {
     "data": {
      "text/html": [
       "<div>\n",
       "<style scoped>\n",
       "    .dataframe tbody tr th:only-of-type {\n",
       "        vertical-align: middle;\n",
       "    }\n",
       "\n",
       "    .dataframe tbody tr th {\n",
       "        vertical-align: top;\n",
       "    }\n",
       "\n",
       "    .dataframe thead th {\n",
       "        text-align: right;\n",
       "    }\n",
       "</style>\n",
       "<table border=\"1\" class=\"dataframe\">\n",
       "  <thead>\n",
       "    <tr style=\"text-align: right;\">\n",
       "      <th></th>\n",
       "      <th></th>\n",
       "      <th>f1</th>\n",
       "      <th>precision</th>\n",
       "      <th>recall</th>\n",
       "      <th>annotation_time</th>\n",
       "      <th>count</th>\n",
       "    </tr>\n",
       "    <tr>\n",
       "      <th>group_name</th>\n",
       "      <th>quantile</th>\n",
       "      <th></th>\n",
       "      <th></th>\n",
       "      <th></th>\n",
       "      <th></th>\n",
       "      <th></th>\n",
       "    </tr>\n",
       "  </thead>\n",
       "  <tbody>\n",
       "    <tr>\n",
       "      <th rowspan=\"3\" valign=\"top\">high quality feedback</th>\n",
       "      <th>0.05</th>\n",
       "      <td>0.036093</td>\n",
       "      <td>-0.101409</td>\n",
       "      <td>-0.025440</td>\n",
       "      <td>-0.127661</td>\n",
       "      <td>-0.105583</td>\n",
       "    </tr>\n",
       "    <tr>\n",
       "      <th>0.5</th>\n",
       "      <td>0.218179</td>\n",
       "      <td>0.079413</td>\n",
       "      <td>0.131908</td>\n",
       "      <td>0.040335</td>\n",
       "      <td>0.102380</td>\n",
       "    </tr>\n",
       "    <tr>\n",
       "      <th>0.95</th>\n",
       "      <td>0.411216</td>\n",
       "      <td>0.266144</td>\n",
       "      <td>0.304478</td>\n",
       "      <td>0.218874</td>\n",
       "      <td>0.331358</td>\n",
       "    </tr>\n",
       "    <tr>\n",
       "      <th rowspan=\"3\" valign=\"top\">low quality feedback</th>\n",
       "      <th>0.05</th>\n",
       "      <td>-0.292453</td>\n",
       "      <td>-0.294584</td>\n",
       "      <td>-0.271065</td>\n",
       "      <td>-0.571705</td>\n",
       "      <td>-0.092105</td>\n",
       "    </tr>\n",
       "    <tr>\n",
       "      <th>0.5</th>\n",
       "      <td>-0.023849</td>\n",
       "      <td>-0.050551</td>\n",
       "      <td>0.001687</td>\n",
       "      <td>-0.381689</td>\n",
       "      <td>0.227614</td>\n",
       "    </tr>\n",
       "    <tr>\n",
       "      <th>0.95</th>\n",
       "      <td>0.236802</td>\n",
       "      <td>0.176587</td>\n",
       "      <td>0.270022</td>\n",
       "      <td>-0.193035</td>\n",
       "      <td>0.552862</td>\n",
       "    </tr>\n",
       "    <tr>\n",
       "      <th rowspan=\"3\" valign=\"top\">medium quality feedback</th>\n",
       "      <th>0.05</th>\n",
       "      <td>-0.149891</td>\n",
       "      <td>-0.196284</td>\n",
       "      <td>-0.171873</td>\n",
       "      <td>-0.407528</td>\n",
       "      <td>-0.451539</td>\n",
       "    </tr>\n",
       "    <tr>\n",
       "      <th>0.5</th>\n",
       "      <td>0.081639</td>\n",
       "      <td>0.036718</td>\n",
       "      <td>0.060759</td>\n",
       "      <td>-0.064360</td>\n",
       "      <td>0.302987</td>\n",
       "    </tr>\n",
       "    <tr>\n",
       "      <th>0.95</th>\n",
       "      <td>0.328096</td>\n",
       "      <td>0.279275</td>\n",
       "      <td>0.311881</td>\n",
       "      <td>0.251916</td>\n",
       "      <td>1.000057</td>\n",
       "    </tr>\n",
       "  </tbody>\n",
       "</table>\n",
       "</div>"
      ],
      "text/plain": [
       "                                        f1  precision    recall  \\\n",
       "group_name              quantile                                  \n",
       "high quality feedback   0.05      0.036093  -0.101409 -0.025440   \n",
       "                        0.5       0.218179   0.079413  0.131908   \n",
       "                        0.95      0.411216   0.266144  0.304478   \n",
       "low quality feedback    0.05     -0.292453  -0.294584 -0.271065   \n",
       "                        0.5      -0.023849  -0.050551  0.001687   \n",
       "                        0.95      0.236802   0.176587  0.270022   \n",
       "medium quality feedback 0.05     -0.149891  -0.196284 -0.171873   \n",
       "                        0.5       0.081639   0.036718  0.060759   \n",
       "                        0.95      0.328096   0.279275  0.311881   \n",
       "\n",
       "                                  annotation_time     count  \n",
       "group_name              quantile                             \n",
       "high quality feedback   0.05            -0.127661 -0.105583  \n",
       "                        0.5              0.040335  0.102380  \n",
       "                        0.95             0.218874  0.331358  \n",
       "low quality feedback    0.05            -0.571705 -0.092105  \n",
       "                        0.5             -0.381689  0.227614  \n",
       "                        0.95            -0.193035  0.552862  \n",
       "medium quality feedback 0.05            -0.407528 -0.451539  \n",
       "                        0.5             -0.064360  0.302987  \n",
       "                        0.95             0.251916  1.000057  "
      ]
     },
     "execution_count": 13,
     "metadata": {},
     "output_type": "execute_result"
    }
   ],
   "source": [
    "df_percentage_ci_h1"
   ]
  },
  {
   "cell_type": "markdown",
   "metadata": {},
   "source": [
    "#### p-value"
   ]
  },
  {
   "cell_type": "code",
   "execution_count": 14,
   "metadata": {},
   "outputs": [
    {
     "data": {
      "text/html": [
       "<div>\n",
       "<style scoped>\n",
       "    .dataframe tbody tr th:only-of-type {\n",
       "        vertical-align: middle;\n",
       "    }\n",
       "\n",
       "    .dataframe tbody tr th {\n",
       "        vertical-align: top;\n",
       "    }\n",
       "\n",
       "    .dataframe thead th {\n",
       "        text-align: right;\n",
       "    }\n",
       "</style>\n",
       "<table border=\"1\" class=\"dataframe\">\n",
       "  <thead>\n",
       "    <tr style=\"text-align: right;\">\n",
       "      <th></th>\n",
       "      <th>f1</th>\n",
       "      <th>precision</th>\n",
       "      <th>recall</th>\n",
       "      <th>annotation_time</th>\n",
       "      <th>count</th>\n",
       "      <th>group_name</th>\n",
       "    </tr>\n",
       "  </thead>\n",
       "  <tbody>\n",
       "    <tr>\n",
       "      <th>0</th>\n",
       "      <td>0.9831</td>\n",
       "      <td>0.7524</td>\n",
       "      <td>0.9053</td>\n",
       "      <td>0.6476</td>\n",
       "      <td>0.7527</td>\n",
       "      <td>high quality feedback</td>\n",
       "    </tr>\n",
       "    <tr>\n",
       "      <th>0</th>\n",
       "      <td>0.4453</td>\n",
       "      <td>0.3684</td>\n",
       "      <td>0.5088</td>\n",
       "      <td>0.0000</td>\n",
       "      <td>0.8749</td>\n",
       "      <td>low quality feedback</td>\n",
       "    </tr>\n",
       "    <tr>\n",
       "      <th>0</th>\n",
       "      <td>0.7048</td>\n",
       "      <td>0.5935</td>\n",
       "      <td>0.6450</td>\n",
       "      <td>0.3930</td>\n",
       "      <td>0.7842</td>\n",
       "      <td>medium quality feedback</td>\n",
       "    </tr>\n",
       "  </tbody>\n",
       "</table>\n",
       "</div>"
      ],
      "text/plain": [
       "       f1  precision  recall  annotation_time   count               group_name\n",
       "0  0.9831     0.7524  0.9053           0.6476  0.7527    high quality feedback\n",
       "0  0.4453     0.3684  0.5088           0.0000  0.8749     low quality feedback\n",
       "0  0.7048     0.5935  0.6450           0.3930  0.7842  medium quality feedback"
      ]
     },
     "execution_count": 14,
     "metadata": {},
     "output_type": "execute_result"
    }
   ],
   "source": [
    "df_p_value_h1"
   ]
  },
  {
   "cell_type": "markdown",
   "metadata": {},
   "source": [
    "#### Cohen's D"
   ]
  },
  {
   "cell_type": "code",
   "execution_count": 15,
   "metadata": {},
   "outputs": [
    {
     "data": {
      "text/html": [
       "<div>\n",
       "<style scoped>\n",
       "    .dataframe tbody tr th:only-of-type {\n",
       "        vertical-align: middle;\n",
       "    }\n",
       "\n",
       "    .dataframe tbody tr th {\n",
       "        vertical-align: top;\n",
       "    }\n",
       "\n",
       "    .dataframe thead th {\n",
       "        text-align: right;\n",
       "    }\n",
       "</style>\n",
       "<table border=\"1\" class=\"dataframe\">\n",
       "  <thead>\n",
       "    <tr style=\"text-align: right;\">\n",
       "      <th></th>\n",
       "      <th>f1</th>\n",
       "      <th>precision</th>\n",
       "      <th>recall</th>\n",
       "      <th>annotation_time</th>\n",
       "      <th>count</th>\n",
       "      <th>group_name</th>\n",
       "    </tr>\n",
       "  </thead>\n",
       "  <tbody>\n",
       "    <tr>\n",
       "      <th>0</th>\n",
       "      <td>0.454470</td>\n",
       "      <td>0.156603</td>\n",
       "      <td>0.313015</td>\n",
       "      <td>0.076561</td>\n",
       "      <td>0.168944</td>\n",
       "      <td>high quality feedback</td>\n",
       "    </tr>\n",
       "    <tr>\n",
       "      <th>0</th>\n",
       "      <td>-0.051811</td>\n",
       "      <td>-0.125377</td>\n",
       "      <td>0.003584</td>\n",
       "      <td>-1.126966</td>\n",
       "      <td>0.375526</td>\n",
       "      <td>low quality feedback</td>\n",
       "    </tr>\n",
       "    <tr>\n",
       "      <th>0</th>\n",
       "      <td>0.194997</td>\n",
       "      <td>0.088147</td>\n",
       "      <td>0.145261</td>\n",
       "      <td>-0.117023</td>\n",
       "      <td>0.262185</td>\n",
       "      <td>medium quality feedback</td>\n",
       "    </tr>\n",
       "  </tbody>\n",
       "</table>\n",
       "</div>"
      ],
      "text/plain": [
       "         f1  precision    recall  annotation_time     count  \\\n",
       "0  0.454470   0.156603  0.313015         0.076561  0.168944   \n",
       "0 -0.051811  -0.125377  0.003584        -1.126966  0.375526   \n",
       "0  0.194997   0.088147  0.145261        -0.117023  0.262185   \n",
       "\n",
       "                group_name  \n",
       "0    high quality feedback  \n",
       "0     low quality feedback  \n",
       "0  medium quality feedback  "
      ]
     },
     "execution_count": 15,
     "metadata": {},
     "output_type": "execute_result"
    }
   ],
   "source": [
    "df_cohen_d_h1"
   ]
  },
  {
   "cell_type": "markdown",
   "metadata": {},
   "source": [
    "#### Ploting histograms for the difference: test groups vs control group"
   ]
  },
  {
   "cell_type": "code",
   "execution_count": 16,
   "metadata": {
    "scrolled": false
   },
   "outputs": [
    {
     "data": {
      "image/png": "[encoded data removed]",
      "text/plain": [
       "<Figure size 1200x800 with 3 Axes>"
      ]
     },
     "metadata": {},
     "output_type": "display_data"
    }
   ],
   "source": [
    "metric_index = 0\n",
    "plot_histogram(dataset, metric_index)"
   ]
  },
  {
   "cell_type": "markdown",
   "metadata": {},
   "source": [
    "### 2.2.2. Comparing: test groups with each other"
   ]
  },
  {
   "cell_type": "code",
   "execution_count": 17,
   "metadata": {},
   "outputs": [],
   "source": [
    "df_ci_h2, df_p_value_h2, df_cohen_d_h2 = generate_test_groups_comparison_report(dataset)"
   ]
  },
  {
   "cell_type": "markdown",
   "metadata": {},
   "source": [
    "#### Confidence interval"
   ]
  },
  {
   "cell_type": "code",
   "execution_count": 18,
   "metadata": {},
   "outputs": [
    {
     "data": {
      "text/html": [
       "<div>\n",
       "<style scoped>\n",
       "    .dataframe tbody tr th:only-of-type {\n",
       "        vertical-align: middle;\n",
       "    }\n",
       "\n",
       "    .dataframe tbody tr th {\n",
       "        vertical-align: top;\n",
       "    }\n",
       "\n",
       "    .dataframe thead th {\n",
       "        text-align: right;\n",
       "    }\n",
       "</style>\n",
       "<table border=\"1\" class=\"dataframe\">\n",
       "  <thead>\n",
       "    <tr style=\"text-align: right;\">\n",
       "      <th></th>\n",
       "      <th></th>\n",
       "      <th>f1</th>\n",
       "      <th>precision</th>\n",
       "      <th>recall</th>\n",
       "      <th>annotation_time</th>\n",
       "      <th>count</th>\n",
       "    </tr>\n",
       "    <tr>\n",
       "      <th>group_name</th>\n",
       "      <th>quantile</th>\n",
       "      <th></th>\n",
       "      <th></th>\n",
       "      <th></th>\n",
       "      <th></th>\n",
       "      <th></th>\n",
       "    </tr>\n",
       "  </thead>\n",
       "  <tbody>\n",
       "    <tr>\n",
       "      <th rowspan=\"3\" valign=\"top\">high_low</th>\n",
       "      <th>0.05</th>\n",
       "      <td>-0.050778</td>\n",
       "      <td>-0.128129</td>\n",
       "      <td>-0.157619</td>\n",
       "      <td>0.179415</td>\n",
       "      <td>-0.487316</td>\n",
       "    </tr>\n",
       "    <tr>\n",
       "      <th>0.5</th>\n",
       "      <td>0.242028</td>\n",
       "      <td>0.129963</td>\n",
       "      <td>0.130221</td>\n",
       "      <td>0.422024</td>\n",
       "      <td>-0.125234</td>\n",
       "    </tr>\n",
       "    <tr>\n",
       "      <th>0.95</th>\n",
       "      <td>0.562168</td>\n",
       "      <td>0.424410</td>\n",
       "      <td>0.443987</td>\n",
       "      <td>0.674782</td>\n",
       "      <td>0.264265</td>\n",
       "    </tr>\n",
       "    <tr>\n",
       "      <th rowspan=\"3\" valign=\"top\">high_medium</th>\n",
       "      <th>0.05</th>\n",
       "      <td>-0.179449</td>\n",
       "      <td>-0.266568</td>\n",
       "      <td>-0.233207</td>\n",
       "      <td>-0.245247</td>\n",
       "      <td>-0.951492</td>\n",
       "    </tr>\n",
       "    <tr>\n",
       "      <th>0.5</th>\n",
       "      <td>0.136540</td>\n",
       "      <td>0.042695</td>\n",
       "      <td>0.071150</td>\n",
       "      <td>0.104695</td>\n",
       "      <td>-0.200607</td>\n",
       "    </tr>\n",
       "    <tr>\n",
       "      <th>0.95</th>\n",
       "      <td>0.447770</td>\n",
       "      <td>0.363390</td>\n",
       "      <td>0.367281</td>\n",
       "      <td>0.503196</td>\n",
       "      <td>0.564651</td>\n",
       "    </tr>\n",
       "    <tr>\n",
       "      <th rowspan=\"3\" valign=\"top\">medium_low</th>\n",
       "      <th>0.05</th>\n",
       "      <td>-0.223190</td>\n",
       "      <td>-0.215223</td>\n",
       "      <td>-0.276588</td>\n",
       "      <td>-0.066861</td>\n",
       "      <td>-0.719143</td>\n",
       "    </tr>\n",
       "    <tr>\n",
       "      <th>0.5</th>\n",
       "      <td>0.105487</td>\n",
       "      <td>0.087269</td>\n",
       "      <td>0.059072</td>\n",
       "      <td>0.317329</td>\n",
       "      <td>0.075373</td>\n",
       "    </tr>\n",
       "    <tr>\n",
       "      <th>0.95</th>\n",
       "      <td>0.458473</td>\n",
       "      <td>0.417689</td>\n",
       "      <td>0.419377</td>\n",
       "      <td>0.689025</td>\n",
       "      <td>0.841643</td>\n",
       "    </tr>\n",
       "  </tbody>\n",
       "</table>\n",
       "</div>"
      ],
      "text/plain": [
       "                            f1  precision    recall  annotation_time     count\n",
       "group_name  quantile                                                          \n",
       "high_low    0.05     -0.050778  -0.128129 -0.157619         0.179415 -0.487316\n",
       "            0.5       0.242028   0.129963  0.130221         0.422024 -0.125234\n",
       "            0.95      0.562168   0.424410  0.443987         0.674782  0.264265\n",
       "high_medium 0.05     -0.179449  -0.266568 -0.233207        -0.245247 -0.951492\n",
       "            0.5       0.136540   0.042695  0.071150         0.104695 -0.200607\n",
       "            0.95      0.447770   0.363390  0.367281         0.503196  0.564651\n",
       "medium_low  0.05     -0.223190  -0.215223 -0.276588        -0.066861 -0.719143\n",
       "            0.5       0.105487   0.087269  0.059072         0.317329  0.075373\n",
       "            0.95      0.458473   0.417689  0.419377         0.689025  0.841643"
      ]
     },
     "execution_count": 18,
     "metadata": {},
     "output_type": "execute_result"
    }
   ],
   "source": [
    "df_ci_h2"
   ]
  },
  {
   "cell_type": "markdown",
   "metadata": {},
   "source": [
    "#### p-value"
   ]
  },
  {
   "cell_type": "code",
   "execution_count": 19,
   "metadata": {},
   "outputs": [
    {
     "data": {
      "text/html": [
       "<div>\n",
       "<style scoped>\n",
       "    .dataframe tbody tr th:only-of-type {\n",
       "        vertical-align: middle;\n",
       "    }\n",
       "\n",
       "    .dataframe tbody tr th {\n",
       "        vertical-align: top;\n",
       "    }\n",
       "\n",
       "    .dataframe thead th {\n",
       "        text-align: right;\n",
       "    }\n",
       "</style>\n",
       "<table border=\"1\" class=\"dataframe\">\n",
       "  <thead>\n",
       "    <tr style=\"text-align: right;\">\n",
       "      <th></th>\n",
       "      <th>f1</th>\n",
       "      <th>precision</th>\n",
       "      <th>recall</th>\n",
       "      <th>annotation_time</th>\n",
       "      <th>count</th>\n",
       "      <th>group_name</th>\n",
       "    </tr>\n",
       "  </thead>\n",
       "  <tbody>\n",
       "    <tr>\n",
       "      <th>0</th>\n",
       "      <td>0.9126</td>\n",
       "      <td>0.7817</td>\n",
       "      <td>0.7562</td>\n",
       "      <td>0.9991</td>\n",
       "      <td>0.2866</td>\n",
       "      <td>high_low</td>\n",
       "    </tr>\n",
       "    <tr>\n",
       "      <th>0</th>\n",
       "      <td>0.7609</td>\n",
       "      <td>0.5834</td>\n",
       "      <td>0.6593</td>\n",
       "      <td>0.6571</td>\n",
       "      <td>0.3075</td>\n",
       "      <td>high_medium</td>\n",
       "    </tr>\n",
       "    <tr>\n",
       "      <th>0</th>\n",
       "      <td>0.6990</td>\n",
       "      <td>0.6739</td>\n",
       "      <td>0.6044</td>\n",
       "      <td>0.9162</td>\n",
       "      <td>0.5729</td>\n",
       "      <td>medium_low</td>\n",
       "    </tr>\n",
       "  </tbody>\n",
       "</table>\n",
       "</div>"
      ],
      "text/plain": [
       "       f1  precision  recall  annotation_time   count   group_name\n",
       "0  0.9126     0.7817  0.7562           0.9991  0.2866     high_low\n",
       "0  0.7609     0.5834  0.6593           0.6571  0.3075  high_medium\n",
       "0  0.6990     0.6739  0.6044           0.9162  0.5729   medium_low"
      ]
     },
     "execution_count": 19,
     "metadata": {},
     "output_type": "execute_result"
    }
   ],
   "source": [
    "df_p_value_h2"
   ]
  },
  {
   "cell_type": "markdown",
   "metadata": {},
   "source": [
    "#### Cohen's D"
   ]
  },
  {
   "cell_type": "code",
   "execution_count": 20,
   "metadata": {},
   "outputs": [
    {
     "data": {
      "text/html": [
       "<div>\n",
       "<style scoped>\n",
       "    .dataframe tbody tr th:only-of-type {\n",
       "        vertical-align: middle;\n",
       "    }\n",
       "\n",
       "    .dataframe tbody tr th {\n",
       "        vertical-align: top;\n",
       "    }\n",
       "\n",
       "    .dataframe thead th {\n",
       "        text-align: right;\n",
       "    }\n",
       "</style>\n",
       "<table border=\"1\" class=\"dataframe\">\n",
       "  <thead>\n",
       "    <tr style=\"text-align: right;\">\n",
       "      <th></th>\n",
       "      <th>f1</th>\n",
       "      <th>precision</th>\n",
       "      <th>recall</th>\n",
       "      <th>annotation_time</th>\n",
       "      <th>count</th>\n",
       "      <th>group_name</th>\n",
       "    </tr>\n",
       "  </thead>\n",
       "  <tbody>\n",
       "    <tr>\n",
       "      <th>0</th>\n",
       "      <td>1.723162</td>\n",
       "      <td>1.016452</td>\n",
       "      <td>0.951169</td>\n",
       "      <td>3.871704</td>\n",
       "      <td>-0.743473</td>\n",
       "      <td>high_low</td>\n",
       "    </tr>\n",
       "    <tr>\n",
       "      <th>0</th>\n",
       "      <td>1.043064</td>\n",
       "      <td>0.331404</td>\n",
       "      <td>0.565525</td>\n",
       "      <td>0.655281</td>\n",
       "      <td>-0.627671</td>\n",
       "      <td>high_medium</td>\n",
       "    </tr>\n",
       "    <tr>\n",
       "      <th>0</th>\n",
       "      <td>0.685506</td>\n",
       "      <td>0.608322</td>\n",
       "      <td>0.377857</td>\n",
       "      <td>1.944363</td>\n",
       "      <td>0.225508</td>\n",
       "      <td>medium_low</td>\n",
       "    </tr>\n",
       "  </tbody>\n",
       "</table>\n",
       "</div>"
      ],
      "text/plain": [
       "         f1  precision    recall  annotation_time     count   group_name\n",
       "0  1.723162   1.016452  0.951169         3.871704 -0.743473     high_low\n",
       "0  1.043064   0.331404  0.565525         0.655281 -0.627671  high_medium\n",
       "0  0.685506   0.608322  0.377857         1.944363  0.225508   medium_low"
      ]
     },
     "execution_count": 20,
     "metadata": {},
     "output_type": "execute_result"
    }
   ],
   "source": [
    "df_cohen_d_h2"
   ]
  },
  {
   "cell_type": "markdown",
   "metadata": {},
   "source": [
    "# 3. Analyse learning curve"
   ]
  },
  {
   "cell_type": "code",
   "execution_count": 21,
   "metadata": {},
   "outputs": [],
   "source": [
    "df['annotation_eval'] = (df['reference__output'] == df['annotation__output']).astype(int)\n",
    "df_high = df.query(\"test_group == 'high quality feedback'\")"
   ]
  },
  {
   "cell_type": "code",
   "execution_count": 22,
   "metadata": {},
   "outputs": [],
   "source": [
    "learning = LearningAnalyser(df_high)"
   ]
  },
  {
   "cell_type": "markdown",
   "metadata": {},
   "source": [
    "#### Learning curve stats"
   ]
  },
  {
   "cell_type": "code",
   "execution_count": 23,
   "metadata": {},
   "outputs": [
    {
     "data": {
      "text/html": [
       "<div>\n",
       "<style scoped>\n",
       "    .dataframe tbody tr th:only-of-type {\n",
       "        vertical-align: middle;\n",
       "    }\n",
       "\n",
       "    .dataframe tbody tr th {\n",
       "        vertical-align: top;\n",
       "    }\n",
       "\n",
       "    .dataframe thead th {\n",
       "        text-align: right;\n",
       "    }\n",
       "</style>\n",
       "<table border=\"1\" class=\"dataframe\">\n",
       "  <thead>\n",
       "    <tr style=\"text-align: right;\">\n",
       "      <th></th>\n",
       "      <th>Metryka</th>\n",
       "      <th>Wartość</th>\n",
       "    </tr>\n",
       "  </thead>\n",
       "  <tbody>\n",
       "    <tr>\n",
       "      <th>0</th>\n",
       "      <td>$\\alpha$</td>\n",
       "      <td>0.0</td>\n",
       "    </tr>\n",
       "    <tr>\n",
       "      <th>1</th>\n",
       "      <td>$\\beta$</td>\n",
       "      <td>0.049</td>\n",
       "    </tr>\n",
       "    <tr>\n",
       "      <th>2</th>\n",
       "      <td>$\\alpha_r$</td>\n",
       "      <td>+4.55%</td>\n",
       "    </tr>\n",
       "    <tr>\n",
       "      <th>3</th>\n",
       "      <td>$\\beta_r$</td>\n",
       "      <td>+21.15%</td>\n",
       "    </tr>\n",
       "  </tbody>\n",
       "</table>\n",
       "</div>"
      ],
      "text/plain": [
       "      Metryka  Wartość\n",
       "0    $\\alpha$      0.0\n",
       "1     $\\beta$    0.049\n",
       "2  $\\alpha_r$   +4.55%\n",
       "3   $\\beta_r$  +21.15%"
      ]
     },
     "execution_count": 23,
     "metadata": {},
     "output_type": "execute_result"
    }
   ],
   "source": [
    "learning_report = generate_learning_report(learning)\n",
    "learning_report"
   ]
  },
  {
   "cell_type": "markdown",
   "metadata": {},
   "source": [
    "#### Learning curve plot"
   ]
  },
  {
   "cell_type": "code",
   "execution_count": 24,
   "metadata": {},
   "outputs": [],
   "source": [
    "# styling fix\n",
    "learning_report['Wartość'] = learning_report['Wartość'].astype(str).str.replace(\".\", \",\")"
   ]
  },
  {
   "cell_type": "code",
   "execution_count": 25,
   "metadata": {},
   "outputs": [
    {
     "data": {
      "image/png": "[encoded data removed]",
      "text/plain": [
       "<Figure size 1500x500 with 2 Axes>"
      ]
     },
     "metadata": {},
     "output_type": "display_data"
    }
   ],
   "source": [
    "plot_learning_curve(learning, learning_report)"
   ]
  },
  {
   "cell_type": "markdown",
   "metadata": {},
   "source": [
    "## Generate latex tables"
   ]
  },
  {
   "cell_type": "code",
   "execution_count": 27,
   "metadata": {},
   "outputs": [],
   "source": [
    "latex_generator = create_latex_tables_generator(\n",
    "    df_percentage_ci_h1=df_percentage_ci_h1,\n",
    "    df_p_value_h1=df_p_value_h1,\n",
    "    df_cohen_d_h1=df_cohen_d_h1,\n",
    "    df_ci_h2=df_ci_h2,\n",
    "    df_p_value_h2=df_p_value_h2,\n",
    "    df_cohen_d_h2=df_cohen_d_h2\n",
    ")"
   ]
  },
  {
   "cell_type": "code",
   "execution_count": 28,
   "metadata": {},
   "outputs": [
    {
     "name": "stdout",
     "output_type": "stream",
     "text": [
      "\n",
      "\\begin{table}[H]\n",
      "\\centering\n",
      "\\caption{}\n",
      "\\label{tab:my-table}\n",
      "\\begin{tabular}{cccccc}\n",
      "\\rowcolor[HTML]{EFEFEF} \n",
      "\\multicolumn{1}{c|}{\\cellcolor[HTML]{EFEFEF}\\textbf{Warunek}} &\n",
      "  \\multicolumn{1}{c|}{\\cellcolor[HTML]{EFEFEF}\\boldmath$P_{05}$} &\n",
      "  \\multicolumn{1}{c|}{\\cellcolor[HTML]{EFEFEF}\\boldmath$\\mu$} &\n",
      "  \\multicolumn{1}{c|}{\\cellcolor[HTML]{EFEFEF}\\boldmath$P_{95}$} &\n",
      "  \\multicolumn{1}{c|}{\\cellcolor[HTML]{EFEFEF}\\boldmath$p$} &\n",
      "  \\boldmath$d$ \\\\ \\hline\n",
      "\\rowcolor[HTML]{EFEFEF} \n",
      "\\multicolumn{6}{c}{\\cellcolor[HTML]{EFEFEF}Hipoteza $H_1$ -- zmiana w metryce XXXX}                                                                                                        \\\\ \\hline\n",
      "        \\multicolumn{1}{c|}{$W_1$} & \\multicolumn{1}{c|}{+3.61\\%} & \\multicolumn{1}{c|}{+21.82\\%} & \\multicolumn{1}{c|}{+41.12\\%} & \\multicolumn{1}{c|}{0.9831} & 0.45 \\\\ \\hline\\multicolumn{1}{c|}{$W_2$} & \\multicolumn{1}{c|}{-14.99\\%} & \\multicolumn{1}{c|}{+8.16\\%} & \\multicolumn{1}{c|}{+32.81\\%} & \\multicolumn{1}{c|}{0.7048} & 0.19 \\\\ \\hline\\multicolumn{1}{c|}{$W_3$} & \\multicolumn{1}{c|}{-29.25\\%} & \\multicolumn{1}{c|}{-2.38\\%} & \\multicolumn{1}{c|}{+23.68\\%} & \\multicolumn{1}{c|}{0.4453} & -0.05 \\\\ \\hline\n",
      "\\rowcolor[HTML]{EFEFEF} \n",
      "\\multicolumn{6}{c}{\\cellcolor[HTML]{EFEFEF}Hipoteza $H_2$ -- zmiana w metryce XXXX}                                                                                                        \\\\ \\hline\n",
      "        \\multicolumn{1}{c|}{$W_1 - W_3$} & \\multicolumn{1}{c|}{-5.08\\%} & \\multicolumn{1}{c|}{+24.20\\%} & \\multicolumn{1}{c|}{+56.22\\%} & \\multicolumn{1}{c|}{0.9126} & 1.72 \\\\ \\hline\\multicolumn{1}{c|}{$W_1 - W_2$ } & \\multicolumn{1}{c|}{-17.94\\%} & \\multicolumn{1}{c|}{+13.65\\%} & \\multicolumn{1}{c|}{+44.78\\%} & \\multicolumn{1}{c|}{0.7609} & 1.04 \\\\ \\hline\\multicolumn{1}{c|}{$W_2 - W_3$} & \\multicolumn{1}{c|}{-22.32\\%} & \\multicolumn{1}{c|}{+10.55\\%} & \\multicolumn{1}{c|}{+45.85\\%} & \\multicolumn{1}{c|}{0.699} & 0.69 \\\\ \\hline\n",
      "\\rowcolor[HTML]{EFEFEF} \n",
      "\\multicolumn{6}{c}{\\cellcolor[HTML]{EFEFEF}Pytanie $P_2$ -- zmiana w szybkości pracy anotatorów}                                                                                                        \\\\ \\hline\n",
      "        \\multicolumn{1}{c|}{$W_1$} & \\multicolumn{1}{c|}{-12.77\\%} & \\multicolumn{1}{c|}{+4.03\\%} & \\multicolumn{1}{c|}{+21.89\\%} & \\multicolumn{1}{c|}{0.6476} & 0.08 \\\\ \\hline\\multicolumn{1}{c|}{$W_2$} & \\multicolumn{1}{c|}{-40.75\\%} & \\multicolumn{1}{c|}{-6.44\\%} & \\multicolumn{1}{c|}{+25.19\\%} & \\multicolumn{1}{c|}{0.393} & -0.12 \\\\ \\hline\\multicolumn{1}{c|}{$W_3$} & \\multicolumn{1}{c|}{-57.17\\%} & \\multicolumn{1}{c|}{-38.17\\%} & \\multicolumn{1}{c|}{-19.30\\%} & \\multicolumn{1}{c|}{0.0} & -1.13 \\\\ \\hline\n",
      "\\rowcolor[HTML]{EFEFEF} \n",
      "\\multicolumn{6}{c}{\\cellcolor[HTML]{EFEFEF}Pytanie $P_3$ -- zmiana w liczbie wykonanych anotacji}                                                                                                        \\\\ \\hline\n",
      "        \\multicolumn{1}{c|}{$W_1$} & \\multicolumn{1}{c|}{-10.56\\%} & \\multicolumn{1}{c|}{+10.24\\%} & \\multicolumn{1}{c|}{+33.14\\%} & \\multicolumn{1}{c|}{0.7527} & 0.17 \\\\ \\hline\\multicolumn{1}{c|}{$W_2$} & \\multicolumn{1}{c|}{-45.15\\%} & \\multicolumn{1}{c|}{+30.30\\%} & \\multicolumn{1}{c|}{+100.01\\%} & \\multicolumn{1}{c|}{0.7842} & 0.26 \\\\ \\hline\\multicolumn{1}{c|}{$W_3$} & \\multicolumn{1}{c|}{-9.21\\%} & \\multicolumn{1}{c|}{+22.76\\%} & \\multicolumn{1}{c|}{+55.29\\%} & \\multicolumn{1}{c|}{0.8749} & 0.38 \\\\ \\hline\n",
      "\\end{tabular}\n",
      "\\end{table}\n",
      "        \n"
     ]
    }
   ],
   "source": [
    "print(latex_generator.get_results_table(\"f1\"))"
   ]
  }
 ],
 "metadata": {
  "kernelspec": {
   "display_name": "Python 3 (ipykernel)",
   "language": "python",
   "name": "python3"
  },
  "language_info": {
   "codemirror_mode": {
    "name": "ipython",
    "version": 3
   },
   "file_extension": ".py",
   "mimetype": "text/x-python",
   "name": "python",
   "nbconvert_exporter": "python",
   "pygments_lexer": "ipython3",
   "version": "3.10.4"
  }
 },
 "nbformat": 4,
 "nbformat_minor": 4
}
