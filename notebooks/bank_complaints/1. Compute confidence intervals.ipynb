{
 "cells": [
  {
   "cell_type": "code",
   "execution_count": 4,
   "metadata": {},
   "outputs": [],
   "source": [
    "# general\n",
    "import time\n",
    "import matplotlib.pyplot as plt\n",
    "import pandas as pd\n",
    "import numpy as np\n",
    "import seaborn as sns\n",
    "from pytimeparse.timeparse import timeparse\n",
    "\n",
    "# sklearn\n",
    "from sklearn.metrics import (\n",
    "    accuracy_score, precision_score, recall_score, f1_score\n",
    ")\n",
    "\n",
    "# bootstrapped\n",
    "import bootstrapped.bootstrap as bs\n",
    "import bootstrapped.compare_functions as bs_compare\n",
    "import bootstrapped.stats_functions as bs_stats\n",
    "\n",
    "sns.set()"
   ]
  },
  {
   "cell_type": "code",
   "execution_count": 6,
   "metadata": {},
   "outputs": [],
   "source": [
    "def plot_accuracy_distribution(control_group, test_group, test_group_name, bins=30):\n",
    "    plt.figure(figsize=(10, 6))\n",
    "    bins = np.linspace(\n",
    "        df_user_error['accuracy'].min(),\n",
    "        df_user_error['accuracy'].max(),\n",
    "        bins\n",
    "    )\n",
    "\n",
    "    plt.hist(control_group, bins=bins, label=\"No feedback (control group)\", alpha=0.5)\n",
    "    plt.hist(test_group, bins=bins, label=f\"{test_group_name} (test group)\", color='orange', alpha=0.5)\n",
    "    plt.title('Comperation of accuracy distribution')\n",
    "    plt.legend()\n",
    "    \n",
    "\n",
    "def get_confidence_intervals(test_group, control_group):\n",
    "    ab = bs.bootstrap_ab(np.array(test_group), np.array(control_group), bs_stats.mean, bs_compare.percent_change)\n",
    "    return ab.value, ab.lower_bound, ab.upper_bound\n"
   ]
  },
  {
   "cell_type": "code",
   "execution_count": 7,
   "metadata": {},
   "outputs": [],
   "source": [
    "METRICS = [\"accuracy\", \"f1\", \"precision\", \"recall\"]\n",
    "TEST_GROUP_NAMES = ['high quality feedback']"
   ]
  },
  {
   "cell_type": "markdown",
   "metadata": {},
   "source": [
    "# 1. General statistics\n",
    "## 1.1. Read data"
   ]
  },
  {
   "cell_type": "code",
   "execution_count": 8,
   "metadata": {},
   "outputs": [],
   "source": [
    "df = pd.read_csv('../../data/bank_complaints/bank_complaints-dataset.csv')\n",
    "df['annotation__time'] = df['annotation__time'].apply(timeparse)"
   ]
  },
  {
   "cell_type": "markdown",
   "metadata": {},
   "source": [
    "## 1.2. Statistics\n",
    "### 1.2.1. General"
   ]
  },
  {
   "cell_type": "code",
   "execution_count": 9,
   "metadata": {},
   "outputs": [
    {
     "data": {
      "text/html": [
       "<div>\n",
       "<style scoped>\n",
       "    .dataframe tbody tr th:only-of-type {\n",
       "        vertical-align: middle;\n",
       "    }\n",
       "\n",
       "    .dataframe tbody tr th {\n",
       "        vertical-align: top;\n",
       "    }\n",
       "\n",
       "    .dataframe thead th {\n",
       "        text-align: right;\n",
       "    }\n",
       "</style>\n",
       "<table border=\"1\" class=\"dataframe\">\n",
       "  <thead>\n",
       "    <tr style=\"text-align: right;\">\n",
       "      <th></th>\n",
       "      <th>value</th>\n",
       "    </tr>\n",
       "    <tr>\n",
       "      <th>metric</th>\n",
       "      <th></th>\n",
       "    </tr>\n",
       "  </thead>\n",
       "  <tbody>\n",
       "    <tr>\n",
       "      <th>total_annotations</th>\n",
       "      <td>5562</td>\n",
       "    </tr>\n",
       "    <tr>\n",
       "      <th>unique_items</th>\n",
       "      <td>1950</td>\n",
       "    </tr>\n",
       "    <tr>\n",
       "      <th>unique_users</th>\n",
       "      <td>92</td>\n",
       "    </tr>\n",
       "    <tr>\n",
       "      <th>total_annotation_time</th>\n",
       "      <td>23h 48m 16s</td>\n",
       "    </tr>\n",
       "  </tbody>\n",
       "</table>\n",
       "</div>"
      ],
      "text/plain": [
       "                             value\n",
       "metric                            \n",
       "total_annotations             5562\n",
       "unique_items                  1950\n",
       "unique_users                    92\n",
       "total_annotation_time  23h 48m 16s"
      ]
     },
     "execution_count": 9,
     "metadata": {},
     "output_type": "execute_result"
    }
   ],
   "source": [
    "pd.DataFrame([\n",
    "    {\n",
    "        \"metric\": \"total_annotations\",\n",
    "        \"value\": len(df)\n",
    "    },\n",
    "    {\n",
    "        \"metric\": \"unique_items\",\n",
    "        \"value\": len(set(df['data__item_id'].values))\n",
    "    },\n",
    "    {\n",
    "        \"metric\": \"unique_users\",\n",
    "        \"value\": len(set(df['user__id'].values))\n",
    "    },\n",
    "    {\n",
    "        \"metric\": \"total_annotation_time\",\n",
    "        \"value\": time.strftime('%Hh %Mm %Ss', time.gmtime(df['annotation__time'].sum()))\n",
    "    },\n",
    "]).set_index(\"metric\")\n",
    "    "
   ]
  },
  {
   "cell_type": "markdown",
   "metadata": {},
   "source": [
    "### 1.2.2. Annotations per item"
   ]
  },
  {
   "cell_type": "code",
   "execution_count": 52,
   "metadata": {
    "scrolled": true
   },
   "outputs": [
    {
     "data": {
      "text/html": [
       "<div>\n",
       "<style scoped>\n",
       "    .dataframe tbody tr th:only-of-type {\n",
       "        vertical-align: middle;\n",
       "    }\n",
       "\n",
       "    .dataframe tbody tr th {\n",
       "        vertical-align: top;\n",
       "    }\n",
       "\n",
       "    .dataframe thead th {\n",
       "        text-align: right;\n",
       "    }\n",
       "</style>\n",
       "<table border=\"1\" class=\"dataframe\">\n",
       "  <thead>\n",
       "    <tr style=\"text-align: right;\">\n",
       "      <th></th>\n",
       "      <th>item_id</th>\n",
       "    </tr>\n",
       "  </thead>\n",
       "  <tbody>\n",
       "    <tr>\n",
       "      <th>count</th>\n",
       "      <td>1950.000000</td>\n",
       "    </tr>\n",
       "    <tr>\n",
       "      <th>mean</th>\n",
       "      <td>2.852308</td>\n",
       "    </tr>\n",
       "    <tr>\n",
       "      <th>std</th>\n",
       "      <td>0.772628</td>\n",
       "    </tr>\n",
       "    <tr>\n",
       "      <th>min</th>\n",
       "      <td>1.000000</td>\n",
       "    </tr>\n",
       "    <tr>\n",
       "      <th>25%</th>\n",
       "      <td>3.000000</td>\n",
       "    </tr>\n",
       "    <tr>\n",
       "      <th>50%</th>\n",
       "      <td>3.000000</td>\n",
       "    </tr>\n",
       "    <tr>\n",
       "      <th>75%</th>\n",
       "      <td>3.000000</td>\n",
       "    </tr>\n",
       "    <tr>\n",
       "      <th>max</th>\n",
       "      <td>6.000000</td>\n",
       "    </tr>\n",
       "  </tbody>\n",
       "</table>\n",
       "</div>"
      ],
      "text/plain": [
       "           item_id\n",
       "count  1950.000000\n",
       "mean      2.852308\n",
       "std       0.772628\n",
       "min       1.000000\n",
       "25%       3.000000\n",
       "50%       3.000000\n",
       "75%       3.000000\n",
       "max       6.000000"
      ]
     },
     "execution_count": 52,
     "metadata": {},
     "output_type": "execute_result"
    }
   ],
   "source": [
    "pd.DataFrame(df['item_id'].value_counts().describe())"
   ]
  },
  {
   "cell_type": "markdown",
   "metadata": {},
   "source": [
    "### 1.2.3. Annotations per user"
   ]
  },
  {
   "cell_type": "code",
   "execution_count": 53,
   "metadata": {},
   "outputs": [
    {
     "data": {
      "text/html": [
       "<div>\n",
       "<style scoped>\n",
       "    .dataframe tbody tr th:only-of-type {\n",
       "        vertical-align: middle;\n",
       "    }\n",
       "\n",
       "    .dataframe tbody tr th {\n",
       "        vertical-align: top;\n",
       "    }\n",
       "\n",
       "    .dataframe thead th {\n",
       "        text-align: right;\n",
       "    }\n",
       "</style>\n",
       "<table border=\"1\" class=\"dataframe\">\n",
       "  <thead>\n",
       "    <tr style=\"text-align: right;\">\n",
       "      <th></th>\n",
       "      <th>user__id</th>\n",
       "    </tr>\n",
       "  </thead>\n",
       "  <tbody>\n",
       "    <tr>\n",
       "      <th>count</th>\n",
       "      <td>92.000000</td>\n",
       "    </tr>\n",
       "    <tr>\n",
       "      <th>mean</th>\n",
       "      <td>60.456522</td>\n",
       "    </tr>\n",
       "    <tr>\n",
       "      <th>std</th>\n",
       "      <td>34.836009</td>\n",
       "    </tr>\n",
       "    <tr>\n",
       "      <th>min</th>\n",
       "      <td>11.000000</td>\n",
       "    </tr>\n",
       "    <tr>\n",
       "      <th>25%</th>\n",
       "      <td>50.000000</td>\n",
       "    </tr>\n",
       "    <tr>\n",
       "      <th>50%</th>\n",
       "      <td>50.000000</td>\n",
       "    </tr>\n",
       "    <tr>\n",
       "      <th>75%</th>\n",
       "      <td>51.000000</td>\n",
       "    </tr>\n",
       "    <tr>\n",
       "      <th>max</th>\n",
       "      <td>302.000000</td>\n",
       "    </tr>\n",
       "  </tbody>\n",
       "</table>\n",
       "</div>"
      ],
      "text/plain": [
       "         user__id\n",
       "count   92.000000\n",
       "mean    60.456522\n",
       "std     34.836009\n",
       "min     11.000000\n",
       "25%     50.000000\n",
       "50%     50.000000\n",
       "75%     51.000000\n",
       "max    302.000000"
      ]
     },
     "execution_count": 53,
     "metadata": {},
     "output_type": "execute_result"
    }
   ],
   "source": [
    "pd.DataFrame(df['user__id'].value_counts().describe())"
   ]
  },
  {
   "cell_type": "markdown",
   "metadata": {},
   "source": [
    "## 1.3. Compute user's annotation quality metrics\n",
    "- In this section we aggregate the raw result to compute the quality metrics value per user\n",
    "- To measure the quality of user's annotation we use: accuracy, recall, f1 and precision metrics\n",
    "- Mean error is computed for each user in each test_group separately.<br/>\n",
    "This way we can check how each user did in each test conditions"
   ]
  },
  {
   "cell_type": "code",
   "execution_count": null,
   "metadata": {},
   "outputs": [],
   "source": [
    "data = []\n",
    "for (test_group, user_feedback, user_id), group in df.groupby(['test_group', 'user__feedback', 'user__id']):\n",
    "    y_true = group['reference__output']\n",
    "    y_pred = group['annotation__output']\n",
    "\n",
    "    data.append({\n",
    "        'test_group': test_group,\n",
    "        'user__feedback': user_feedback,\n",
    "        'user__id': user_id,\n",
    "        'count': len(group),\n",
    "        'precision': precision_score(y_true, y_pred, average='macro'),\n",
    "        'recall': recall_score(y_true, y_pred, average='macro'),\n",
    "        'f1': f1_score(y_true, y_pred, average='macro'),\n",
    "        'accuracy': accuracy_score(y_true, y_pred)\n",
    "    })\n",
    "\n",
    "df_user_error = pd.DataFrame(data)"
   ]
  },
  {
   "cell_type": "code",
   "execution_count": 110,
   "metadata": {},
   "outputs": [
    {
     "data": {
      "text/html": [
       "<div>\n",
       "<style scoped>\n",
       "    .dataframe tbody tr th:only-of-type {\n",
       "        vertical-align: middle;\n",
       "    }\n",
       "\n",
       "    .dataframe tbody tr th {\n",
       "        vertical-align: top;\n",
       "    }\n",
       "\n",
       "    .dataframe thead tr th {\n",
       "        text-align: left;\n",
       "    }\n",
       "\n",
       "    .dataframe thead tr:last-of-type th {\n",
       "        text-align: right;\n",
       "    }\n",
       "</style>\n",
       "<table border=\"1\" class=\"dataframe\">\n",
       "  <thead>\n",
       "    <tr>\n",
       "      <th></th>\n",
       "      <th></th>\n",
       "      <th></th>\n",
       "      <th colspan=\"2\" halign=\"left\">accuracy</th>\n",
       "      <th colspan=\"2\" halign=\"left\">f1</th>\n",
       "      <th colspan=\"2\" halign=\"left\">precision</th>\n",
       "      <th colspan=\"2\" halign=\"left\">recall</th>\n",
       "    </tr>\n",
       "    <tr>\n",
       "      <th></th>\n",
       "      <th></th>\n",
       "      <th></th>\n",
       "      <th>mean</th>\n",
       "      <th>std</th>\n",
       "      <th>mean</th>\n",
       "      <th>std</th>\n",
       "      <th>mean</th>\n",
       "      <th>std</th>\n",
       "      <th>mean</th>\n",
       "      <th>std</th>\n",
       "    </tr>\n",
       "    <tr>\n",
       "      <th>test_group</th>\n",
       "      <th>user__feedback</th>\n",
       "      <th>users_count</th>\n",
       "      <th></th>\n",
       "      <th></th>\n",
       "      <th></th>\n",
       "      <th></th>\n",
       "      <th></th>\n",
       "      <th></th>\n",
       "      <th></th>\n",
       "      <th></th>\n",
       "    </tr>\n",
       "  </thead>\n",
       "  <tbody>\n",
       "    <tr>\n",
       "      <th rowspan=\"2\" valign=\"top\">high quality feedback</th>\n",
       "      <th>False</th>\n",
       "      <th>58</th>\n",
       "      <td>0.219198</td>\n",
       "      <td>0.072510</td>\n",
       "      <td>0.197726</td>\n",
       "      <td>0.069215</td>\n",
       "      <td>0.238604</td>\n",
       "      <td>0.109105</td>\n",
       "      <td>0.220149</td>\n",
       "      <td>0.068474</td>\n",
       "    </tr>\n",
       "    <tr>\n",
       "      <th>True</th>\n",
       "      <th>34</th>\n",
       "      <td>0.269438</td>\n",
       "      <td>0.112838</td>\n",
       "      <td>0.240057</td>\n",
       "      <td>0.125746</td>\n",
       "      <td>0.257251</td>\n",
       "      <td>0.137385</td>\n",
       "      <td>0.248390</td>\n",
       "      <td>0.122053</td>\n",
       "    </tr>\n",
       "  </tbody>\n",
       "</table>\n",
       "</div>"
      ],
      "text/plain": [
       "                                                  accuracy            \\\n",
       "                                                      mean       std   \n",
       "test_group            user__feedback users_count                       \n",
       "high quality feedback False          58           0.219198  0.072510   \n",
       "                      True           34           0.269438  0.112838   \n",
       "\n",
       "                                                        f1            \\\n",
       "                                                      mean       std   \n",
       "test_group            user__feedback users_count                       \n",
       "high quality feedback False          58           0.197726  0.069215   \n",
       "                      True           34           0.240057  0.125746   \n",
       "\n",
       "                                                 precision            \\\n",
       "                                                      mean       std   \n",
       "test_group            user__feedback users_count                       \n",
       "high quality feedback False          58           0.238604  0.109105   \n",
       "                      True           34           0.257251  0.137385   \n",
       "\n",
       "                                                    recall            \n",
       "                                                      mean       std  \n",
       "test_group            user__feedback users_count                      \n",
       "high quality feedback False          58           0.220149  0.068474  \n",
       "                      True           34           0.248390  0.122053  "
      ]
     },
     "execution_count": 110,
     "metadata": {},
     "output_type": "execute_result"
    }
   ],
   "source": [
    "pd.merge(\n",
    "    df_user_error,\n",
    "    df_user_error.groupby(\n",
    "        ['test_group', 'user__feedback']\n",
    "    )['user__id'].count().to_frame('users_count'),\n",
    "    on=['test_group', 'user__feedback']\n",
    ").groupby(\n",
    "    ['test_group', 'user__feedback', 'users_count']\n",
    ")[METRICS].aggregate(['mean', 'std'])"
   ]
  },
  {
   "cell_type": "markdown",
   "metadata": {},
   "source": [
    "## 1.4. Accuracy distribution for control group and high quality feedback test group\n",
    "Below you can see a plot showing a accuracy distribution difference for the control group and the test group with the high quality feedback\n",
    "### 1.4.1. Histogram"
   ]
  },
  {
   "cell_type": "code",
   "execution_count": 111,
   "metadata": {},
   "outputs": [],
   "source": [
    "test_group_name = \"high quality feedback\"\n",
    "\n",
    "control_group = df_user_error[\n",
    "    (df_user_error['test_group'] == \"high quality feedback\") &\n",
    "    (df_user_error['user__feedback'] == False)\n",
    "]['accuracy']\n",
    "    \n",
    "test_group = df_user_error[\n",
    "    (df_user_error['test_group'] == test_group_name) &\n",
    "    (df_user_error['user__feedback'] == True)\n",
    "]['accuracy']"
   ]
  },
  {
   "cell_type": "code",
   "execution_count": 112,
   "metadata": {},
   "outputs": [
    {
     "data": {
      "image/png": "[encoded data removed]",
      "text/plain": [
       "<Figure size 720x432 with 1 Axes>"
      ]
     },
     "metadata": {},
     "output_type": "display_data"
    }
   ],
   "source": [
    "plot_accuracy_distribution(control_group, test_group, test_group_name)"
   ]
  },
  {
   "cell_type": "markdown",
   "metadata": {},
   "source": [
    "### 1.4.2. Boxplot"
   ]
  },
  {
   "cell_type": "code",
   "execution_count": 113,
   "metadata": {},
   "outputs": [],
   "source": [
    "_df = df_user_error.copy()\n",
    "_df.loc[_df['user__feedback'] == False, 'test_group'] = \"control group\""
   ]
  },
  {
   "cell_type": "code",
   "execution_count": 117,
   "metadata": {},
   "outputs": [
    {
     "data": {
      "text/plain": [
       "<AxesSubplot:title={'center':'Distribution of accuracy metric between test groups'}, xlabel='test_group', ylabel='accuracy'>"
      ]
     },
     "execution_count": 117,
     "metadata": {},
     "output_type": "execute_result"
    },
    {
     "data": {
      "image/png": "[encoded data removed]",
      "text/plain": [
       "<Figure size 720x432 with 1 Axes>"
      ]
     },
     "metadata": {},
     "output_type": "display_data"
    }
   ],
   "source": [
    "plt.figure(figsize=(10, 6))\n",
    "plt.title(\"Distribution of accuracy metric between test groups\")\n",
    "sns.boxplot(x='test_group', y='accuracy', data=_df, order=[\"control group\"] + TEST_GROUP_NAMES)"
   ]
  },
  {
   "cell_type": "markdown",
   "metadata": {},
   "source": [
    "# 2. Confidence intervals\n",
    "## 2.1. Compute confidence intervals for test groups\n",
    "In this section we compute the confidence intervals for the percentage quality change between the control group and each of the test groups."
   ]
  },
  {
   "cell_type": "code",
   "execution_count": 99,
   "metadata": {},
   "outputs": [
    {
     "data": {
      "text/html": [
       "<div>\n",
       "<style scoped>\n",
       "    .dataframe tbody tr th:only-of-type {\n",
       "        vertical-align: middle;\n",
       "    }\n",
       "\n",
       "    .dataframe tbody tr th {\n",
       "        vertical-align: top;\n",
       "    }\n",
       "\n",
       "    .dataframe thead th {\n",
       "        text-align: right;\n",
       "    }\n",
       "</style>\n",
       "<table border=\"1\" class=\"dataframe\">\n",
       "  <thead>\n",
       "    <tr style=\"text-align: right;\">\n",
       "      <th></th>\n",
       "      <th>test_group_name</th>\n",
       "      <th>metric</th>\n",
       "      <th>lower_bound</th>\n",
       "      <th>mean</th>\n",
       "      <th>upper_bound</th>\n",
       "    </tr>\n",
       "  </thead>\n",
       "  <tbody>\n",
       "    <tr>\n",
       "      <th>0</th>\n",
       "      <td>high quality feedback</td>\n",
       "      <td>accuracy</td>\n",
       "      <td>1.074362</td>\n",
       "      <td>22.920190</td>\n",
       "      <td>40.801360</td>\n",
       "    </tr>\n",
       "    <tr>\n",
       "      <th>1</th>\n",
       "      <td>high quality feedback</td>\n",
       "      <td>f1</td>\n",
       "      <td>-4.794608</td>\n",
       "      <td>21.408457</td>\n",
       "      <td>42.796260</td>\n",
       "    </tr>\n",
       "    <tr>\n",
       "      <th>2</th>\n",
       "      <td>high quality feedback</td>\n",
       "      <td>precision</td>\n",
       "      <td>-17.565653</td>\n",
       "      <td>7.814834</td>\n",
       "      <td>28.735605</td>\n",
       "    </tr>\n",
       "    <tr>\n",
       "      <th>3</th>\n",
       "      <td>high quality feedback</td>\n",
       "      <td>recall</td>\n",
       "      <td>-9.221628</td>\n",
       "      <td>12.828188</td>\n",
       "      <td>31.394520</td>\n",
       "    </tr>\n",
       "  </tbody>\n",
       "</table>\n",
       "</div>"
      ],
      "text/plain": [
       "         test_group_name     metric  lower_bound       mean  upper_bound\n",
       "0  high quality feedback   accuracy     1.074362  22.920190    40.801360\n",
       "1  high quality feedback         f1    -4.794608  21.408457    42.796260\n",
       "2  high quality feedback  precision   -17.565653   7.814834    28.735605\n",
       "3  high quality feedback     recall    -9.221628  12.828188    31.394520"
      ]
     },
     "execution_count": 99,
     "metadata": {},
     "output_type": "execute_result"
    }
   ],
   "source": [
    "data = []\n",
    "\n",
    "for metric in METRICS:\n",
    "    \n",
    "    control_group = df_user_error[\n",
    "        (df_user_error['test_group'] == \"high quality feedback\") &\n",
    "        (df_user_error['user__feedback'] == False)\n",
    "    ][metric]\n",
    "    \n",
    "    for test_group_name in TEST_GROUP_NAMES:\n",
    "        test_group = df_user_error[\n",
    "            (df_user_error['test_group'] == test_group_name) &\n",
    "            (df_user_error['user__feedback'] == True)\n",
    "        ][metric]\n",
    "        mean, lower_bound, upper_bound = get_confidence_intervals(test_group, control_group)\n",
    "\n",
    "        data.append({\n",
    "            \"test_group_name\": test_group_name,\n",
    "            \"metric\": metric,\n",
    "            \"lower_bound\": lower_bound,\n",
    "            \"mean\": mean,\n",
    "            \"upper_bound\": upper_bound\n",
    "        })\n",
    "\n",
    "pd.DataFrame(data)"
   ]
  }
 ],
 "metadata": {
  "kernelspec": {
   "display_name": "Python 3",
   "language": "python",
   "name": "python3"
  },
  "language_info": {
   "codemirror_mode": {
    "name": "ipython",
    "version": 3
   },
   "file_extension": ".py",
   "mimetype": "text/x-python",
   "name": "python",
   "nbconvert_exporter": "python",
   "pygments_lexer": "ipython3",
   "version": "3.6.9"
  }
 },
 "nbformat": 4,
 "nbformat_minor": 4
}
